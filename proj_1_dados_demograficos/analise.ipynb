{
 "cells": [
  {
   "cell_type": "code",
   "execution_count": 1,
   "metadata": {},
   "outputs": [],
   "source": [
    "# importando os modulos que vamos usar\n",
    "import numpy as np\n",
    "import pandas as pd\n",
    "import matplotlib.pyplot as plt\n",
    "import seaborn as sns\n",
    "import plotly.express as px\n",
    "import plotly.graph_objs as pg\n",
    "from plotly.subplots import make_subplots"
   ]
  },
  {
   "cell_type": "code",
   "execution_count": 2,
   "metadata": {},
   "outputs": [],
   "source": [
    "# Setando configuração do pandas\n",
    "pd.set_option('display.max_columns',None)\n",
    "pd.set_option('display.max_rows',None)\n",
    "pd.set_option('display.max_colwidth', None)"
   ]
  },
  {
   "cell_type": "code",
   "execution_count": 3,
   "metadata": {},
   "outputs": [
    {
     "data": {
      "text/html": [
       "<div>\n",
       "<style scoped>\n",
       "    .dataframe tbody tr th:only-of-type {\n",
       "        vertical-align: middle;\n",
       "    }\n",
       "\n",
       "    .dataframe tbody tr th {\n",
       "        vertical-align: top;\n",
       "    }\n",
       "\n",
       "    .dataframe thead th {\n",
       "        text-align: right;\n",
       "    }\n",
       "</style>\n",
       "<table border=\"1\" class=\"dataframe\">\n",
       "  <thead>\n",
       "    <tr style=\"text-align: right;\">\n",
       "      <th></th>\n",
       "      <th>Country</th>\n",
       "      <th>Year</th>\n",
       "      <th>Status</th>\n",
       "      <th>Life expectancy (men)</th>\n",
       "      <th>Life expectancy(women)</th>\n",
       "      <th>Adult Mortality (men)</th>\n",
       "      <th>Adult Mortality (women)</th>\n",
       "      <th>Infant deaths</th>\n",
       "      <th>Alcohol</th>\n",
       "      <th>Percentage expenditure</th>\n",
       "      <th>Hepatitis B(men)</th>\n",
       "      <th>Hepatitis B(women)</th>\n",
       "      <th>Measles</th>\n",
       "      <th>BMI</th>\n",
       "      <th>Under-five deaths</th>\n",
       "      <th>Polio</th>\n",
       "      <th>Total expenditure</th>\n",
       "      <th>Diphtheria</th>\n",
       "      <th>HIV/AIDS</th>\n",
       "      <th>GDP</th>\n",
       "      <th>Population</th>\n",
       "      <th>thinness  1-19 years</th>\n",
       "      <th>thinness 5-9 years</th>\n",
       "      <th>Income composition of resources</th>\n",
       "      <th>Schooling</th>\n",
       "    </tr>\n",
       "  </thead>\n",
       "  <tbody>\n",
       "    <tr>\n",
       "      <th>0</th>\n",
       "      <td>Afghanistan</td>\n",
       "      <td>2015</td>\n",
       "      <td>Developing</td>\n",
       "      <td>70</td>\n",
       "      <td>66</td>\n",
       "      <td>67</td>\n",
       "      <td>65</td>\n",
       "      <td>62</td>\n",
       "      <td>0.01</td>\n",
       "      <td>71.279624</td>\n",
       "      <td>40</td>\n",
       "      <td>40</td>\n",
       "      <td>1154</td>\n",
       "      <td>19.1</td>\n",
       "      <td>83</td>\n",
       "      <td>6.0</td>\n",
       "      <td>8.16</td>\n",
       "      <td>65.0</td>\n",
       "      <td>0.1</td>\n",
       "      <td>584.259210</td>\n",
       "      <td>33736494.0</td>\n",
       "      <td>17.2</td>\n",
       "      <td>17.3</td>\n",
       "      <td>0.479</td>\n",
       "      <td>10.1</td>\n",
       "    </tr>\n",
       "    <tr>\n",
       "      <th>1</th>\n",
       "      <td>Afghanistan</td>\n",
       "      <td>2014</td>\n",
       "      <td>Developing</td>\n",
       "      <td>59</td>\n",
       "      <td>67</td>\n",
       "      <td>73</td>\n",
       "      <td>85</td>\n",
       "      <td>64</td>\n",
       "      <td>0.01</td>\n",
       "      <td>73.523582</td>\n",
       "      <td>20</td>\n",
       "      <td>43</td>\n",
       "      <td>492</td>\n",
       "      <td>18.6</td>\n",
       "      <td>86</td>\n",
       "      <td>58.0</td>\n",
       "      <td>8.18</td>\n",
       "      <td>62.0</td>\n",
       "      <td>0.1</td>\n",
       "      <td>612.696514</td>\n",
       "      <td>327582.0</td>\n",
       "      <td>17.5</td>\n",
       "      <td>17.5</td>\n",
       "      <td>0.476</td>\n",
       "      <td>10.0</td>\n",
       "    </tr>\n",
       "    <tr>\n",
       "      <th>2</th>\n",
       "      <td>Afghanistan</td>\n",
       "      <td>2013</td>\n",
       "      <td>Developing</td>\n",
       "      <td>79</td>\n",
       "      <td>51</td>\n",
       "      <td>87</td>\n",
       "      <td>67</td>\n",
       "      <td>66</td>\n",
       "      <td>0.01</td>\n",
       "      <td>73.219243</td>\n",
       "      <td>25</td>\n",
       "      <td>39</td>\n",
       "      <td>430</td>\n",
       "      <td>18.1</td>\n",
       "      <td>89</td>\n",
       "      <td>62.0</td>\n",
       "      <td>8.13</td>\n",
       "      <td>64.0</td>\n",
       "      <td>0.1</td>\n",
       "      <td>631.744976</td>\n",
       "      <td>31731688.0</td>\n",
       "      <td>17.7</td>\n",
       "      <td>17.7</td>\n",
       "      <td>0.470</td>\n",
       "      <td>9.9</td>\n",
       "    </tr>\n",
       "    <tr>\n",
       "      <th>3</th>\n",
       "      <td>Afghanistan</td>\n",
       "      <td>2012</td>\n",
       "      <td>Developing</td>\n",
       "      <td>65</td>\n",
       "      <td>81</td>\n",
       "      <td>63</td>\n",
       "      <td>91</td>\n",
       "      <td>69</td>\n",
       "      <td>0.01</td>\n",
       "      <td>78.184215</td>\n",
       "      <td>54</td>\n",
       "      <td>42</td>\n",
       "      <td>2787</td>\n",
       "      <td>17.6</td>\n",
       "      <td>93</td>\n",
       "      <td>67.0</td>\n",
       "      <td>8.52</td>\n",
       "      <td>67.0</td>\n",
       "      <td>0.1</td>\n",
       "      <td>669.959000</td>\n",
       "      <td>3696958.0</td>\n",
       "      <td>17.9</td>\n",
       "      <td>18.0</td>\n",
       "      <td>0.463</td>\n",
       "      <td>9.8</td>\n",
       "    </tr>\n",
       "    <tr>\n",
       "      <th>4</th>\n",
       "      <td>Afghanistan</td>\n",
       "      <td>2011</td>\n",
       "      <td>Developing</td>\n",
       "      <td>76</td>\n",
       "      <td>75</td>\n",
       "      <td>57</td>\n",
       "      <td>72</td>\n",
       "      <td>71</td>\n",
       "      <td>0.01</td>\n",
       "      <td>7.097109</td>\n",
       "      <td>48</td>\n",
       "      <td>24</td>\n",
       "      <td>3013</td>\n",
       "      <td>17.2</td>\n",
       "      <td>97</td>\n",
       "      <td>68.0</td>\n",
       "      <td>7.87</td>\n",
       "      <td>68.0</td>\n",
       "      <td>0.1</td>\n",
       "      <td>63.537231</td>\n",
       "      <td>2978599.0</td>\n",
       "      <td>18.2</td>\n",
       "      <td>18.2</td>\n",
       "      <td>0.454</td>\n",
       "      <td>9.5</td>\n",
       "    </tr>\n",
       "  </tbody>\n",
       "</table>\n",
       "</div>"
      ],
      "text/plain": [
       "       Country  Year      Status  Life expectancy (men)  \\\n",
       "0  Afghanistan  2015  Developing                     70   \n",
       "1  Afghanistan  2014  Developing                     59   \n",
       "2  Afghanistan  2013  Developing                     79   \n",
       "3  Afghanistan  2012  Developing                     65   \n",
       "4  Afghanistan  2011  Developing                     76   \n",
       "\n",
       "   Life expectancy(women)  Adult Mortality (men)  Adult Mortality (women)  \\\n",
       "0                      66                     67                       65   \n",
       "1                      67                     73                       85   \n",
       "2                      51                     87                       67   \n",
       "3                      81                     63                       91   \n",
       "4                      75                     57                       72   \n",
       "\n",
       "   Infant deaths  Alcohol  Percentage expenditure  Hepatitis B(men)  \\\n",
       "0             62     0.01               71.279624                40   \n",
       "1             64     0.01               73.523582                20   \n",
       "2             66     0.01               73.219243                25   \n",
       "3             69     0.01               78.184215                54   \n",
       "4             71     0.01                7.097109                48   \n",
       "\n",
       "   Hepatitis B(women)  Measles   BMI  Under-five deaths  Polio  \\\n",
       "0                  40     1154  19.1                 83    6.0   \n",
       "1                  43      492  18.6                 86   58.0   \n",
       "2                  39      430  18.1                 89   62.0   \n",
       "3                  42     2787  17.6                 93   67.0   \n",
       "4                  24     3013  17.2                 97   68.0   \n",
       "\n",
       "   Total expenditure  Diphtheria   HIV/AIDS         GDP  Population  \\\n",
       "0               8.16         65.0       0.1  584.259210  33736494.0   \n",
       "1               8.18         62.0       0.1  612.696514    327582.0   \n",
       "2               8.13         64.0       0.1  631.744976  31731688.0   \n",
       "3               8.52         67.0       0.1  669.959000   3696958.0   \n",
       "4               7.87         68.0       0.1   63.537231   2978599.0   \n",
       "\n",
       "   thinness  1-19 years  thinness 5-9 years  Income composition of resources  \\\n",
       "0                  17.2                17.3                            0.479   \n",
       "1                  17.5                17.5                            0.476   \n",
       "2                  17.7                17.7                            0.470   \n",
       "3                  17.9                18.0                            0.463   \n",
       "4                  18.2                18.2                            0.454   \n",
       "\n",
       "   Schooling  \n",
       "0       10.1  \n",
       "1       10.0  \n",
       "2        9.9  \n",
       "3        9.8  \n",
       "4        9.5  "
      ]
     },
     "execution_count": 3,
     "metadata": {},
     "output_type": "execute_result"
    }
   ],
   "source": [
    "# importando os dados\n",
    "df = pd.read_csv(\"lf data.csv\")\n",
    "df.head()"
   ]
  },
  {
   "cell_type": "code",
   "execution_count": 4,
   "metadata": {},
   "outputs": [
    {
     "data": {
      "text/plain": [
       "(2938, 25)"
      ]
     },
     "execution_count": 4,
     "metadata": {},
     "output_type": "execute_result"
    }
   ],
   "source": [
    "df.shape"
   ]
  },
  {
   "cell_type": "code",
   "execution_count": 5,
   "metadata": {},
   "outputs": [
    {
     "name": "stdout",
     "output_type": "stream",
     "text": [
      "<class 'pandas.core.frame.DataFrame'>\n",
      "RangeIndex: 2938 entries, 0 to 2937\n",
      "Data columns (total 25 columns):\n",
      " #   Column                           Non-Null Count  Dtype  \n",
      "---  ------                           --------------  -----  \n",
      " 0   Country                          2938 non-null   object \n",
      " 1   Year                             2938 non-null   int64  \n",
      " 2   Status                           2938 non-null   object \n",
      " 3   Life expectancy (men)            2938 non-null   int64  \n",
      " 4   Life expectancy(women)           2938 non-null   int64  \n",
      " 5   Adult Mortality (men)            2938 non-null   int64  \n",
      " 6   Adult Mortality (women)          2938 non-null   int64  \n",
      " 7   Infant deaths                    2938 non-null   int64  \n",
      " 8   Alcohol                          2744 non-null   float64\n",
      " 9   Percentage expenditure           2938 non-null   float64\n",
      " 10  Hepatitis B(men)                 2938 non-null   int64  \n",
      " 11  Hepatitis B(women)               2938 non-null   int64  \n",
      " 12  Measles                          2938 non-null   int64  \n",
      " 13  BMI                              2904 non-null   float64\n",
      " 14  Under-five deaths                2938 non-null   int64  \n",
      " 15  Polio                            2919 non-null   float64\n",
      " 16  Total expenditure                2712 non-null   float64\n",
      " 17  Diphtheria                       2919 non-null   float64\n",
      " 18  HIV/AIDS                         2938 non-null   float64\n",
      " 19  GDP                              2490 non-null   float64\n",
      " 20  Population                       2286 non-null   float64\n",
      " 21  thinness  1-19 years             2904 non-null   float64\n",
      " 22  thinness 5-9 years               2904 non-null   float64\n",
      " 23  Income composition of resources  2771 non-null   float64\n",
      " 24  Schooling                        2775 non-null   float64\n",
      "dtypes: float64(13), int64(10), object(2)\n",
      "memory usage: 574.0+ KB\n"
     ]
    }
   ],
   "source": [
    "df.info(verbose=True, show_counts=True)"
   ]
  },
  {
   "cell_type": "code",
   "execution_count": 6,
   "metadata": {},
   "outputs": [
    {
     "data": {
      "text/plain": [
       "Country                             object\n",
       "Year                                 int64\n",
       "Status                              object\n",
       "Life expectancy (men)                int64\n",
       "Life expectancy(women)               int64\n",
       "Adult Mortality (men)                int64\n",
       "Adult Mortality (women)              int64\n",
       "Infant deaths                        int64\n",
       "Alcohol                            float64\n",
       "Percentage expenditure             float64\n",
       "Hepatitis B(men)                     int64\n",
       "Hepatitis B(women)                   int64\n",
       "Measles                              int64\n",
       "BMI                                float64\n",
       "Under-five deaths                    int64\n",
       "Polio                              float64\n",
       "Total expenditure                  float64\n",
       "Diphtheria                         float64\n",
       "HIV/AIDS                           float64\n",
       "GDP                                float64\n",
       "Population                         float64\n",
       "thinness  1-19 years               float64\n",
       "thinness 5-9 years                 float64\n",
       "Income composition of resources    float64\n",
       "Schooling                          float64\n",
       "dtype: object"
      ]
     },
     "execution_count": 6,
     "metadata": {},
     "output_type": "execute_result"
    }
   ],
   "source": [
    "df.dtypes"
   ]
  },
  {
   "cell_type": "code",
   "execution_count": 7,
   "metadata": {},
   "outputs": [
    {
     "data": {
      "text/html": [
       "<div>\n",
       "<style scoped>\n",
       "    .dataframe tbody tr th:only-of-type {\n",
       "        vertical-align: middle;\n",
       "    }\n",
       "\n",
       "    .dataframe tbody tr th {\n",
       "        vertical-align: top;\n",
       "    }\n",
       "\n",
       "    .dataframe thead th {\n",
       "        text-align: right;\n",
       "    }\n",
       "</style>\n",
       "<table border=\"1\" class=\"dataframe\">\n",
       "  <thead>\n",
       "    <tr style=\"text-align: right;\">\n",
       "      <th></th>\n",
       "      <th>Country</th>\n",
       "      <th>Year</th>\n",
       "      <th>Status</th>\n",
       "      <th>Life expectancy (men)</th>\n",
       "      <th>Life expectancy(women)</th>\n",
       "      <th>Adult Mortality (men)</th>\n",
       "      <th>Adult Mortality (women)</th>\n",
       "      <th>Infant deaths</th>\n",
       "      <th>Alcohol</th>\n",
       "      <th>Percentage expenditure</th>\n",
       "      <th>Hepatitis B(men)</th>\n",
       "      <th>Hepatitis B(women)</th>\n",
       "      <th>Measles</th>\n",
       "      <th>BMI</th>\n",
       "      <th>Under-five deaths</th>\n",
       "      <th>Polio</th>\n",
       "      <th>Total expenditure</th>\n",
       "      <th>Diphtheria</th>\n",
       "      <th>HIV/AIDS</th>\n",
       "      <th>GDP</th>\n",
       "      <th>Population</th>\n",
       "      <th>thinness  1-19 years</th>\n",
       "      <th>thinness 5-9 years</th>\n",
       "      <th>Income composition of resources</th>\n",
       "      <th>Schooling</th>\n",
       "    </tr>\n",
       "  </thead>\n",
       "  <tbody>\n",
       "    <tr>\n",
       "      <th>0</th>\n",
       "      <td>Afghanistan</td>\n",
       "      <td>2015</td>\n",
       "      <td>Developing</td>\n",
       "      <td>70</td>\n",
       "      <td>66</td>\n",
       "      <td>67</td>\n",
       "      <td>65</td>\n",
       "      <td>62</td>\n",
       "      <td>0.01</td>\n",
       "      <td>71.279624</td>\n",
       "      <td>40</td>\n",
       "      <td>40</td>\n",
       "      <td>1154</td>\n",
       "      <td>19.1</td>\n",
       "      <td>83</td>\n",
       "      <td>6.0</td>\n",
       "      <td>8.16</td>\n",
       "      <td>65.0</td>\n",
       "      <td>0.1</td>\n",
       "      <td>584.259210</td>\n",
       "      <td>33736494.0</td>\n",
       "      <td>17.2</td>\n",
       "      <td>17.3</td>\n",
       "      <td>0.479</td>\n",
       "      <td>10.1</td>\n",
       "    </tr>\n",
       "    <tr>\n",
       "      <th>1</th>\n",
       "      <td>Afghanistan</td>\n",
       "      <td>2014</td>\n",
       "      <td>Developing</td>\n",
       "      <td>59</td>\n",
       "      <td>67</td>\n",
       "      <td>73</td>\n",
       "      <td>85</td>\n",
       "      <td>64</td>\n",
       "      <td>0.01</td>\n",
       "      <td>73.523582</td>\n",
       "      <td>20</td>\n",
       "      <td>43</td>\n",
       "      <td>492</td>\n",
       "      <td>18.6</td>\n",
       "      <td>86</td>\n",
       "      <td>58.0</td>\n",
       "      <td>8.18</td>\n",
       "      <td>62.0</td>\n",
       "      <td>0.1</td>\n",
       "      <td>612.696514</td>\n",
       "      <td>327582.0</td>\n",
       "      <td>17.5</td>\n",
       "      <td>17.5</td>\n",
       "      <td>0.476</td>\n",
       "      <td>10.0</td>\n",
       "    </tr>\n",
       "    <tr>\n",
       "      <th>2</th>\n",
       "      <td>Afghanistan</td>\n",
       "      <td>2013</td>\n",
       "      <td>Developing</td>\n",
       "      <td>79</td>\n",
       "      <td>51</td>\n",
       "      <td>87</td>\n",
       "      <td>67</td>\n",
       "      <td>66</td>\n",
       "      <td>0.01</td>\n",
       "      <td>73.219243</td>\n",
       "      <td>25</td>\n",
       "      <td>39</td>\n",
       "      <td>430</td>\n",
       "      <td>18.1</td>\n",
       "      <td>89</td>\n",
       "      <td>62.0</td>\n",
       "      <td>8.13</td>\n",
       "      <td>64.0</td>\n",
       "      <td>0.1</td>\n",
       "      <td>631.744976</td>\n",
       "      <td>31731688.0</td>\n",
       "      <td>17.7</td>\n",
       "      <td>17.7</td>\n",
       "      <td>0.470</td>\n",
       "      <td>9.9</td>\n",
       "    </tr>\n",
       "    <tr>\n",
       "      <th>3</th>\n",
       "      <td>Afghanistan</td>\n",
       "      <td>2012</td>\n",
       "      <td>Developing</td>\n",
       "      <td>65</td>\n",
       "      <td>81</td>\n",
       "      <td>63</td>\n",
       "      <td>91</td>\n",
       "      <td>69</td>\n",
       "      <td>0.01</td>\n",
       "      <td>78.184215</td>\n",
       "      <td>54</td>\n",
       "      <td>42</td>\n",
       "      <td>2787</td>\n",
       "      <td>17.6</td>\n",
       "      <td>93</td>\n",
       "      <td>67.0</td>\n",
       "      <td>8.52</td>\n",
       "      <td>67.0</td>\n",
       "      <td>0.1</td>\n",
       "      <td>669.959000</td>\n",
       "      <td>3696958.0</td>\n",
       "      <td>17.9</td>\n",
       "      <td>18.0</td>\n",
       "      <td>0.463</td>\n",
       "      <td>9.8</td>\n",
       "    </tr>\n",
       "    <tr>\n",
       "      <th>4</th>\n",
       "      <td>Afghanistan</td>\n",
       "      <td>2011</td>\n",
       "      <td>Developing</td>\n",
       "      <td>76</td>\n",
       "      <td>75</td>\n",
       "      <td>57</td>\n",
       "      <td>72</td>\n",
       "      <td>71</td>\n",
       "      <td>0.01</td>\n",
       "      <td>7.097109</td>\n",
       "      <td>48</td>\n",
       "      <td>24</td>\n",
       "      <td>3013</td>\n",
       "      <td>17.2</td>\n",
       "      <td>97</td>\n",
       "      <td>68.0</td>\n",
       "      <td>7.87</td>\n",
       "      <td>68.0</td>\n",
       "      <td>0.1</td>\n",
       "      <td>63.537231</td>\n",
       "      <td>2978599.0</td>\n",
       "      <td>18.2</td>\n",
       "      <td>18.2</td>\n",
       "      <td>0.454</td>\n",
       "      <td>9.5</td>\n",
       "    </tr>\n",
       "  </tbody>\n",
       "</table>\n",
       "</div>"
      ],
      "text/plain": [
       "       Country  Year      Status  Life expectancy (men)  \\\n",
       "0  Afghanistan  2015  Developing                     70   \n",
       "1  Afghanistan  2014  Developing                     59   \n",
       "2  Afghanistan  2013  Developing                     79   \n",
       "3  Afghanistan  2012  Developing                     65   \n",
       "4  Afghanistan  2011  Developing                     76   \n",
       "\n",
       "   Life expectancy(women)  Adult Mortality (men)  Adult Mortality (women)  \\\n",
       "0                      66                     67                       65   \n",
       "1                      67                     73                       85   \n",
       "2                      51                     87                       67   \n",
       "3                      81                     63                       91   \n",
       "4                      75                     57                       72   \n",
       "\n",
       "   Infant deaths  Alcohol  Percentage expenditure  Hepatitis B(men)  \\\n",
       "0             62     0.01               71.279624                40   \n",
       "1             64     0.01               73.523582                20   \n",
       "2             66     0.01               73.219243                25   \n",
       "3             69     0.01               78.184215                54   \n",
       "4             71     0.01                7.097109                48   \n",
       "\n",
       "   Hepatitis B(women)  Measles   BMI  Under-five deaths  Polio  \\\n",
       "0                  40     1154  19.1                 83    6.0   \n",
       "1                  43      492  18.6                 86   58.0   \n",
       "2                  39      430  18.1                 89   62.0   \n",
       "3                  42     2787  17.6                 93   67.0   \n",
       "4                  24     3013  17.2                 97   68.0   \n",
       "\n",
       "   Total expenditure  Diphtheria   HIV/AIDS         GDP  Population  \\\n",
       "0               8.16         65.0       0.1  584.259210  33736494.0   \n",
       "1               8.18         62.0       0.1  612.696514    327582.0   \n",
       "2               8.13         64.0       0.1  631.744976  31731688.0   \n",
       "3               8.52         67.0       0.1  669.959000   3696958.0   \n",
       "4               7.87         68.0       0.1   63.537231   2978599.0   \n",
       "\n",
       "   thinness  1-19 years  thinness 5-9 years  Income composition of resources  \\\n",
       "0                  17.2                17.3                            0.479   \n",
       "1                  17.5                17.5                            0.476   \n",
       "2                  17.7                17.7                            0.470   \n",
       "3                  17.9                18.0                            0.463   \n",
       "4                  18.2                18.2                            0.454   \n",
       "\n",
       "   Schooling  \n",
       "0       10.1  \n",
       "1       10.0  \n",
       "2        9.9  \n",
       "3        9.8  \n",
       "4        9.5  "
      ]
     },
     "execution_count": 7,
     "metadata": {},
     "output_type": "execute_result"
    }
   ],
   "source": [
    "df.head()"
   ]
  },
  {
   "cell_type": "code",
   "execution_count": 8,
   "metadata": {},
   "outputs": [
    {
     "data": {
      "text/plain": [
       "Country                              0\n",
       "Year                                 0\n",
       "Status                               0\n",
       "Life expectancy (men)                0\n",
       "Life expectancy(women)               0\n",
       "Adult Mortality (men)                0\n",
       "Adult Mortality (women)              0\n",
       "Infant deaths                        0\n",
       "Alcohol                            194\n",
       "Percentage expenditure               0\n",
       "Hepatitis B(men)                     0\n",
       "Hepatitis B(women)                   0\n",
       "Measles                              0\n",
       "BMI                                 34\n",
       "Under-five deaths                    0\n",
       "Polio                               19\n",
       "Total expenditure                  226\n",
       "Diphtheria                          19\n",
       "HIV/AIDS                             0\n",
       "GDP                                448\n",
       "Population                         652\n",
       "thinness  1-19 years                34\n",
       "thinness 5-9 years                  34\n",
       "Income composition of resources    167\n",
       "Schooling                          163\n",
       "dtype: int64"
      ]
     },
     "execution_count": 8,
     "metadata": {},
     "output_type": "execute_result"
    }
   ],
   "source": [
    "# vamos verificar valores nulos\n",
    "df.isna().sum()"
   ]
  },
  {
   "cell_type": "code",
   "execution_count": 9,
   "metadata": {},
   "outputs": [
    {
     "data": {
      "image/png": "[encoded data removed]",
      "text/plain": [
       "<Figure size 1200x800 with 1 Axes>"
      ]
     },
     "metadata": {},
     "output_type": "display_data"
    }
   ],
   "source": [
    "# vamos exibir um grafico exibindo os valores nulos\n",
    "plt.figure(figsize=(12, 8))\n",
    "sns.heatmap(df.isnull(), cbar=False, cmap='viridis')\n",
    "plt.title('Mapa de Calor de Valores Nulos')\n",
    "plt.show()"
   ]
  },
  {
   "cell_type": "code",
   "execution_count": 10,
   "metadata": {},
   "outputs": [
    {
     "data": {
      "text/plain": [
       "0"
      ]
     },
     "execution_count": 10,
     "metadata": {},
     "output_type": "execute_result"
    }
   ],
   "source": [
    "df.duplicated().sum()"
   ]
  },
  {
   "cell_type": "markdown",
   "metadata": {},
   "source": [
    "# Analise Exploratoria"
   ]
  },
  {
   "cell_type": "code",
   "execution_count": 11,
   "metadata": {},
   "outputs": [
    {
     "data": {
      "text/plain": [
       "Country                             object\n",
       "Year                                 int64\n",
       "Status                              object\n",
       "Life expectancy (men)                int64\n",
       "Life expectancy(women)               int64\n",
       "Adult Mortality (men)                int64\n",
       "Adult Mortality (women)              int64\n",
       "Infant deaths                        int64\n",
       "Alcohol                            float64\n",
       "Percentage expenditure             float64\n",
       "Hepatitis B(men)                     int64\n",
       "Hepatitis B(women)                   int64\n",
       "Measles                              int64\n",
       "BMI                                float64\n",
       "Under-five deaths                    int64\n",
       "Polio                              float64\n",
       "Total expenditure                  float64\n",
       "Diphtheria                         float64\n",
       "HIV/AIDS                           float64\n",
       "GDP                                float64\n",
       "Population                         float64\n",
       "thinness  1-19 years               float64\n",
       "thinness 5-9 years                 float64\n",
       "Income composition of resources    float64\n",
       "Schooling                          float64\n",
       "dtype: object"
      ]
     },
     "execution_count": 11,
     "metadata": {},
     "output_type": "execute_result"
    }
   ],
   "source": [
    "df.dtypes"
   ]
  },
  {
   "cell_type": "code",
   "execution_count": 12,
   "metadata": {},
   "outputs": [
    {
     "name": "stdout",
     "output_type": "stream",
     "text": [
      ">>>>>>>>>>>>>>>>>>>>>>>>>>>>>>>>>>>>>>>>>>>>>>>>>>>>>>>>>>>>>>>>>>>>>>>>>>>>>>>>>>>>>>>>>>>>>>>>>>>>>>>>>>>>>>>>>>>>>>>>\n",
      ">>>>>>>>>>>>>>>>>>>>>>>>>>>>>> Country <<<<<<<<<<<<<<<<<<<<<<<<<<<<<<\n"
     ]
    },
    {
     "data": {
      "text/plain": [
       "array(['Afghanistan', 'Albania', 'Algeria', 'Angola',\n",
       "       'Antigua and Barbuda', 'Argentina', 'Armenia', 'Australia',\n",
       "       'Austria', 'Azerbaijan', 'Bahamas', 'Bahrain', 'Bangladesh',\n",
       "       'Barbados', 'Belarus', 'Belgium', 'Belize', 'Benin', 'Bhutan',\n",
       "       'Bolivia (Plurinational State of)', 'Bosnia and Herzegovina',\n",
       "       'Botswana', 'Brazil', 'Brunei Darussalam', 'Bulgaria',\n",
       "       'Burkina Faso', 'Burundi', \"Côte d'Ivoire\", 'Cabo Verde',\n",
       "       'Cambodia', 'Cameroon', 'Canada', 'Central African Republic',\n",
       "       'Chad', 'Chile', 'China', 'Colombia', 'Comoros', 'Congo',\n",
       "       'Cook Islands', 'Costa Rica', 'Croatia', 'Cuba', 'Cyprus',\n",
       "       'Czechia', \"Democratic People's Republic of Korea\",\n",
       "       'Democratic Republic of the Congo', 'Denmark', 'Djibouti',\n",
       "       'Dominica', 'Dominican Republic', 'Ecuador', 'Egypt',\n",
       "       'El Salvador', 'Equatorial Guinea', 'Eritrea', 'Estonia',\n",
       "       'Ethiopia', 'Fiji', 'Finland', 'France', 'Gabon', 'Gambia',\n",
       "       'Georgia', 'Germany', 'Ghana', 'Greece', 'Grenada', 'Guatemala',\n",
       "       'Guinea', 'Guinea-Bissau', 'Guyana', 'Haiti', 'Honduras',\n",
       "       'Hungary', 'Iceland', 'India', 'Indonesia',\n",
       "       'Iran (Islamic Republic of)', 'Iraq', 'Ireland', 'Israel', 'Italy',\n",
       "       'Jamaica', 'Japan', 'Jordan', 'Kazakhstan', 'Kenya', 'Kiribati',\n",
       "       'Kuwait', 'Kyrgyzstan', \"Lao People's Democratic Republic\",\n",
       "       'Latvia', 'Lebanon', 'Lesotho', 'Liberia', 'Libya', 'Lithuania',\n",
       "       'Luxembourg', 'Madagascar', 'Malawi', 'Malaysia', 'Maldives',\n",
       "       'Mali', 'Malta', 'Marshall Islands', 'Mauritania', 'Mauritius',\n",
       "       'Mexico', 'Micronesia (Federated States of)', 'Monaco', 'Mongolia',\n",
       "       'Montenegro', 'Morocco', 'Mozambique', 'Myanmar', 'Namibia',\n",
       "       'Nauru', 'Nepal', 'Netherlands', 'New Zealand', 'Nicaragua',\n",
       "       'Niger', 'Nigeria', 'Niue', 'Norway', 'Oman', 'Pakistan', 'Palau',\n",
       "       'Panama', 'Papua New Guinea', 'Paraguay', 'Peru', 'Philippines',\n",
       "       'Poland', 'Portugal', 'Qatar', 'Republic of Korea',\n",
       "       'Republic of Moldova', 'Romania', 'Russian Federation', 'Rwanda',\n",
       "       'Saint Kitts and Nevis', 'Saint Lucia',\n",
       "       'Saint Vincent and the Grenadines', 'Samoa', 'San Marino',\n",
       "       'Sao Tome and Principe', 'Saudi Arabia', 'Senegal', 'Serbia',\n",
       "       'Seychelles', 'Sierra Leone', 'Singapore', 'Slovakia', 'Slovenia',\n",
       "       'Solomon Islands', 'Somalia', 'South Africa', 'South Sudan',\n",
       "       'Spain', 'Sri Lanka', 'Sudan', 'Suriname', 'Swaziland', 'Sweden',\n",
       "       'Switzerland', 'Syrian Arab Republic', 'Tajikistan', 'Thailand',\n",
       "       'The former Yugoslav republic of Macedonia', 'Timor-Leste', 'Togo',\n",
       "       'Tonga', 'Trinidad and Tobago', 'Tunisia', 'Turkey',\n",
       "       'Turkmenistan', 'Tuvalu', 'Uganda', 'Ukraine',\n",
       "       'United Arab Emirates',\n",
       "       'United Kingdom of Great Britain and Northern Ireland',\n",
       "       'United Republic of Tanzania', 'United States of America',\n",
       "       'Uruguay', 'Uzbekistan', 'Vanuatu',\n",
       "       'Venezuela (Bolivarian Republic of)', 'Viet Nam', 'Yemen',\n",
       "       'Zambia', 'Zimbabwe'], dtype=object)"
      ]
     },
     "metadata": {},
     "output_type": "display_data"
    },
    {
     "name": "stdout",
     "output_type": "stream",
     "text": [
      ">>>>>>>>>>>>>>>>>>>>>>>>>>>>>>>>>>>>>>>>>>>>>>>>>>>>>>>>>>>>>>>>>>>>>>>>>>>>>>>>>>>>>>>>>>>>>>>>>>>>>>>>>>>>>>>>>>>>>>>>\n",
      "\n",
      ">>>>>>>>>>>>>>>>>>>>>>>>>>>>>>>>>>>>>>>>>>>>>>>>>>>>>>>>>>>>>>>>>>>>>>>>>>>>>>>>>>>>>>>>>>>>>>>>>>>>>>>>>>>>>>>>>>>>>>>>\n",
      ">>>>>>>>>>>>>>>>>>>>>>>>>>>>>> Status <<<<<<<<<<<<<<<<<<<<<<<<<<<<<<\n"
     ]
    },
    {
     "data": {
      "text/plain": [
       "array(['Developing', 'Developed'], dtype=object)"
      ]
     },
     "metadata": {},
     "output_type": "display_data"
    },
    {
     "name": "stdout",
     "output_type": "stream",
     "text": [
      ">>>>>>>>>>>>>>>>>>>>>>>>>>>>>>>>>>>>>>>>>>>>>>>>>>>>>>>>>>>>>>>>>>>>>>>>>>>>>>>>>>>>>>>>>>>>>>>>>>>>>>>>>>>>>>>>>>>>>>>>\n",
      "\n"
     ]
    }
   ],
   "source": [
    "for col in df.select_dtypes(\"object\").columns:\n",
    "    print('>>>>'*30)\n",
    "    print('>>>'*10,col,'<<<'*10)\n",
    "    display(df[col].unique())\n",
    "    print('>>>>'*30)\n",
    "    print()"
   ]
  },
  {
   "cell_type": "code",
   "execution_count": 13,
   "metadata": {},
   "outputs": [
    {
     "data": {
      "text/html": [
       "<div>\n",
       "<style scoped>\n",
       "    .dataframe tbody tr th:only-of-type {\n",
       "        vertical-align: middle;\n",
       "    }\n",
       "\n",
       "    .dataframe tbody tr th {\n",
       "        vertical-align: top;\n",
       "    }\n",
       "\n",
       "    .dataframe thead th {\n",
       "        text-align: right;\n",
       "    }\n",
       "</style>\n",
       "<table border=\"1\" class=\"dataframe\">\n",
       "  <thead>\n",
       "    <tr style=\"text-align: right;\">\n",
       "      <th></th>\n",
       "      <th>count</th>\n",
       "      <th>mean</th>\n",
       "      <th>std</th>\n",
       "      <th>min</th>\n",
       "      <th>25%</th>\n",
       "      <th>50%</th>\n",
       "      <th>75%</th>\n",
       "      <th>max</th>\n",
       "    </tr>\n",
       "  </thead>\n",
       "  <tbody>\n",
       "    <tr>\n",
       "      <th>Year</th>\n",
       "      <td>2938.0</td>\n",
       "      <td>2.007519e+03</td>\n",
       "      <td>4.613841e+00</td>\n",
       "      <td>2000.00000</td>\n",
       "      <td>2004.000000</td>\n",
       "      <td>2.008000e+03</td>\n",
       "      <td>2.012000e+03</td>\n",
       "      <td>2.015000e+03</td>\n",
       "    </tr>\n",
       "    <tr>\n",
       "      <th>Life expectancy (men)</th>\n",
       "      <td>2938.0</td>\n",
       "      <td>6.771001e+01</td>\n",
       "      <td>1.034622e+01</td>\n",
       "      <td>50.00000</td>\n",
       "      <td>59.000000</td>\n",
       "      <td>6.800000e+01</td>\n",
       "      <td>7.700000e+01</td>\n",
       "      <td>8.500000e+01</td>\n",
       "    </tr>\n",
       "    <tr>\n",
       "      <th>Life expectancy(women)</th>\n",
       "      <td>2938.0</td>\n",
       "      <td>6.762934e+01</td>\n",
       "      <td>1.032524e+01</td>\n",
       "      <td>50.00000</td>\n",
       "      <td>59.000000</td>\n",
       "      <td>6.750000e+01</td>\n",
       "      <td>7.600000e+01</td>\n",
       "      <td>8.500000e+01</td>\n",
       "    </tr>\n",
       "    <tr>\n",
       "      <th>Adult Mortality (men)</th>\n",
       "      <td>2938.0</td>\n",
       "      <td>7.473281e+01</td>\n",
       "      <td>1.472887e+01</td>\n",
       "      <td>50.00000</td>\n",
       "      <td>62.000000</td>\n",
       "      <td>7.450000e+01</td>\n",
       "      <td>8.700000e+01</td>\n",
       "      <td>1.000000e+02</td>\n",
       "    </tr>\n",
       "    <tr>\n",
       "      <th>Adult Mortality (women)</th>\n",
       "      <td>2938.0</td>\n",
       "      <td>7.455820e+01</td>\n",
       "      <td>1.468206e+01</td>\n",
       "      <td>50.00000</td>\n",
       "      <td>62.000000</td>\n",
       "      <td>7.400000e+01</td>\n",
       "      <td>8.700000e+01</td>\n",
       "      <td>1.000000e+02</td>\n",
       "    </tr>\n",
       "    <tr>\n",
       "      <th>Infant deaths</th>\n",
       "      <td>2938.0</td>\n",
       "      <td>3.030395e+01</td>\n",
       "      <td>1.179265e+02</td>\n",
       "      <td>0.00000</td>\n",
       "      <td>0.000000</td>\n",
       "      <td>3.000000e+00</td>\n",
       "      <td>2.200000e+01</td>\n",
       "      <td>1.800000e+03</td>\n",
       "    </tr>\n",
       "    <tr>\n",
       "      <th>Alcohol</th>\n",
       "      <td>2744.0</td>\n",
       "      <td>4.602861e+00</td>\n",
       "      <td>4.052413e+00</td>\n",
       "      <td>0.01000</td>\n",
       "      <td>0.877500</td>\n",
       "      <td>3.755000e+00</td>\n",
       "      <td>7.702500e+00</td>\n",
       "      <td>1.787000e+01</td>\n",
       "    </tr>\n",
       "    <tr>\n",
       "      <th>Percentage expenditure</th>\n",
       "      <td>2938.0</td>\n",
       "      <td>7.382513e+02</td>\n",
       "      <td>1.987915e+03</td>\n",
       "      <td>0.00000</td>\n",
       "      <td>4.685343</td>\n",
       "      <td>6.491291e+01</td>\n",
       "      <td>4.415341e+02</td>\n",
       "      <td>1.947991e+04</td>\n",
       "    </tr>\n",
       "    <tr>\n",
       "      <th>Hepatitis B(men)</th>\n",
       "      <td>2938.0</td>\n",
       "      <td>4.601157e+01</td>\n",
       "      <td>1.655874e+01</td>\n",
       "      <td>18.00000</td>\n",
       "      <td>31.000000</td>\n",
       "      <td>4.600000e+01</td>\n",
       "      <td>6.000000e+01</td>\n",
       "      <td>7.500000e+01</td>\n",
       "    </tr>\n",
       "    <tr>\n",
       "      <th>Hepatitis B(women)</th>\n",
       "      <td>2938.0</td>\n",
       "      <td>4.646971e+01</td>\n",
       "      <td>1.689127e+01</td>\n",
       "      <td>18.00000</td>\n",
       "      <td>32.000000</td>\n",
       "      <td>4.600000e+01</td>\n",
       "      <td>6.100000e+01</td>\n",
       "      <td>7.500000e+01</td>\n",
       "    </tr>\n",
       "    <tr>\n",
       "      <th>Measles</th>\n",
       "      <td>2938.0</td>\n",
       "      <td>2.419592e+03</td>\n",
       "      <td>1.146727e+04</td>\n",
       "      <td>0.00000</td>\n",
       "      <td>0.000000</td>\n",
       "      <td>1.700000e+01</td>\n",
       "      <td>3.602500e+02</td>\n",
       "      <td>2.121830e+05</td>\n",
       "    </tr>\n",
       "    <tr>\n",
       "      <th>BMI</th>\n",
       "      <td>2904.0</td>\n",
       "      <td>3.832125e+01</td>\n",
       "      <td>2.004403e+01</td>\n",
       "      <td>1.00000</td>\n",
       "      <td>19.300000</td>\n",
       "      <td>4.350000e+01</td>\n",
       "      <td>5.620000e+01</td>\n",
       "      <td>8.730000e+01</td>\n",
       "    </tr>\n",
       "    <tr>\n",
       "      <th>Under-five deaths</th>\n",
       "      <td>2938.0</td>\n",
       "      <td>4.203574e+01</td>\n",
       "      <td>1.604455e+02</td>\n",
       "      <td>0.00000</td>\n",
       "      <td>0.000000</td>\n",
       "      <td>4.000000e+00</td>\n",
       "      <td>2.800000e+01</td>\n",
       "      <td>2.500000e+03</td>\n",
       "    </tr>\n",
       "    <tr>\n",
       "      <th>Polio</th>\n",
       "      <td>2919.0</td>\n",
       "      <td>8.255019e+01</td>\n",
       "      <td>2.342805e+01</td>\n",
       "      <td>3.00000</td>\n",
       "      <td>78.000000</td>\n",
       "      <td>9.300000e+01</td>\n",
       "      <td>9.700000e+01</td>\n",
       "      <td>9.900000e+01</td>\n",
       "    </tr>\n",
       "    <tr>\n",
       "      <th>Total expenditure</th>\n",
       "      <td>2712.0</td>\n",
       "      <td>5.938190e+00</td>\n",
       "      <td>2.498320e+00</td>\n",
       "      <td>0.37000</td>\n",
       "      <td>4.260000</td>\n",
       "      <td>5.755000e+00</td>\n",
       "      <td>7.492500e+00</td>\n",
       "      <td>1.760000e+01</td>\n",
       "    </tr>\n",
       "    <tr>\n",
       "      <th>Diphtheria</th>\n",
       "      <td>2919.0</td>\n",
       "      <td>8.232408e+01</td>\n",
       "      <td>2.371691e+01</td>\n",
       "      <td>2.00000</td>\n",
       "      <td>78.000000</td>\n",
       "      <td>9.300000e+01</td>\n",
       "      <td>9.700000e+01</td>\n",
       "      <td>9.900000e+01</td>\n",
       "    </tr>\n",
       "    <tr>\n",
       "      <th>HIV/AIDS</th>\n",
       "      <td>2938.0</td>\n",
       "      <td>1.742103e+00</td>\n",
       "      <td>5.077785e+00</td>\n",
       "      <td>0.10000</td>\n",
       "      <td>0.100000</td>\n",
       "      <td>1.000000e-01</td>\n",
       "      <td>8.000000e-01</td>\n",
       "      <td>5.060000e+01</td>\n",
       "    </tr>\n",
       "    <tr>\n",
       "      <th>GDP</th>\n",
       "      <td>2490.0</td>\n",
       "      <td>7.483158e+03</td>\n",
       "      <td>1.427017e+04</td>\n",
       "      <td>1.68135</td>\n",
       "      <td>463.935626</td>\n",
       "      <td>1.766948e+03</td>\n",
       "      <td>5.910806e+03</td>\n",
       "      <td>1.191727e+05</td>\n",
       "    </tr>\n",
       "    <tr>\n",
       "      <th>Population</th>\n",
       "      <td>2286.0</td>\n",
       "      <td>1.275338e+07</td>\n",
       "      <td>6.101210e+07</td>\n",
       "      <td>34.00000</td>\n",
       "      <td>195793.250000</td>\n",
       "      <td>1.386542e+06</td>\n",
       "      <td>7.420359e+06</td>\n",
       "      <td>1.293859e+09</td>\n",
       "    </tr>\n",
       "    <tr>\n",
       "      <th>thinness  1-19 years</th>\n",
       "      <td>2904.0</td>\n",
       "      <td>4.839704e+00</td>\n",
       "      <td>4.420195e+00</td>\n",
       "      <td>0.10000</td>\n",
       "      <td>1.600000</td>\n",
       "      <td>3.300000e+00</td>\n",
       "      <td>7.200000e+00</td>\n",
       "      <td>2.770000e+01</td>\n",
       "    </tr>\n",
       "    <tr>\n",
       "      <th>thinness 5-9 years</th>\n",
       "      <td>2904.0</td>\n",
       "      <td>4.870317e+00</td>\n",
       "      <td>4.508882e+00</td>\n",
       "      <td>0.10000</td>\n",
       "      <td>1.500000</td>\n",
       "      <td>3.300000e+00</td>\n",
       "      <td>7.200000e+00</td>\n",
       "      <td>2.860000e+01</td>\n",
       "    </tr>\n",
       "    <tr>\n",
       "      <th>Income composition of resources</th>\n",
       "      <td>2771.0</td>\n",
       "      <td>6.275511e-01</td>\n",
       "      <td>2.109036e-01</td>\n",
       "      <td>0.00000</td>\n",
       "      <td>0.493000</td>\n",
       "      <td>6.770000e-01</td>\n",
       "      <td>7.790000e-01</td>\n",
       "      <td>9.480000e-01</td>\n",
       "    </tr>\n",
       "    <tr>\n",
       "      <th>Schooling</th>\n",
       "      <td>2775.0</td>\n",
       "      <td>1.199279e+01</td>\n",
       "      <td>3.358920e+00</td>\n",
       "      <td>0.00000</td>\n",
       "      <td>10.100000</td>\n",
       "      <td>1.230000e+01</td>\n",
       "      <td>1.430000e+01</td>\n",
       "      <td>2.070000e+01</td>\n",
       "    </tr>\n",
       "  </tbody>\n",
       "</table>\n",
       "</div>"
      ],
      "text/plain": [
       "                                  count          mean           std  \\\n",
       "Year                             2938.0  2.007519e+03  4.613841e+00   \n",
       "Life expectancy (men)            2938.0  6.771001e+01  1.034622e+01   \n",
       "Life expectancy(women)           2938.0  6.762934e+01  1.032524e+01   \n",
       "Adult Mortality (men)            2938.0  7.473281e+01  1.472887e+01   \n",
       "Adult Mortality (women)          2938.0  7.455820e+01  1.468206e+01   \n",
       "Infant deaths                    2938.0  3.030395e+01  1.179265e+02   \n",
       "Alcohol                          2744.0  4.602861e+00  4.052413e+00   \n",
       "Percentage expenditure           2938.0  7.382513e+02  1.987915e+03   \n",
       "Hepatitis B(men)                 2938.0  4.601157e+01  1.655874e+01   \n",
       "Hepatitis B(women)               2938.0  4.646971e+01  1.689127e+01   \n",
       "Measles                          2938.0  2.419592e+03  1.146727e+04   \n",
       "BMI                              2904.0  3.832125e+01  2.004403e+01   \n",
       "Under-five deaths                2938.0  4.203574e+01  1.604455e+02   \n",
       "Polio                            2919.0  8.255019e+01  2.342805e+01   \n",
       "Total expenditure                2712.0  5.938190e+00  2.498320e+00   \n",
       "Diphtheria                       2919.0  8.232408e+01  2.371691e+01   \n",
       "HIV/AIDS                         2938.0  1.742103e+00  5.077785e+00   \n",
       "GDP                              2490.0  7.483158e+03  1.427017e+04   \n",
       "Population                       2286.0  1.275338e+07  6.101210e+07   \n",
       "thinness  1-19 years             2904.0  4.839704e+00  4.420195e+00   \n",
       "thinness 5-9 years               2904.0  4.870317e+00  4.508882e+00   \n",
       "Income composition of resources  2771.0  6.275511e-01  2.109036e-01   \n",
       "Schooling                        2775.0  1.199279e+01  3.358920e+00   \n",
       "\n",
       "                                        min            25%           50%  \\\n",
       "Year                             2000.00000    2004.000000  2.008000e+03   \n",
       "Life expectancy (men)              50.00000      59.000000  6.800000e+01   \n",
       "Life expectancy(women)             50.00000      59.000000  6.750000e+01   \n",
       "Adult Mortality (men)              50.00000      62.000000  7.450000e+01   \n",
       "Adult Mortality (women)            50.00000      62.000000  7.400000e+01   \n",
       "Infant deaths                       0.00000       0.000000  3.000000e+00   \n",
       "Alcohol                             0.01000       0.877500  3.755000e+00   \n",
       "Percentage expenditure              0.00000       4.685343  6.491291e+01   \n",
       "Hepatitis B(men)                   18.00000      31.000000  4.600000e+01   \n",
       "Hepatitis B(women)                 18.00000      32.000000  4.600000e+01   \n",
       "Measles                             0.00000       0.000000  1.700000e+01   \n",
       "BMI                                 1.00000      19.300000  4.350000e+01   \n",
       "Under-five deaths                   0.00000       0.000000  4.000000e+00   \n",
       "Polio                               3.00000      78.000000  9.300000e+01   \n",
       "Total expenditure                   0.37000       4.260000  5.755000e+00   \n",
       "Diphtheria                          2.00000      78.000000  9.300000e+01   \n",
       "HIV/AIDS                            0.10000       0.100000  1.000000e-01   \n",
       "GDP                                 1.68135     463.935626  1.766948e+03   \n",
       "Population                         34.00000  195793.250000  1.386542e+06   \n",
       "thinness  1-19 years                0.10000       1.600000  3.300000e+00   \n",
       "thinness 5-9 years                  0.10000       1.500000  3.300000e+00   \n",
       "Income composition of resources     0.00000       0.493000  6.770000e-01   \n",
       "Schooling                           0.00000      10.100000  1.230000e+01   \n",
       "\n",
       "                                          75%           max  \n",
       "Year                             2.012000e+03  2.015000e+03  \n",
       "Life expectancy (men)            7.700000e+01  8.500000e+01  \n",
       "Life expectancy(women)           7.600000e+01  8.500000e+01  \n",
       "Adult Mortality (men)            8.700000e+01  1.000000e+02  \n",
       "Adult Mortality (women)          8.700000e+01  1.000000e+02  \n",
       "Infant deaths                    2.200000e+01  1.800000e+03  \n",
       "Alcohol                          7.702500e+00  1.787000e+01  \n",
       "Percentage expenditure           4.415341e+02  1.947991e+04  \n",
       "Hepatitis B(men)                 6.000000e+01  7.500000e+01  \n",
       "Hepatitis B(women)               6.100000e+01  7.500000e+01  \n",
       "Measles                          3.602500e+02  2.121830e+05  \n",
       "BMI                              5.620000e+01  8.730000e+01  \n",
       "Under-five deaths                2.800000e+01  2.500000e+03  \n",
       "Polio                            9.700000e+01  9.900000e+01  \n",
       "Total expenditure                7.492500e+00  1.760000e+01  \n",
       "Diphtheria                       9.700000e+01  9.900000e+01  \n",
       "HIV/AIDS                         8.000000e-01  5.060000e+01  \n",
       "GDP                              5.910806e+03  1.191727e+05  \n",
       "Population                       7.420359e+06  1.293859e+09  \n",
       "thinness  1-19 years             7.200000e+00  2.770000e+01  \n",
       "thinness 5-9 years               7.200000e+00  2.860000e+01  \n",
       "Income composition of resources  7.790000e-01  9.480000e-01  \n",
       "Schooling                        1.430000e+01  2.070000e+01  "
      ]
     },
     "execution_count": 13,
     "metadata": {},
     "output_type": "execute_result"
    }
   ],
   "source": [
    "# vamos estatistica resumida de cada coluna numerica\n",
    "df.describe().T"
   ]
  },
  {
   "cell_type": "code",
   "execution_count": 14,
   "metadata": {},
   "outputs": [
    {
     "data": {
      "text/plain": [
       "array([2015, 2014, 2013, 2012, 2011, 2010, 2009, 2008, 2007, 2006, 2005,\n",
       "       2004, 2003, 2002, 2001, 2000], dtype=int64)"
      ]
     },
     "execution_count": 14,
     "metadata": {},
     "output_type": "execute_result"
    }
   ],
   "source": [
    "df.Year.unique()"
   ]
  },
  {
   "cell_type": "markdown",
   "metadata": {},
   "source": [
    "### 1. Distribuição Populacional por País e Ano\n",
    "---\n",
    "Analisar como a população está distribuída entre diferentes países e ao longo dos anos.\n",
    "\n",
    "Usando o conceito fato e dimensão, podemos usar os seguintes valores:\n",
    "|Fato|Dimensão|Tipo de Grafico recomendado|Descrição|\n",
    "|----|--------|---------------------------|---------|\n",
    "|population|Year|grafico de linha |Mostra o cresciemnto o decaimento da população ao longo do tempo|\n",
    "\n",
    "Vale lembrar que a variavel população tem valores nulos, o que pode ser resolvido fazendo uma analise mais extensa e externa do porque da ausência dessas informações."
   ]
  },
  {
   "cell_type": "code",
   "execution_count": 15,
   "metadata": {},
   "outputs": [
    {
     "data": {
      "text/html": [
       "<div>\n",
       "<style scoped>\n",
       "    .dataframe tbody tr th:only-of-type {\n",
       "        vertical-align: middle;\n",
       "    }\n",
       "\n",
       "    .dataframe tbody tr th {\n",
       "        vertical-align: top;\n",
       "    }\n",
       "\n",
       "    .dataframe thead th {\n",
       "        text-align: right;\n",
       "    }\n",
       "</style>\n",
       "<table border=\"1\" class=\"dataframe\">\n",
       "  <thead>\n",
       "    <tr style=\"text-align: right;\">\n",
       "      <th></th>\n",
       "      <th>Country</th>\n",
       "      <th>Year</th>\n",
       "      <th>Status</th>\n",
       "      <th>Life expectancy (men)</th>\n",
       "      <th>Life expectancy(women)</th>\n",
       "      <th>Adult Mortality (men)</th>\n",
       "      <th>Adult Mortality (women)</th>\n",
       "      <th>Infant deaths</th>\n",
       "      <th>Alcohol</th>\n",
       "      <th>Percentage expenditure</th>\n",
       "      <th>Hepatitis B(men)</th>\n",
       "      <th>Hepatitis B(women)</th>\n",
       "      <th>Measles</th>\n",
       "      <th>BMI</th>\n",
       "      <th>Under-five deaths</th>\n",
       "      <th>Polio</th>\n",
       "      <th>Total expenditure</th>\n",
       "      <th>Diphtheria</th>\n",
       "      <th>HIV/AIDS</th>\n",
       "      <th>GDP</th>\n",
       "      <th>Population</th>\n",
       "      <th>thinness  1-19 years</th>\n",
       "      <th>thinness 5-9 years</th>\n",
       "      <th>Income composition of resources</th>\n",
       "      <th>Schooling</th>\n",
       "    </tr>\n",
       "  </thead>\n",
       "  <tbody>\n",
       "    <tr>\n",
       "      <th>0</th>\n",
       "      <td>Afghanistan</td>\n",
       "      <td>2015</td>\n",
       "      <td>Developing</td>\n",
       "      <td>70</td>\n",
       "      <td>66</td>\n",
       "      <td>67</td>\n",
       "      <td>65</td>\n",
       "      <td>62</td>\n",
       "      <td>0.01</td>\n",
       "      <td>71.279624</td>\n",
       "      <td>40</td>\n",
       "      <td>40</td>\n",
       "      <td>1154</td>\n",
       "      <td>19.1</td>\n",
       "      <td>83</td>\n",
       "      <td>6.0</td>\n",
       "      <td>8.16</td>\n",
       "      <td>65.0</td>\n",
       "      <td>0.1</td>\n",
       "      <td>584.259210</td>\n",
       "      <td>33736494.0</td>\n",
       "      <td>17.2</td>\n",
       "      <td>17.3</td>\n",
       "      <td>0.479</td>\n",
       "      <td>10.1</td>\n",
       "    </tr>\n",
       "    <tr>\n",
       "      <th>1</th>\n",
       "      <td>Afghanistan</td>\n",
       "      <td>2014</td>\n",
       "      <td>Developing</td>\n",
       "      <td>59</td>\n",
       "      <td>67</td>\n",
       "      <td>73</td>\n",
       "      <td>85</td>\n",
       "      <td>64</td>\n",
       "      <td>0.01</td>\n",
       "      <td>73.523582</td>\n",
       "      <td>20</td>\n",
       "      <td>43</td>\n",
       "      <td>492</td>\n",
       "      <td>18.6</td>\n",
       "      <td>86</td>\n",
       "      <td>58.0</td>\n",
       "      <td>8.18</td>\n",
       "      <td>62.0</td>\n",
       "      <td>0.1</td>\n",
       "      <td>612.696514</td>\n",
       "      <td>327582.0</td>\n",
       "      <td>17.5</td>\n",
       "      <td>17.5</td>\n",
       "      <td>0.476</td>\n",
       "      <td>10.0</td>\n",
       "    </tr>\n",
       "    <tr>\n",
       "      <th>2</th>\n",
       "      <td>Afghanistan</td>\n",
       "      <td>2013</td>\n",
       "      <td>Developing</td>\n",
       "      <td>79</td>\n",
       "      <td>51</td>\n",
       "      <td>87</td>\n",
       "      <td>67</td>\n",
       "      <td>66</td>\n",
       "      <td>0.01</td>\n",
       "      <td>73.219243</td>\n",
       "      <td>25</td>\n",
       "      <td>39</td>\n",
       "      <td>430</td>\n",
       "      <td>18.1</td>\n",
       "      <td>89</td>\n",
       "      <td>62.0</td>\n",
       "      <td>8.13</td>\n",
       "      <td>64.0</td>\n",
       "      <td>0.1</td>\n",
       "      <td>631.744976</td>\n",
       "      <td>31731688.0</td>\n",
       "      <td>17.7</td>\n",
       "      <td>17.7</td>\n",
       "      <td>0.470</td>\n",
       "      <td>9.9</td>\n",
       "    </tr>\n",
       "    <tr>\n",
       "      <th>3</th>\n",
       "      <td>Afghanistan</td>\n",
       "      <td>2012</td>\n",
       "      <td>Developing</td>\n",
       "      <td>65</td>\n",
       "      <td>81</td>\n",
       "      <td>63</td>\n",
       "      <td>91</td>\n",
       "      <td>69</td>\n",
       "      <td>0.01</td>\n",
       "      <td>78.184215</td>\n",
       "      <td>54</td>\n",
       "      <td>42</td>\n",
       "      <td>2787</td>\n",
       "      <td>17.6</td>\n",
       "      <td>93</td>\n",
       "      <td>67.0</td>\n",
       "      <td>8.52</td>\n",
       "      <td>67.0</td>\n",
       "      <td>0.1</td>\n",
       "      <td>669.959000</td>\n",
       "      <td>3696958.0</td>\n",
       "      <td>17.9</td>\n",
       "      <td>18.0</td>\n",
       "      <td>0.463</td>\n",
       "      <td>9.8</td>\n",
       "    </tr>\n",
       "    <tr>\n",
       "      <th>4</th>\n",
       "      <td>Afghanistan</td>\n",
       "      <td>2011</td>\n",
       "      <td>Developing</td>\n",
       "      <td>76</td>\n",
       "      <td>75</td>\n",
       "      <td>57</td>\n",
       "      <td>72</td>\n",
       "      <td>71</td>\n",
       "      <td>0.01</td>\n",
       "      <td>7.097109</td>\n",
       "      <td>48</td>\n",
       "      <td>24</td>\n",
       "      <td>3013</td>\n",
       "      <td>17.2</td>\n",
       "      <td>97</td>\n",
       "      <td>68.0</td>\n",
       "      <td>7.87</td>\n",
       "      <td>68.0</td>\n",
       "      <td>0.1</td>\n",
       "      <td>63.537231</td>\n",
       "      <td>2978599.0</td>\n",
       "      <td>18.2</td>\n",
       "      <td>18.2</td>\n",
       "      <td>0.454</td>\n",
       "      <td>9.5</td>\n",
       "    </tr>\n",
       "  </tbody>\n",
       "</table>\n",
       "</div>"
      ],
      "text/plain": [
       "       Country  Year      Status  Life expectancy (men)  \\\n",
       "0  Afghanistan  2015  Developing                     70   \n",
       "1  Afghanistan  2014  Developing                     59   \n",
       "2  Afghanistan  2013  Developing                     79   \n",
       "3  Afghanistan  2012  Developing                     65   \n",
       "4  Afghanistan  2011  Developing                     76   \n",
       "\n",
       "   Life expectancy(women)  Adult Mortality (men)  Adult Mortality (women)  \\\n",
       "0                      66                     67                       65   \n",
       "1                      67                     73                       85   \n",
       "2                      51                     87                       67   \n",
       "3                      81                     63                       91   \n",
       "4                      75                     57                       72   \n",
       "\n",
       "   Infant deaths  Alcohol  Percentage expenditure  Hepatitis B(men)  \\\n",
       "0             62     0.01               71.279624                40   \n",
       "1             64     0.01               73.523582                20   \n",
       "2             66     0.01               73.219243                25   \n",
       "3             69     0.01               78.184215                54   \n",
       "4             71     0.01                7.097109                48   \n",
       "\n",
       "   Hepatitis B(women)  Measles   BMI  Under-five deaths  Polio  \\\n",
       "0                  40     1154  19.1                 83    6.0   \n",
       "1                  43      492  18.6                 86   58.0   \n",
       "2                  39      430  18.1                 89   62.0   \n",
       "3                  42     2787  17.6                 93   67.0   \n",
       "4                  24     3013  17.2                 97   68.0   \n",
       "\n",
       "   Total expenditure  Diphtheria   HIV/AIDS         GDP  Population  \\\n",
       "0               8.16         65.0       0.1  584.259210  33736494.0   \n",
       "1               8.18         62.0       0.1  612.696514    327582.0   \n",
       "2               8.13         64.0       0.1  631.744976  31731688.0   \n",
       "3               8.52         67.0       0.1  669.959000   3696958.0   \n",
       "4               7.87         68.0       0.1   63.537231   2978599.0   \n",
       "\n",
       "   thinness  1-19 years  thinness 5-9 years  Income composition of resources  \\\n",
       "0                  17.2                17.3                            0.479   \n",
       "1                  17.5                17.5                            0.476   \n",
       "2                  17.7                17.7                            0.470   \n",
       "3                  17.9                18.0                            0.463   \n",
       "4                  18.2                18.2                            0.454   \n",
       "\n",
       "   Schooling  \n",
       "0       10.1  \n",
       "1       10.0  \n",
       "2        9.9  \n",
       "3        9.8  \n",
       "4        9.5  "
      ]
     },
     "execution_count": 15,
     "metadata": {},
     "output_type": "execute_result"
    }
   ],
   "source": [
    "df.head()"
   ]
  },
  {
   "cell_type": "code",
   "execution_count": 19,
   "metadata": {},
   "outputs": [
    {
     "data": {
      "text/html": [
       "<div>\n",
       "<style scoped>\n",
       "    .dataframe tbody tr th:only-of-type {\n",
       "        vertical-align: middle;\n",
       "    }\n",
       "\n",
       "    .dataframe tbody tr th {\n",
       "        vertical-align: top;\n",
       "    }\n",
       "\n",
       "    .dataframe thead th {\n",
       "        text-align: right;\n",
       "    }\n",
       "</style>\n",
       "<table border=\"1\" class=\"dataframe\">\n",
       "  <thead>\n",
       "    <tr style=\"text-align: right;\">\n",
       "      <th></th>\n",
       "      <th>Country</th>\n",
       "      <th>Year</th>\n",
       "      <th>Status</th>\n",
       "      <th>Life expectancy (men)</th>\n",
       "      <th>Life expectancy(women)</th>\n",
       "      <th>Adult Mortality (men)</th>\n",
       "      <th>Adult Mortality (women)</th>\n",
       "      <th>Infant deaths</th>\n",
       "      <th>Alcohol</th>\n",
       "      <th>Percentage expenditure</th>\n",
       "      <th>Hepatitis B(men)</th>\n",
       "      <th>Hepatitis B(women)</th>\n",
       "      <th>Measles</th>\n",
       "      <th>BMI</th>\n",
       "      <th>Under-five deaths</th>\n",
       "      <th>Polio</th>\n",
       "      <th>Total expenditure</th>\n",
       "      <th>Diphtheria</th>\n",
       "      <th>HIV/AIDS</th>\n",
       "      <th>GDP</th>\n",
       "      <th>Population</th>\n",
       "      <th>thinness  1-19 years</th>\n",
       "      <th>thinness 5-9 years</th>\n",
       "      <th>Income composition of resources</th>\n",
       "      <th>Schooling</th>\n",
       "    </tr>\n",
       "  </thead>\n",
       "  <tbody>\n",
       "    <tr>\n",
       "      <th>0</th>\n",
       "      <td>Angola</td>\n",
       "      <td>2015</td>\n",
       "      <td>Developing</td>\n",
       "      <td>73</td>\n",
       "      <td>71</td>\n",
       "      <td>93</td>\n",
       "      <td>59</td>\n",
       "      <td>66</td>\n",
       "      <td>NaN</td>\n",
       "      <td>0.000000</td>\n",
       "      <td>46</td>\n",
       "      <td>61</td>\n",
       "      <td>118</td>\n",
       "      <td>23.3</td>\n",
       "      <td>98</td>\n",
       "      <td>7.0</td>\n",
       "      <td>NaN</td>\n",
       "      <td>64.0</td>\n",
       "      <td>1.9</td>\n",
       "      <td>3695.793748</td>\n",
       "      <td>2785935.0</td>\n",
       "      <td>8.3</td>\n",
       "      <td>8.2</td>\n",
       "      <td>0.531</td>\n",
       "      <td>11.4</td>\n",
       "    </tr>\n",
       "    <tr>\n",
       "      <th>1</th>\n",
       "      <td>Angola</td>\n",
       "      <td>2014</td>\n",
       "      <td>Developing</td>\n",
       "      <td>60</td>\n",
       "      <td>55</td>\n",
       "      <td>58</td>\n",
       "      <td>86</td>\n",
       "      <td>67</td>\n",
       "      <td>8.33</td>\n",
       "      <td>23.965612</td>\n",
       "      <td>21</td>\n",
       "      <td>28</td>\n",
       "      <td>11699</td>\n",
       "      <td>22.7</td>\n",
       "      <td>101</td>\n",
       "      <td>68.0</td>\n",
       "      <td>3.31</td>\n",
       "      <td>64.0</td>\n",
       "      <td>2.0</td>\n",
       "      <td>479.312240</td>\n",
       "      <td>2692466.0</td>\n",
       "      <td>8.5</td>\n",
       "      <td>8.3</td>\n",
       "      <td>0.527</td>\n",
       "      <td>11.4</td>\n",
       "    </tr>\n",
       "    <tr>\n",
       "      <th>2</th>\n",
       "      <td>Angola</td>\n",
       "      <td>2013</td>\n",
       "      <td>Developing</td>\n",
       "      <td>59</td>\n",
       "      <td>68</td>\n",
       "      <td>53</td>\n",
       "      <td>73</td>\n",
       "      <td>69</td>\n",
       "      <td>8.10</td>\n",
       "      <td>35.958573</td>\n",
       "      <td>43</td>\n",
       "      <td>57</td>\n",
       "      <td>8523</td>\n",
       "      <td>22.1</td>\n",
       "      <td>105</td>\n",
       "      <td>67.0</td>\n",
       "      <td>4.26</td>\n",
       "      <td>77.0</td>\n",
       "      <td>2.3</td>\n",
       "      <td>484.616884</td>\n",
       "      <td>2599834.0</td>\n",
       "      <td>8.6</td>\n",
       "      <td>8.5</td>\n",
       "      <td>0.523</td>\n",
       "      <td>11.4</td>\n",
       "    </tr>\n",
       "    <tr>\n",
       "      <th>3</th>\n",
       "      <td>Angola</td>\n",
       "      <td>2012</td>\n",
       "      <td>Developing</td>\n",
       "      <td>70</td>\n",
       "      <td>63</td>\n",
       "      <td>74</td>\n",
       "      <td>90</td>\n",
       "      <td>72</td>\n",
       "      <td>8.24</td>\n",
       "      <td>256.122524</td>\n",
       "      <td>32</td>\n",
       "      <td>25</td>\n",
       "      <td>4458</td>\n",
       "      <td>21.5</td>\n",
       "      <td>110</td>\n",
       "      <td>75.0</td>\n",
       "      <td>3.30</td>\n",
       "      <td>75.0</td>\n",
       "      <td>2.6</td>\n",
       "      <td>4598.249988</td>\n",
       "      <td>259615.0</td>\n",
       "      <td>8.8</td>\n",
       "      <td>8.6</td>\n",
       "      <td>0.508</td>\n",
       "      <td>10.3</td>\n",
       "    </tr>\n",
       "    <tr>\n",
       "      <th>4</th>\n",
       "      <td>Angola</td>\n",
       "      <td>2011</td>\n",
       "      <td>Developing</td>\n",
       "      <td>77</td>\n",
       "      <td>75</td>\n",
       "      <td>79</td>\n",
       "      <td>81</td>\n",
       "      <td>75</td>\n",
       "      <td>8.06</td>\n",
       "      <td>239.891392</td>\n",
       "      <td>64</td>\n",
       "      <td>61</td>\n",
       "      <td>1449</td>\n",
       "      <td>21.0</td>\n",
       "      <td>115</td>\n",
       "      <td>73.0</td>\n",
       "      <td>3.38</td>\n",
       "      <td>71.0</td>\n",
       "      <td>2.5</td>\n",
       "      <td>4299.128890</td>\n",
       "      <td>24218565.0</td>\n",
       "      <td>8.9</td>\n",
       "      <td>8.8</td>\n",
       "      <td>0.495</td>\n",
       "      <td>9.4</td>\n",
       "    </tr>\n",
       "  </tbody>\n",
       "</table>\n",
       "</div>"
      ],
      "text/plain": [
       "  Country  Year      Status  Life expectancy (men)  Life expectancy(women)  \\\n",
       "0  Angola  2015  Developing                     73                      71   \n",
       "1  Angola  2014  Developing                     60                      55   \n",
       "2  Angola  2013  Developing                     59                      68   \n",
       "3  Angola  2012  Developing                     70                      63   \n",
       "4  Angola  2011  Developing                     77                      75   \n",
       "\n",
       "   Adult Mortality (men)  Adult Mortality (women)  Infant deaths  Alcohol  \\\n",
       "0                     93                       59             66      NaN   \n",
       "1                     58                       86             67     8.33   \n",
       "2                     53                       73             69     8.10   \n",
       "3                     74                       90             72     8.24   \n",
       "4                     79                       81             75     8.06   \n",
       "\n",
       "   Percentage expenditure  Hepatitis B(men)  Hepatitis B(women)  Measles  \\\n",
       "0                0.000000                46                  61      118   \n",
       "1               23.965612                21                  28    11699   \n",
       "2               35.958573                43                  57     8523   \n",
       "3              256.122524                32                  25     4458   \n",
       "4              239.891392                64                  61     1449   \n",
       "\n",
       "    BMI  Under-five deaths  Polio  Total expenditure  Diphtheria   HIV/AIDS  \\\n",
       "0  23.3                 98    7.0                NaN         64.0       1.9   \n",
       "1  22.7                101   68.0               3.31         64.0       2.0   \n",
       "2  22.1                105   67.0               4.26         77.0       2.3   \n",
       "3  21.5                110   75.0               3.30         75.0       2.6   \n",
       "4  21.0                115   73.0               3.38         71.0       2.5   \n",
       "\n",
       "           GDP  Population  thinness  1-19 years  thinness 5-9 years  \\\n",
       "0  3695.793748   2785935.0                   8.3                 8.2   \n",
       "1   479.312240   2692466.0                   8.5                 8.3   \n",
       "2   484.616884   2599834.0                   8.6                 8.5   \n",
       "3  4598.249988    259615.0                   8.8                 8.6   \n",
       "4  4299.128890  24218565.0                   8.9                 8.8   \n",
       "\n",
       "   Income composition of resources  Schooling  \n",
       "0                            0.531       11.4  \n",
       "1                            0.527       11.4  \n",
       "2                            0.523       11.4  \n",
       "3                            0.508       10.3  \n",
       "4                            0.495        9.4  "
      ]
     },
     "execution_count": 19,
     "metadata": {},
     "output_type": "execute_result"
    }
   ],
   "source": [
    "palop_countries = [\"Angola\", \"Cabo Verde\", \"Guinea-Bissau\", \"Mozambique\", \"São Tomé e Príncipe\"]\n",
    "\n",
    "palop_df = df[df['Country'].isin(palop_countries)].reset_index(drop=True)\n",
    "palop_df.head()"
   ]
  },
  {
   "cell_type": "code",
   "execution_count": 20,
   "metadata": {},
   "outputs": [
    {
     "data": {
      "text/plain": [
       "(64, 25)"
      ]
     },
     "execution_count": 20,
     "metadata": {},
     "output_type": "execute_result"
    }
   ],
   "source": [
    "palop_df.shape"
   ]
  },
  {
   "cell_type": "code",
   "execution_count": 21,
   "metadata": {},
   "outputs": [
    {
     "data": {
      "image/png": "[encoded data removed]",
      "text/plain": [
       "<Figure size 1600x1200 with 1 Axes>"
      ]
     },
     "metadata": {},
     "output_type": "display_data"
    }
   ],
   "source": [
    "# vamos analisar da população mundial, vamos apenas analisar paises palop\n",
    "plt.figure(figsize=(16, 12))\n",
    "sns.lineplot(\n",
    "    data=palop_df, x='Year', y='Population', hue='Country'\n",
    ")\n",
    "plt.title('Distribuição da população do PALOP ao longo dos anos')\n",
    "plt.legend()\n",
    "plt.xlabel('Anos')\n",
    "plt.ylabel('População em Milhões')\n",
    "plt.show()"
   ]
  },
  {
   "cell_type": "code",
   "execution_count": 22,
   "metadata": {},
   "outputs": [],
   "source": [
    "Angola = palop_df[palop_df['Country']=='Angola']"
   ]
  },
  {
   "cell_type": "markdown",
   "metadata": {},
   "source": [
    "Com base nisso podemos dizer que os dados populacionais referentes a Angola estão incorrectos, que nos leva a uma colecta de dado melhor caso haja a necessidade de uma analise mais seria , na qual haja a necessidade de extrair valor para o negocio dela.\n",
    "\n",
    "---\n",
    "\n",
    "### 2. Expectativa de Vida\n",
    "\n",
    "Comparar a expectativa de vida entre homens e mulheres em diferentes países e anos.\n",
    "\n",
    "|Fato|Dimensão|Tipo de Grafico recomendado|Descrição|\n",
    "|----|--------|---------------------------|---------|\n",
    "|Life expectancy (men), Life expectancy (woman)|Year|grafico de barra |comparação entre as expectativas de vida|\n",
    "\n",
    "Identificar tendências e mudanças na expectativa de vida ao longo do tempo.\n",
    "\n",
    "|Fato|Dimensão|Tipo de Grafico recomendado|Descrição|\n",
    "|----|--------|---------------------------|---------|\n",
    "|Life expectancy (men), Life expectancy (woman)|Year|grafico de linha |tendencias ao longo do tempo na expectativa de vida|"
   ]
  },
  {
   "cell_type": "code",
   "execution_count": 25,
   "metadata": {},
   "outputs": [
    {
     "data": {
      "application/vnd.plotly.v1+json": {
       "config": {
        "plotlyServerURL": "https://plot.ly"
       },
       "data": [
        {
         "name": "Homens",
         "orientation": "v",
         "type": "bar",
         "x": [
          2015,
          2014,
          2013,
          2012,
          2011,
          2010,
          2009,
          2008,
          2007,
          2006,
          2005,
          2004,
          2003,
          2002,
          2001,
          2000
         ],
         "y": [
          73,
          60,
          59,
          70,
          77,
          74,
          78,
          75,
          77,
          80,
          69,
          51,
          59,
          85,
          76,
          67
         ]
        },
        {
         "name": "Homens",
         "orientation": "v",
         "type": "bar",
         "x": [
          2015,
          2014,
          2013,
          2012,
          2011,
          2010,
          2009,
          2008,
          2007,
          2006,
          2005,
          2004,
          2003,
          2002,
          2001,
          2000
         ],
         "y": [
          71,
          55,
          68,
          63,
          75,
          72,
          81,
          71,
          52,
          57,
          66,
          73,
          55,
          69,
          66,
          79
         ]
        }
       ],
       "layout": {
        "template": {
         "data": {
          "bar": [
           {
            "error_x": {
             "color": "#2a3f5f"
            },
            "error_y": {
             "color": "#2a3f5f"
            },
            "marker": {
             "line": {
              "color": "#E5ECF6",
              "width": 0.5
             },
             "pattern": {
              "fillmode": "overlay",
              "size": 10,
              "solidity": 0.2
             }
            },
            "type": "bar"
           }
          ],
          "barpolar": [
           {
            "marker": {
             "line": {
              "color": "#E5ECF6",
              "width": 0.5
             },
             "pattern": {
              "fillmode": "overlay",
              "size": 10,
              "solidity": 0.2
             }
            },
            "type": "barpolar"
           }
          ],
          "carpet": [
           {
            "aaxis": {
             "endlinecolor": "#2a3f5f",
             "gridcolor": "white",
             "linecolor": "white",
             "minorgridcolor": "white",
             "startlinecolor": "#2a3f5f"
            },
            "baxis": {
             "endlinecolor": "#2a3f5f",
             "gridcolor": "white",
             "linecolor": "white",
             "minorgridcolor": "white",
             "startlinecolor": "#2a3f5f"
            },
            "type": "carpet"
           }
          ],
          "choropleth": [
           {
            "colorbar": {
             "outlinewidth": 0,
             "ticks": ""
            },
            "type": "choropleth"
           }
          ],
          "contour": [
           {
            "colorbar": {
             "outlinewidth": 0,
             "ticks": ""
            },
            "colorscale": [
             [
              0,
              "#0d0887"
             ],
             [
              0.1111111111111111,
              "#46039f"
             ],
             [
              0.2222222222222222,
              "#7201a8"
             ],
             [
              0.3333333333333333,
              "#9c179e"
             ],
             [
              0.4444444444444444,
              "#bd3786"
             ],
             [
              0.5555555555555556,
              "#d8576b"
             ],
             [
              0.6666666666666666,
              "#ed7953"
             ],
             [
              0.7777777777777778,
              "#fb9f3a"
             ],
             [
              0.8888888888888888,
              "#fdca26"
             ],
             [
              1,
              "#f0f921"
             ]
            ],
            "type": "contour"
           }
          ],
          "contourcarpet": [
           {
            "colorbar": {
             "outlinewidth": 0,
             "ticks": ""
            },
            "type": "contourcarpet"
           }
          ],
          "heatmap": [
           {
            "colorbar": {
             "outlinewidth": 0,
             "ticks": ""
            },
            "colorscale": [
             [
              0,
              "#0d0887"
             ],
             [
              0.1111111111111111,
              "#46039f"
             ],
             [
              0.2222222222222222,
              "#7201a8"
             ],
             [
              0.3333333333333333,
              "#9c179e"
             ],
             [
              0.4444444444444444,
              "#bd3786"
             ],
             [
              0.5555555555555556,
              "#d8576b"
             ],
             [
              0.6666666666666666,
              "#ed7953"
             ],
             [
              0.7777777777777778,
              "#fb9f3a"
             ],
             [
              0.8888888888888888,
              "#fdca26"
             ],
             [
              1,
              "#f0f921"
             ]
            ],
            "type": "heatmap"
           }
          ],
          "heatmapgl": [
           {
            "colorbar": {
             "outlinewidth": 0,
             "ticks": ""
            },
            "colorscale": [
             [
              0,
              "#0d0887"
             ],
             [
              0.1111111111111111,
              "#46039f"
             ],
             [
              0.2222222222222222,
              "#7201a8"
             ],
             [
              0.3333333333333333,
              "#9c179e"
             ],
             [
              0.4444444444444444,
              "#bd3786"
             ],
             [
              0.5555555555555556,
              "#d8576b"
             ],
             [
              0.6666666666666666,
              "#ed7953"
             ],
             [
              0.7777777777777778,
              "#fb9f3a"
             ],
             [
              0.8888888888888888,
              "#fdca26"
             ],
             [
              1,
              "#f0f921"
             ]
            ],
            "type": "heatmapgl"
           }
          ],
          "histogram": [
           {
            "marker": {
             "pattern": {
              "fillmode": "overlay",
              "size": 10,
              "solidity": 0.2
             }
            },
            "type": "histogram"
           }
          ],
          "histogram2d": [
           {
            "colorbar": {
             "outlinewidth": 0,
             "ticks": ""
            },
            "colorscale": [
             [
              0,
              "#0d0887"
             ],
             [
              0.1111111111111111,
              "#46039f"
             ],
             [
              0.2222222222222222,
              "#7201a8"
             ],
             [
              0.3333333333333333,
              "#9c179e"
             ],
             [
              0.4444444444444444,
              "#bd3786"
             ],
             [
              0.5555555555555556,
              "#d8576b"
             ],
             [
              0.6666666666666666,
              "#ed7953"
             ],
             [
              0.7777777777777778,
              "#fb9f3a"
             ],
             [
              0.8888888888888888,
              "#fdca26"
             ],
             [
              1,
              "#f0f921"
             ]
            ],
            "type": "histogram2d"
           }
          ],
          "histogram2dcontour": [
           {
            "colorbar": {
             "outlinewidth": 0,
             "ticks": ""
            },
            "colorscale": [
             [
              0,
              "#0d0887"
             ],
             [
              0.1111111111111111,
              "#46039f"
             ],
             [
              0.2222222222222222,
              "#7201a8"
             ],
             [
              0.3333333333333333,
              "#9c179e"
             ],
             [
              0.4444444444444444,
              "#bd3786"
             ],
             [
              0.5555555555555556,
              "#d8576b"
             ],
             [
              0.6666666666666666,
              "#ed7953"
             ],
             [
              0.7777777777777778,
              "#fb9f3a"
             ],
             [
              0.8888888888888888,
              "#fdca26"
             ],
             [
              1,
              "#f0f921"
             ]
            ],
            "type": "histogram2dcontour"
           }
          ],
          "mesh3d": [
           {
            "colorbar": {
             "outlinewidth": 0,
             "ticks": ""
            },
            "type": "mesh3d"
           }
          ],
          "parcoords": [
           {
            "line": {
             "colorbar": {
              "outlinewidth": 0,
              "ticks": ""
             }
            },
            "type": "parcoords"
           }
          ],
          "pie": [
           {
            "automargin": true,
            "type": "pie"
           }
          ],
          "scatter": [
           {
            "fillpattern": {
             "fillmode": "overlay",
             "size": 10,
             "solidity": 0.2
            },
            "type": "scatter"
           }
          ],
          "scatter3d": [
           {
            "line": {
             "colorbar": {
              "outlinewidth": 0,
              "ticks": ""
             }
            },
            "marker": {
             "colorbar": {
              "outlinewidth": 0,
              "ticks": ""
             }
            },
            "type": "scatter3d"
           }
          ],
          "scattercarpet": [
           {
            "marker": {
             "colorbar": {
              "outlinewidth": 0,
              "ticks": ""
             }
            },
            "type": "scattercarpet"
           }
          ],
          "scattergeo": [
           {
            "marker": {
             "colorbar": {
              "outlinewidth": 0,
              "ticks": ""
             }
            },
            "type": "scattergeo"
           }
          ],
          "scattergl": [
           {
            "marker": {
             "colorbar": {
              "outlinewidth": 0,
              "ticks": ""
             }
            },
            "type": "scattergl"
           }
          ],
          "scattermapbox": [
           {
            "marker": {
             "colorbar": {
              "outlinewidth": 0,
              "ticks": ""
             }
            },
            "type": "scattermapbox"
           }
          ],
          "scatterpolar": [
           {
            "marker": {
             "colorbar": {
              "outlinewidth": 0,
              "ticks": ""
             }
            },
            "type": "scatterpolar"
           }
          ],
          "scatterpolargl": [
           {
            "marker": {
             "colorbar": {
              "outlinewidth": 0,
              "ticks": ""
             }
            },
            "type": "scatterpolargl"
           }
          ],
          "scatterternary": [
           {
            "marker": {
             "colorbar": {
              "outlinewidth": 0,
              "ticks": ""
             }
            },
            "type": "scatterternary"
           }
          ],
          "surface": [
           {
            "colorbar": {
             "outlinewidth": 0,
             "ticks": ""
            },
            "colorscale": [
             [
              0,
              "#0d0887"
             ],
             [
              0.1111111111111111,
              "#46039f"
             ],
             [
              0.2222222222222222,
              "#7201a8"
             ],
             [
              0.3333333333333333,
              "#9c179e"
             ],
             [
              0.4444444444444444,
              "#bd3786"
             ],
             [
              0.5555555555555556,
              "#d8576b"
             ],
             [
              0.6666666666666666,
              "#ed7953"
             ],
             [
              0.7777777777777778,
              "#fb9f3a"
             ],
             [
              0.8888888888888888,
              "#fdca26"
             ],
             [
              1,
              "#f0f921"
             ]
            ],
            "type": "surface"
           }
          ],
          "table": [
           {
            "cells": {
             "fill": {
              "color": "#EBF0F8"
             },
             "line": {
              "color": "white"
             }
            },
            "header": {
             "fill": {
              "color": "#C8D4E3"
             },
             "line": {
              "color": "white"
             }
            },
            "type": "table"
           }
          ]
         },
         "layout": {
          "annotationdefaults": {
           "arrowcolor": "#2a3f5f",
           "arrowhead": 0,
           "arrowwidth": 1
          },
          "autotypenumbers": "strict",
          "coloraxis": {
           "colorbar": {
            "outlinewidth": 0,
            "ticks": ""
           }
          },
          "colorscale": {
           "diverging": [
            [
             0,
             "#8e0152"
            ],
            [
             0.1,
             "#c51b7d"
            ],
            [
             0.2,
             "#de77ae"
            ],
            [
             0.3,
             "#f1b6da"
            ],
            [
             0.4,
             "#fde0ef"
            ],
            [
             0.5,
             "#f7f7f7"
            ],
            [
             0.6,
             "#e6f5d0"
            ],
            [
             0.7,
             "#b8e186"
            ],
            [
             0.8,
             "#7fbc41"
            ],
            [
             0.9,
             "#4d9221"
            ],
            [
             1,
             "#276419"
            ]
           ],
           "sequential": [
            [
             0,
             "#0d0887"
            ],
            [
             0.1111111111111111,
             "#46039f"
            ],
            [
             0.2222222222222222,
             "#7201a8"
            ],
            [
             0.3333333333333333,
             "#9c179e"
            ],
            [
             0.4444444444444444,
             "#bd3786"
            ],
            [
             0.5555555555555556,
             "#d8576b"
            ],
            [
             0.6666666666666666,
             "#ed7953"
            ],
            [
             0.7777777777777778,
             "#fb9f3a"
            ],
            [
             0.8888888888888888,
             "#fdca26"
            ],
            [
             1,
             "#f0f921"
            ]
           ],
           "sequentialminus": [
            [
             0,
             "#0d0887"
            ],
            [
             0.1111111111111111,
             "#46039f"
            ],
            [
             0.2222222222222222,
             "#7201a8"
            ],
            [
             0.3333333333333333,
             "#9c179e"
            ],
            [
             0.4444444444444444,
             "#bd3786"
            ],
            [
             0.5555555555555556,
             "#d8576b"
            ],
            [
             0.6666666666666666,
             "#ed7953"
            ],
            [
             0.7777777777777778,
             "#fb9f3a"
            ],
            [
             0.8888888888888888,
             "#fdca26"
            ],
            [
             1,
             "#f0f921"
            ]
           ]
          },
          "colorway": [
           "#636efa",
           "#EF553B",
           "#00cc96",
           "#ab63fa",
           "#FFA15A",
           "#19d3f3",
           "#FF6692",
           "#B6E880",
           "#FF97FF",
           "#FECB52"
          ],
          "font": {
           "color": "#2a3f5f"
          },
          "geo": {
           "bgcolor": "white",
           "lakecolor": "white",
           "landcolor": "#E5ECF6",
           "showlakes": true,
           "showland": true,
           "subunitcolor": "white"
          },
          "hoverlabel": {
           "align": "left"
          },
          "hovermode": "closest",
          "mapbox": {
           "style": "light"
          },
          "paper_bgcolor": "white",
          "plot_bgcolor": "#E5ECF6",
          "polar": {
           "angularaxis": {
            "gridcolor": "white",
            "linecolor": "white",
            "ticks": ""
           },
           "bgcolor": "#E5ECF6",
           "radialaxis": {
            "gridcolor": "white",
            "linecolor": "white",
            "ticks": ""
           }
          },
          "scene": {
           "xaxis": {
            "backgroundcolor": "#E5ECF6",
            "gridcolor": "white",
            "gridwidth": 2,
            "linecolor": "white",
            "showbackground": true,
            "ticks": "",
            "zerolinecolor": "white"
           },
           "yaxis": {
            "backgroundcolor": "#E5ECF6",
            "gridcolor": "white",
            "gridwidth": 2,
            "linecolor": "white",
            "showbackground": true,
            "ticks": "",
            "zerolinecolor": "white"
           },
           "zaxis": {
            "backgroundcolor": "#E5ECF6",
            "gridcolor": "white",
            "gridwidth": 2,
            "linecolor": "white",
            "showbackground": true,
            "ticks": "",
            "zerolinecolor": "white"
           }
          },
          "shapedefaults": {
           "line": {
            "color": "#2a3f5f"
           }
          },
          "ternary": {
           "aaxis": {
            "gridcolor": "white",
            "linecolor": "white",
            "ticks": ""
           },
           "baxis": {
            "gridcolor": "white",
            "linecolor": "white",
            "ticks": ""
           },
           "bgcolor": "#E5ECF6",
           "caxis": {
            "gridcolor": "white",
            "linecolor": "white",
            "ticks": ""
           }
          },
          "title": {
           "x": 0.05
          },
          "xaxis": {
           "automargin": true,
           "gridcolor": "white",
           "linecolor": "white",
           "ticks": "",
           "title": {
            "standoff": 15
           },
           "zerolinecolor": "white",
           "zerolinewidth": 2
          },
          "yaxis": {
           "automargin": true,
           "gridcolor": "white",
           "linecolor": "white",
           "ticks": "",
           "title": {
            "standoff": 15
           },
           "zerolinecolor": "white",
           "zerolinewidth": 2
          }
         }
        },
        "title": {
         "text": "Expectativa de Vida"
        }
       }
      }
     },
     "metadata": {},
     "output_type": "display_data"
    }
   ],
   "source": [
    "#@title: Comparar a expectativa de vida entre homens e mulheres em diferentes países e anos.\n",
    "\n",
    "plot = pg.Figure(\n",
    "    data=[pg.Bar(name='Homens',x=Angola['Year'], y=Angola['Life expectancy (men)'], orientation='v'),\n",
    "          pg.Bar(name='Homens',x=Angola['Year'], y=Angola['Life expectancy(women)'], orientation='v')]\n",
    ")\n",
    "\n",
    "# Add titulo, e forma ao grafico\n",
    "plot.update_layout(\n",
    "    title=\"Expectativa de Vida\"\n",
    ")\n",
    "\n",
    "# Plotando o grafico\n",
    "plot.show()"
   ]
  },
  {
   "cell_type": "code",
   "execution_count": 30,
   "metadata": {},
   "outputs": [
    {
     "data": {
      "application/vnd.plotly.v1+json": {
       "config": {
        "plotlyServerURL": "https://plot.ly"
       },
       "data": [
        {
         "alignmentgroup": "True",
         "hovertemplate": "Country=Angola<br>Year=%{x}<br>Expectativa de Vida=%{y}<extra></extra>",
         "legendgroup": "Angola",
         "marker": {
          "color": "#636efa",
          "pattern": {
           "shape": ""
          }
         },
         "name": "Angola",
         "offsetgroup": "Angola",
         "orientation": "v",
         "showlegend": true,
         "textposition": "auto",
         "type": "bar",
         "x": [
          2015,
          2014,
          2013,
          2012,
          2011,
          2010,
          2009,
          2008,
          2007,
          2006,
          2005,
          2004,
          2003,
          2002,
          2001,
          2000,
          2015,
          2014,
          2013,
          2012,
          2011,
          2010,
          2009,
          2008,
          2007,
          2006,
          2005,
          2004,
          2003,
          2002,
          2001,
          2000
         ],
         "xaxis": "x",
         "y": [
          73,
          60,
          59,
          70,
          77,
          74,
          78,
          75,
          77,
          80,
          69,
          51,
          59,
          85,
          76,
          67,
          71,
          55,
          68,
          63,
          75,
          72,
          81,
          71,
          52,
          57,
          66,
          73,
          55,
          69,
          66,
          79
         ],
         "yaxis": "y"
        },
        {
         "alignmentgroup": "True",
         "hovertemplate": "Country=Cabo Verde<br>Year=%{x}<br>Expectativa de Vida=%{y}<extra></extra>",
         "legendgroup": "Cabo Verde",
         "marker": {
          "color": "#EF553B",
          "pattern": {
           "shape": ""
          }
         },
         "name": "Cabo Verde",
         "offsetgroup": "Cabo Verde",
         "orientation": "v",
         "showlegend": true,
         "textposition": "auto",
         "type": "bar",
         "x": [
          2015,
          2014,
          2013,
          2012,
          2011,
          2010,
          2009,
          2008,
          2007,
          2006,
          2005,
          2004,
          2003,
          2002,
          2001,
          2000,
          2015,
          2014,
          2013,
          2012,
          2011,
          2010,
          2009,
          2008,
          2007,
          2006,
          2005,
          2004,
          2003,
          2002,
          2001,
          2000
         ],
         "xaxis": "x",
         "y": [
          82,
          63,
          83,
          84,
          64,
          71,
          81,
          80,
          58,
          61,
          84,
          54,
          76,
          74,
          62,
          85,
          79,
          68,
          60,
          60,
          75,
          62,
          54,
          70,
          77,
          58,
          51,
          79,
          73,
          71,
          69,
          68
         ],
         "yaxis": "y"
        },
        {
         "alignmentgroup": "True",
         "hovertemplate": "Country=Guinea-Bissau<br>Year=%{x}<br>Expectativa de Vida=%{y}<extra></extra>",
         "legendgroup": "Guinea-Bissau",
         "marker": {
          "color": "#00cc96",
          "pattern": {
           "shape": ""
          }
         },
         "name": "Guinea-Bissau",
         "offsetgroup": "Guinea-Bissau",
         "orientation": "v",
         "showlegend": true,
         "textposition": "auto",
         "type": "bar",
         "x": [
          2015,
          2014,
          2013,
          2012,
          2011,
          2010,
          2009,
          2008,
          2007,
          2006,
          2005,
          2004,
          2003,
          2002,
          2001,
          2000,
          2015,
          2014,
          2013,
          2012,
          2011,
          2010,
          2009,
          2008,
          2007,
          2006,
          2005,
          2004,
          2003,
          2002,
          2001,
          2000
         ],
         "xaxis": "x",
         "y": [
          60,
          78,
          79,
          71,
          57,
          60,
          64,
          57,
          55,
          52,
          68,
          57,
          71,
          53,
          51,
          68,
          73,
          78,
          70,
          69,
          59,
          85,
          56,
          64,
          81,
          56,
          83,
          84,
          79,
          55,
          58,
          73
         ],
         "yaxis": "y"
        },
        {
         "alignmentgroup": "True",
         "hovertemplate": "Country=Mozambique<br>Year=%{x}<br>Expectativa de Vida=%{y}<extra></extra>",
         "legendgroup": "Mozambique",
         "marker": {
          "color": "#ab63fa",
          "pattern": {
           "shape": ""
          }
         },
         "name": "Mozambique",
         "offsetgroup": "Mozambique",
         "orientation": "v",
         "showlegend": true,
         "textposition": "auto",
         "type": "bar",
         "x": [
          2015,
          2014,
          2013,
          2012,
          2011,
          2010,
          2009,
          2008,
          2007,
          2006,
          2005,
          2004,
          2003,
          2002,
          2001,
          2000,
          2015,
          2014,
          2013,
          2012,
          2011,
          2010,
          2009,
          2008,
          2007,
          2006,
          2005,
          2004,
          2003,
          2002,
          2001,
          2000
         ],
         "xaxis": "x",
         "y": [
          58,
          67,
          52,
          53,
          52,
          60,
          81,
          53,
          50,
          77,
          74,
          81,
          54,
          85,
          77,
          59,
          66,
          62,
          51,
          64,
          59,
          71,
          72,
          81,
          61,
          63,
          69,
          53,
          56,
          59,
          61,
          85
         ],
         "yaxis": "y"
        }
       ],
       "layout": {
        "barmode": "group",
        "legend": {
         "title": {
          "text": "Gênero"
         },
         "tracegroupgap": 0
        },
        "template": {
         "data": {
          "bar": [
           {
            "error_x": {
             "color": "#2a3f5f"
            },
            "error_y": {
             "color": "#2a3f5f"
            },
            "marker": {
             "line": {
              "color": "#E5ECF6",
              "width": 0.5
             },
             "pattern": {
              "fillmode": "overlay",
              "size": 10,
              "solidity": 0.2
             }
            },
            "type": "bar"
           }
          ],
          "barpolar": [
           {
            "marker": {
             "line": {
              "color": "#E5ECF6",
              "width": 0.5
             },
             "pattern": {
              "fillmode": "overlay",
              "size": 10,
              "solidity": 0.2
             }
            },
            "type": "barpolar"
           }
          ],
          "carpet": [
           {
            "aaxis": {
             "endlinecolor": "#2a3f5f",
             "gridcolor": "white",
             "linecolor": "white",
             "minorgridcolor": "white",
             "startlinecolor": "#2a3f5f"
            },
            "baxis": {
             "endlinecolor": "#2a3f5f",
             "gridcolor": "white",
             "linecolor": "white",
             "minorgridcolor": "white",
             "startlinecolor": "#2a3f5f"
            },
            "type": "carpet"
           }
          ],
          "choropleth": [
           {
            "colorbar": {
             "outlinewidth": 0,
             "ticks": ""
            },
            "type": "choropleth"
           }
          ],
          "contour": [
           {
            "colorbar": {
             "outlinewidth": 0,
             "ticks": ""
            },
            "colorscale": [
             [
              0,
              "#0d0887"
             ],
             [
              0.1111111111111111,
              "#46039f"
             ],
             [
              0.2222222222222222,
              "#7201a8"
             ],
             [
              0.3333333333333333,
              "#9c179e"
             ],
             [
              0.4444444444444444,
              "#bd3786"
             ],
             [
              0.5555555555555556,
              "#d8576b"
             ],
             [
              0.6666666666666666,
              "#ed7953"
             ],
             [
              0.7777777777777778,
              "#fb9f3a"
             ],
             [
              0.8888888888888888,
              "#fdca26"
             ],
             [
              1,
              "#f0f921"
             ]
            ],
            "type": "contour"
           }
          ],
          "contourcarpet": [
           {
            "colorbar": {
             "outlinewidth": 0,
             "ticks": ""
            },
            "type": "contourcarpet"
           }
          ],
          "heatmap": [
           {
            "colorbar": {
             "outlinewidth": 0,
             "ticks": ""
            },
            "colorscale": [
             [
              0,
              "#0d0887"
             ],
             [
              0.1111111111111111,
              "#46039f"
             ],
             [
              0.2222222222222222,
              "#7201a8"
             ],
             [
              0.3333333333333333,
              "#9c179e"
             ],
             [
              0.4444444444444444,
              "#bd3786"
             ],
             [
              0.5555555555555556,
              "#d8576b"
             ],
             [
              0.6666666666666666,
              "#ed7953"
             ],
             [
              0.7777777777777778,
              "#fb9f3a"
             ],
             [
              0.8888888888888888,
              "#fdca26"
             ],
             [
              1,
              "#f0f921"
             ]
            ],
            "type": "heatmap"
           }
          ],
          "heatmapgl": [
           {
            "colorbar": {
             "outlinewidth": 0,
             "ticks": ""
            },
            "colorscale": [
             [
              0,
              "#0d0887"
             ],
             [
              0.1111111111111111,
              "#46039f"
             ],
             [
              0.2222222222222222,
              "#7201a8"
             ],
             [
              0.3333333333333333,
              "#9c179e"
             ],
             [
              0.4444444444444444,
              "#bd3786"
             ],
             [
              0.5555555555555556,
              "#d8576b"
             ],
             [
              0.6666666666666666,
              "#ed7953"
             ],
             [
              0.7777777777777778,
              "#fb9f3a"
             ],
             [
              0.8888888888888888,
              "#fdca26"
             ],
             [
              1,
              "#f0f921"
             ]
            ],
            "type": "heatmapgl"
           }
          ],
          "histogram": [
           {
            "marker": {
             "pattern": {
              "fillmode": "overlay",
              "size": 10,
              "solidity": 0.2
             }
            },
            "type": "histogram"
           }
          ],
          "histogram2d": [
           {
            "colorbar": {
             "outlinewidth": 0,
             "ticks": ""
            },
            "colorscale": [
             [
              0,
              "#0d0887"
             ],
             [
              0.1111111111111111,
              "#46039f"
             ],
             [
              0.2222222222222222,
              "#7201a8"
             ],
             [
              0.3333333333333333,
              "#9c179e"
             ],
             [
              0.4444444444444444,
              "#bd3786"
             ],
             [
              0.5555555555555556,
              "#d8576b"
             ],
             [
              0.6666666666666666,
              "#ed7953"
             ],
             [
              0.7777777777777778,
              "#fb9f3a"
             ],
             [
              0.8888888888888888,
              "#fdca26"
             ],
             [
              1,
              "#f0f921"
             ]
            ],
            "type": "histogram2d"
           }
          ],
          "histogram2dcontour": [
           {
            "colorbar": {
             "outlinewidth": 0,
             "ticks": ""
            },
            "colorscale": [
             [
              0,
              "#0d0887"
             ],
             [
              0.1111111111111111,
              "#46039f"
             ],
             [
              0.2222222222222222,
              "#7201a8"
             ],
             [
              0.3333333333333333,
              "#9c179e"
             ],
             [
              0.4444444444444444,
              "#bd3786"
             ],
             [
              0.5555555555555556,
              "#d8576b"
             ],
             [
              0.6666666666666666,
              "#ed7953"
             ],
             [
              0.7777777777777778,
              "#fb9f3a"
             ],
             [
              0.8888888888888888,
              "#fdca26"
             ],
             [
              1,
              "#f0f921"
             ]
            ],
            "type": "histogram2dcontour"
           }
          ],
          "mesh3d": [
           {
            "colorbar": {
             "outlinewidth": 0,
             "ticks": ""
            },
            "type": "mesh3d"
           }
          ],
          "parcoords": [
           {
            "line": {
             "colorbar": {
              "outlinewidth": 0,
              "ticks": ""
             }
            },
            "type": "parcoords"
           }
          ],
          "pie": [
           {
            "automargin": true,
            "type": "pie"
           }
          ],
          "scatter": [
           {
            "fillpattern": {
             "fillmode": "overlay",
             "size": 10,
             "solidity": 0.2
            },
            "type": "scatter"
           }
          ],
          "scatter3d": [
           {
            "line": {
             "colorbar": {
              "outlinewidth": 0,
              "ticks": ""
             }
            },
            "marker": {
             "colorbar": {
              "outlinewidth": 0,
              "ticks": ""
             }
            },
            "type": "scatter3d"
           }
          ],
          "scattercarpet": [
           {
            "marker": {
             "colorbar": {
              "outlinewidth": 0,
              "ticks": ""
             }
            },
            "type": "scattercarpet"
           }
          ],
          "scattergeo": [
           {
            "marker": {
             "colorbar": {
              "outlinewidth": 0,
              "ticks": ""
             }
            },
            "type": "scattergeo"
           }
          ],
          "scattergl": [
           {
            "marker": {
             "colorbar": {
              "outlinewidth": 0,
              "ticks": ""
             }
            },
            "type": "scattergl"
           }
          ],
          "scattermapbox": [
           {
            "marker": {
             "colorbar": {
              "outlinewidth": 0,
              "ticks": ""
             }
            },
            "type": "scattermapbox"
           }
          ],
          "scatterpolar": [
           {
            "marker": {
             "colorbar": {
              "outlinewidth": 0,
              "ticks": ""
             }
            },
            "type": "scatterpolar"
           }
          ],
          "scatterpolargl": [
           {
            "marker": {
             "colorbar": {
              "outlinewidth": 0,
              "ticks": ""
             }
            },
            "type": "scatterpolargl"
           }
          ],
          "scatterternary": [
           {
            "marker": {
             "colorbar": {
              "outlinewidth": 0,
              "ticks": ""
             }
            },
            "type": "scatterternary"
           }
          ],
          "surface": [
           {
            "colorbar": {
             "outlinewidth": 0,
             "ticks": ""
            },
            "colorscale": [
             [
              0,
              "#0d0887"
             ],
             [
              0.1111111111111111,
              "#46039f"
             ],
             [
              0.2222222222222222,
              "#7201a8"
             ],
             [
              0.3333333333333333,
              "#9c179e"
             ],
             [
              0.4444444444444444,
              "#bd3786"
             ],
             [
              0.5555555555555556,
              "#d8576b"
             ],
             [
              0.6666666666666666,
              "#ed7953"
             ],
             [
              0.7777777777777778,
              "#fb9f3a"
             ],
             [
              0.8888888888888888,
              "#fdca26"
             ],
             [
              1,
              "#f0f921"
             ]
            ],
            "type": "surface"
           }
          ],
          "table": [
           {
            "cells": {
             "fill": {
              "color": "#EBF0F8"
             },
             "line": {
              "color": "white"
             }
            },
            "header": {
             "fill": {
              "color": "#C8D4E3"
             },
             "line": {
              "color": "white"
             }
            },
            "type": "table"
           }
          ]
         },
         "layout": {
          "annotationdefaults": {
           "arrowcolor": "#2a3f5f",
           "arrowhead": 0,
           "arrowwidth": 1
          },
          "autotypenumbers": "strict",
          "coloraxis": {
           "colorbar": {
            "outlinewidth": 0,
            "ticks": ""
           }
          },
          "colorscale": {
           "diverging": [
            [
             0,
             "#8e0152"
            ],
            [
             0.1,
             "#c51b7d"
            ],
            [
             0.2,
             "#de77ae"
            ],
            [
             0.3,
             "#f1b6da"
            ],
            [
             0.4,
             "#fde0ef"
            ],
            [
             0.5,
             "#f7f7f7"
            ],
            [
             0.6,
             "#e6f5d0"
            ],
            [
             0.7,
             "#b8e186"
            ],
            [
             0.8,
             "#7fbc41"
            ],
            [
             0.9,
             "#4d9221"
            ],
            [
             1,
             "#276419"
            ]
           ],
           "sequential": [
            [
             0,
             "#0d0887"
            ],
            [
             0.1111111111111111,
             "#46039f"
            ],
            [
             0.2222222222222222,
             "#7201a8"
            ],
            [
             0.3333333333333333,
             "#9c179e"
            ],
            [
             0.4444444444444444,
             "#bd3786"
            ],
            [
             0.5555555555555556,
             "#d8576b"
            ],
            [
             0.6666666666666666,
             "#ed7953"
            ],
            [
             0.7777777777777778,
             "#fb9f3a"
            ],
            [
             0.8888888888888888,
             "#fdca26"
            ],
            [
             1,
             "#f0f921"
            ]
           ],
           "sequentialminus": [
            [
             0,
             "#0d0887"
            ],
            [
             0.1111111111111111,
             "#46039f"
            ],
            [
             0.2222222222222222,
             "#7201a8"
            ],
            [
             0.3333333333333333,
             "#9c179e"
            ],
            [
             0.4444444444444444,
             "#bd3786"
            ],
            [
             0.5555555555555556,
             "#d8576b"
            ],
            [
             0.6666666666666666,
             "#ed7953"
            ],
            [
             0.7777777777777778,
             "#fb9f3a"
            ],
            [
             0.8888888888888888,
             "#fdca26"
            ],
            [
             1,
             "#f0f921"
            ]
           ]
          },
          "colorway": [
           "#636efa",
           "#EF553B",
           "#00cc96",
           "#ab63fa",
           "#FFA15A",
           "#19d3f3",
           "#FF6692",
           "#B6E880",
           "#FF97FF",
           "#FECB52"
          ],
          "font": {
           "color": "#2a3f5f"
          },
          "geo": {
           "bgcolor": "white",
           "lakecolor": "white",
           "landcolor": "#E5ECF6",
           "showlakes": true,
           "showland": true,
           "subunitcolor": "white"
          },
          "hoverlabel": {
           "align": "left"
          },
          "hovermode": "closest",
          "mapbox": {
           "style": "light"
          },
          "paper_bgcolor": "white",
          "plot_bgcolor": "#E5ECF6",
          "polar": {
           "angularaxis": {
            "gridcolor": "white",
            "linecolor": "white",
            "ticks": ""
           },
           "bgcolor": "#E5ECF6",
           "radialaxis": {
            "gridcolor": "white",
            "linecolor": "white",
            "ticks": ""
           }
          },
          "scene": {
           "xaxis": {
            "backgroundcolor": "#E5ECF6",
            "gridcolor": "white",
            "gridwidth": 2,
            "linecolor": "white",
            "showbackground": true,
            "ticks": "",
            "zerolinecolor": "white"
           },
           "yaxis": {
            "backgroundcolor": "#E5ECF6",
            "gridcolor": "white",
            "gridwidth": 2,
            "linecolor": "white",
            "showbackground": true,
            "ticks": "",
            "zerolinecolor": "white"
           },
           "zaxis": {
            "backgroundcolor": "#E5ECF6",
            "gridcolor": "white",
            "gridwidth": 2,
            "linecolor": "white",
            "showbackground": true,
            "ticks": "",
            "zerolinecolor": "white"
           }
          },
          "shapedefaults": {
           "line": {
            "color": "#2a3f5f"
           }
          },
          "ternary": {
           "aaxis": {
            "gridcolor": "white",
            "linecolor": "white",
            "ticks": ""
           },
           "baxis": {
            "gridcolor": "white",
            "linecolor": "white",
            "ticks": ""
           },
           "bgcolor": "#E5ECF6",
           "caxis": {
            "gridcolor": "white",
            "linecolor": "white",
            "ticks": ""
           }
          },
          "title": {
           "x": 0.05
          },
          "xaxis": {
           "automargin": true,
           "gridcolor": "white",
           "linecolor": "white",
           "ticks": "",
           "title": {
            "standoff": 15
           },
           "zerolinecolor": "white",
           "zerolinewidth": 2
          },
          "yaxis": {
           "automargin": true,
           "gridcolor": "white",
           "linecolor": "white",
           "ticks": "",
           "title": {
            "standoff": 15
           },
           "zerolinecolor": "white",
           "zerolinewidth": 2
          }
         }
        },
        "title": {
         "text": "Comparação da Expectativa de Vida por País"
        },
        "xaxis": {
         "anchor": "y",
         "domain": [
          0,
          1
         ],
         "tickangle": -45,
         "title": {
          "text": "Ano"
         }
        },
        "yaxis": {
         "anchor": "x",
         "domain": [
          0,
          1
         ],
         "title": {
          "text": "Expectativa de Vida"
         }
        }
       }
      }
     },
     "metadata": {},
     "output_type": "display_data"
    }
   ],
   "source": [
    "fig = px.bar(\n",
    "    palop_df,\n",
    "    x='Year',\n",
    "    y=['Life expectancy (men)', 'Life expectancy(women)'],\n",
    "    barmode='group',\n",
    "    title='Comparação da Expectativa de Vida por País',\n",
    "    labels={'value': 'Expectativa de Vida', 'variable': 'Gênero'}, color='Country'\n",
    ")\n",
    "\n",
    "# Ajustar o layout\n",
    "fig.update_layout(\n",
    "    xaxis_title='Ano',\n",
    "    yaxis_title='Expectativa de Vida',\n",
    "    legend_title='Gênero',\n",
    "    xaxis_tickangle=-45\n",
    ")\n",
    "\n",
    "# Exibir o gráfico\n",
    "fig.show()"
   ]
  },
  {
   "cell_type": "code",
   "execution_count": 34,
   "metadata": {},
   "outputs": [
    {
     "data": {
      "application/vnd.plotly.v1+json": {
       "config": {
        "plotlyServerURL": "https://plot.ly"
       },
       "data": [
        {
         "hovertemplate": "Country=Angola<br>Páis=Life expectancy (men)<br>Year=%{x}<br>Expectativa de Vida=%{y}<extra></extra>",
         "legendgroup": "Angola",
         "line": {
          "color": "#636efa",
          "dash": "solid"
         },
         "marker": {
          "symbol": "circle"
         },
         "mode": "lines",
         "name": "Angola",
         "orientation": "v",
         "showlegend": true,
         "type": "scatter",
         "x": [
          2015,
          2014,
          2013,
          2012,
          2011,
          2010,
          2009,
          2008,
          2007,
          2006,
          2005,
          2004,
          2003,
          2002,
          2001,
          2000
         ],
         "xaxis": "x",
         "y": [
          73,
          60,
          59,
          70,
          77,
          74,
          78,
          75,
          77,
          80,
          69,
          51,
          59,
          85,
          76,
          67
         ],
         "yaxis": "y"
        },
        {
         "hovertemplate": "Country=Cabo Verde<br>Páis=Life expectancy (men)<br>Year=%{x}<br>Expectativa de Vida=%{y}<extra></extra>",
         "legendgroup": "Cabo Verde",
         "line": {
          "color": "#EF553B",
          "dash": "solid"
         },
         "marker": {
          "symbol": "circle"
         },
         "mode": "lines",
         "name": "Cabo Verde",
         "orientation": "v",
         "showlegend": true,
         "type": "scatter",
         "x": [
          2015,
          2014,
          2013,
          2012,
          2011,
          2010,
          2009,
          2008,
          2007,
          2006,
          2005,
          2004,
          2003,
          2002,
          2001,
          2000
         ],
         "xaxis": "x",
         "y": [
          82,
          63,
          83,
          84,
          64,
          71,
          81,
          80,
          58,
          61,
          84,
          54,
          76,
          74,
          62,
          85
         ],
         "yaxis": "y"
        },
        {
         "hovertemplate": "Country=Guinea-Bissau<br>Páis=Life expectancy (men)<br>Year=%{x}<br>Expectativa de Vida=%{y}<extra></extra>",
         "legendgroup": "Guinea-Bissau",
         "line": {
          "color": "#00cc96",
          "dash": "solid"
         },
         "marker": {
          "symbol": "circle"
         },
         "mode": "lines",
         "name": "Guinea-Bissau",
         "orientation": "v",
         "showlegend": true,
         "type": "scatter",
         "x": [
          2015,
          2014,
          2013,
          2012,
          2011,
          2010,
          2009,
          2008,
          2007,
          2006,
          2005,
          2004,
          2003,
          2002,
          2001,
          2000
         ],
         "xaxis": "x",
         "y": [
          60,
          78,
          79,
          71,
          57,
          60,
          64,
          57,
          55,
          52,
          68,
          57,
          71,
          53,
          51,
          68
         ],
         "yaxis": "y"
        },
        {
         "hovertemplate": "Country=Mozambique<br>Páis=Life expectancy (men)<br>Year=%{x}<br>Expectativa de Vida=%{y}<extra></extra>",
         "legendgroup": "Mozambique",
         "line": {
          "color": "#ab63fa",
          "dash": "solid"
         },
         "marker": {
          "symbol": "circle"
         },
         "mode": "lines",
         "name": "Mozambique",
         "orientation": "v",
         "showlegend": true,
         "type": "scatter",
         "x": [
          2015,
          2014,
          2013,
          2012,
          2011,
          2010,
          2009,
          2008,
          2007,
          2006,
          2005,
          2004,
          2003,
          2002,
          2001,
          2000
         ],
         "xaxis": "x",
         "y": [
          58,
          67,
          52,
          53,
          52,
          60,
          81,
          53,
          50,
          77,
          74,
          81,
          54,
          85,
          77,
          59
         ],
         "yaxis": "y"
        }
       ],
       "layout": {
        "legend": {
         "title": {
          "text": "Gênero"
         },
         "tracegroupgap": 0
        },
        "template": {
         "data": {
          "bar": [
           {
            "error_x": {
             "color": "#2a3f5f"
            },
            "error_y": {
             "color": "#2a3f5f"
            },
            "marker": {
             "line": {
              "color": "#E5ECF6",
              "width": 0.5
             },
             "pattern": {
              "fillmode": "overlay",
              "size": 10,
              "solidity": 0.2
             }
            },
            "type": "bar"
           }
          ],
          "barpolar": [
           {
            "marker": {
             "line": {
              "color": "#E5ECF6",
              "width": 0.5
             },
             "pattern": {
              "fillmode": "overlay",
              "size": 10,
              "solidity": 0.2
             }
            },
            "type": "barpolar"
           }
          ],
          "carpet": [
           {
            "aaxis": {
             "endlinecolor": "#2a3f5f",
             "gridcolor": "white",
             "linecolor": "white",
             "minorgridcolor": "white",
             "startlinecolor": "#2a3f5f"
            },
            "baxis": {
             "endlinecolor": "#2a3f5f",
             "gridcolor": "white",
             "linecolor": "white",
             "minorgridcolor": "white",
             "startlinecolor": "#2a3f5f"
            },
            "type": "carpet"
           }
          ],
          "choropleth": [
           {
            "colorbar": {
             "outlinewidth": 0,
             "ticks": ""
            },
            "type": "choropleth"
           }
          ],
          "contour": [
           {
            "colorbar": {
             "outlinewidth": 0,
             "ticks": ""
            },
            "colorscale": [
             [
              0,
              "#0d0887"
             ],
             [
              0.1111111111111111,
              "#46039f"
             ],
             [
              0.2222222222222222,
              "#7201a8"
             ],
             [
              0.3333333333333333,
              "#9c179e"
             ],
             [
              0.4444444444444444,
              "#bd3786"
             ],
             [
              0.5555555555555556,
              "#d8576b"
             ],
             [
              0.6666666666666666,
              "#ed7953"
             ],
             [
              0.7777777777777778,
              "#fb9f3a"
             ],
             [
              0.8888888888888888,
              "#fdca26"
             ],
             [
              1,
              "#f0f921"
             ]
            ],
            "type": "contour"
           }
          ],
          "contourcarpet": [
           {
            "colorbar": {
             "outlinewidth": 0,
             "ticks": ""
            },
            "type": "contourcarpet"
           }
          ],
          "heatmap": [
           {
            "colorbar": {
             "outlinewidth": 0,
             "ticks": ""
            },
            "colorscale": [
             [
              0,
              "#0d0887"
             ],
             [
              0.1111111111111111,
              "#46039f"
             ],
             [
              0.2222222222222222,
              "#7201a8"
             ],
             [
              0.3333333333333333,
              "#9c179e"
             ],
             [
              0.4444444444444444,
              "#bd3786"
             ],
             [
              0.5555555555555556,
              "#d8576b"
             ],
             [
              0.6666666666666666,
              "#ed7953"
             ],
             [
              0.7777777777777778,
              "#fb9f3a"
             ],
             [
              0.8888888888888888,
              "#fdca26"
             ],
             [
              1,
              "#f0f921"
             ]
            ],
            "type": "heatmap"
           }
          ],
          "heatmapgl": [
           {
            "colorbar": {
             "outlinewidth": 0,
             "ticks": ""
            },
            "colorscale": [
             [
              0,
              "#0d0887"
             ],
             [
              0.1111111111111111,
              "#46039f"
             ],
             [
              0.2222222222222222,
              "#7201a8"
             ],
             [
              0.3333333333333333,
              "#9c179e"
             ],
             [
              0.4444444444444444,
              "#bd3786"
             ],
             [
              0.5555555555555556,
              "#d8576b"
             ],
             [
              0.6666666666666666,
              "#ed7953"
             ],
             [
              0.7777777777777778,
              "#fb9f3a"
             ],
             [
              0.8888888888888888,
              "#fdca26"
             ],
             [
              1,
              "#f0f921"
             ]
            ],
            "type": "heatmapgl"
           }
          ],
          "histogram": [
           {
            "marker": {
             "pattern": {
              "fillmode": "overlay",
              "size": 10,
              "solidity": 0.2
             }
            },
            "type": "histogram"
           }
          ],
          "histogram2d": [
           {
            "colorbar": {
             "outlinewidth": 0,
             "ticks": ""
            },
            "colorscale": [
             [
              0,
              "#0d0887"
             ],
             [
              0.1111111111111111,
              "#46039f"
             ],
             [
              0.2222222222222222,
              "#7201a8"
             ],
             [
              0.3333333333333333,
              "#9c179e"
             ],
             [
              0.4444444444444444,
              "#bd3786"
             ],
             [
              0.5555555555555556,
              "#d8576b"
             ],
             [
              0.6666666666666666,
              "#ed7953"
             ],
             [
              0.7777777777777778,
              "#fb9f3a"
             ],
             [
              0.8888888888888888,
              "#fdca26"
             ],
             [
              1,
              "#f0f921"
             ]
            ],
            "type": "histogram2d"
           }
          ],
          "histogram2dcontour": [
           {
            "colorbar": {
             "outlinewidth": 0,
             "ticks": ""
            },
            "colorscale": [
             [
              0,
              "#0d0887"
             ],
             [
              0.1111111111111111,
              "#46039f"
             ],
             [
              0.2222222222222222,
              "#7201a8"
             ],
             [
              0.3333333333333333,
              "#9c179e"
             ],
             [
              0.4444444444444444,
              "#bd3786"
             ],
             [
              0.5555555555555556,
              "#d8576b"
             ],
             [
              0.6666666666666666,
              "#ed7953"
             ],
             [
              0.7777777777777778,
              "#fb9f3a"
             ],
             [
              0.8888888888888888,
              "#fdca26"
             ],
             [
              1,
              "#f0f921"
             ]
            ],
            "type": "histogram2dcontour"
           }
          ],
          "mesh3d": [
           {
            "colorbar": {
             "outlinewidth": 0,
             "ticks": ""
            },
            "type": "mesh3d"
           }
          ],
          "parcoords": [
           {
            "line": {
             "colorbar": {
              "outlinewidth": 0,
              "ticks": ""
             }
            },
            "type": "parcoords"
           }
          ],
          "pie": [
           {
            "automargin": true,
            "type": "pie"
           }
          ],
          "scatter": [
           {
            "fillpattern": {
             "fillmode": "overlay",
             "size": 10,
             "solidity": 0.2
            },
            "type": "scatter"
           }
          ],
          "scatter3d": [
           {
            "line": {
             "colorbar": {
              "outlinewidth": 0,
              "ticks": ""
             }
            },
            "marker": {
             "colorbar": {
              "outlinewidth": 0,
              "ticks": ""
             }
            },
            "type": "scatter3d"
           }
          ],
          "scattercarpet": [
           {
            "marker": {
             "colorbar": {
              "outlinewidth": 0,
              "ticks": ""
             }
            },
            "type": "scattercarpet"
           }
          ],
          "scattergeo": [
           {
            "marker": {
             "colorbar": {
              "outlinewidth": 0,
              "ticks": ""
             }
            },
            "type": "scattergeo"
           }
          ],
          "scattergl": [
           {
            "marker": {
             "colorbar": {
              "outlinewidth": 0,
              "ticks": ""
             }
            },
            "type": "scattergl"
           }
          ],
          "scattermapbox": [
           {
            "marker": {
             "colorbar": {
              "outlinewidth": 0,
              "ticks": ""
             }
            },
            "type": "scattermapbox"
           }
          ],
          "scatterpolar": [
           {
            "marker": {
             "colorbar": {
              "outlinewidth": 0,
              "ticks": ""
             }
            },
            "type": "scatterpolar"
           }
          ],
          "scatterpolargl": [
           {
            "marker": {
             "colorbar": {
              "outlinewidth": 0,
              "ticks": ""
             }
            },
            "type": "scatterpolargl"
           }
          ],
          "scatterternary": [
           {
            "marker": {
             "colorbar": {
              "outlinewidth": 0,
              "ticks": ""
             }
            },
            "type": "scatterternary"
           }
          ],
          "surface": [
           {
            "colorbar": {
             "outlinewidth": 0,
             "ticks": ""
            },
            "colorscale": [
             [
              0,
              "#0d0887"
             ],
             [
              0.1111111111111111,
              "#46039f"
             ],
             [
              0.2222222222222222,
              "#7201a8"
             ],
             [
              0.3333333333333333,
              "#9c179e"
             ],
             [
              0.4444444444444444,
              "#bd3786"
             ],
             [
              0.5555555555555556,
              "#d8576b"
             ],
             [
              0.6666666666666666,
              "#ed7953"
             ],
             [
              0.7777777777777778,
              "#fb9f3a"
             ],
             [
              0.8888888888888888,
              "#fdca26"
             ],
             [
              1,
              "#f0f921"
             ]
            ],
            "type": "surface"
           }
          ],
          "table": [
           {
            "cells": {
             "fill": {
              "color": "#EBF0F8"
             },
             "line": {
              "color": "white"
             }
            },
            "header": {
             "fill": {
              "color": "#C8D4E3"
             },
             "line": {
              "color": "white"
             }
            },
            "type": "table"
           }
          ]
         },
         "layout": {
          "annotationdefaults": {
           "arrowcolor": "#2a3f5f",
           "arrowhead": 0,
           "arrowwidth": 1
          },
          "autotypenumbers": "strict",
          "coloraxis": {
           "colorbar": {
            "outlinewidth": 0,
            "ticks": ""
           }
          },
          "colorscale": {
           "diverging": [
            [
             0,
             "#8e0152"
            ],
            [
             0.1,
             "#c51b7d"
            ],
            [
             0.2,
             "#de77ae"
            ],
            [
             0.3,
             "#f1b6da"
            ],
            [
             0.4,
             "#fde0ef"
            ],
            [
             0.5,
             "#f7f7f7"
            ],
            [
             0.6,
             "#e6f5d0"
            ],
            [
             0.7,
             "#b8e186"
            ],
            [
             0.8,
             "#7fbc41"
            ],
            [
             0.9,
             "#4d9221"
            ],
            [
             1,
             "#276419"
            ]
           ],
           "sequential": [
            [
             0,
             "#0d0887"
            ],
            [
             0.1111111111111111,
             "#46039f"
            ],
            [
             0.2222222222222222,
             "#7201a8"
            ],
            [
             0.3333333333333333,
             "#9c179e"
            ],
            [
             0.4444444444444444,
             "#bd3786"
            ],
            [
             0.5555555555555556,
             "#d8576b"
            ],
            [
             0.6666666666666666,
             "#ed7953"
            ],
            [
             0.7777777777777778,
             "#fb9f3a"
            ],
            [
             0.8888888888888888,
             "#fdca26"
            ],
            [
             1,
             "#f0f921"
            ]
           ],
           "sequentialminus": [
            [
             0,
             "#0d0887"
            ],
            [
             0.1111111111111111,
             "#46039f"
            ],
            [
             0.2222222222222222,
             "#7201a8"
            ],
            [
             0.3333333333333333,
             "#9c179e"
            ],
            [
             0.4444444444444444,
             "#bd3786"
            ],
            [
             0.5555555555555556,
             "#d8576b"
            ],
            [
             0.6666666666666666,
             "#ed7953"
            ],
            [
             0.7777777777777778,
             "#fb9f3a"
            ],
            [
             0.8888888888888888,
             "#fdca26"
            ],
            [
             1,
             "#f0f921"
            ]
           ]
          },
          "colorway": [
           "#636efa",
           "#EF553B",
           "#00cc96",
           "#ab63fa",
           "#FFA15A",
           "#19d3f3",
           "#FF6692",
           "#B6E880",
           "#FF97FF",
           "#FECB52"
          ],
          "font": {
           "color": "#2a3f5f"
          },
          "geo": {
           "bgcolor": "white",
           "lakecolor": "white",
           "landcolor": "#E5ECF6",
           "showlakes": true,
           "showland": true,
           "subunitcolor": "white"
          },
          "hoverlabel": {
           "align": "left"
          },
          "hovermode": "closest",
          "mapbox": {
           "style": "light"
          },
          "paper_bgcolor": "white",
          "plot_bgcolor": "#E5ECF6",
          "polar": {
           "angularaxis": {
            "gridcolor": "white",
            "linecolor": "white",
            "ticks": ""
           },
           "bgcolor": "#E5ECF6",
           "radialaxis": {
            "gridcolor": "white",
            "linecolor": "white",
            "ticks": ""
           }
          },
          "scene": {
           "xaxis": {
            "backgroundcolor": "#E5ECF6",
            "gridcolor": "white",
            "gridwidth": 2,
            "linecolor": "white",
            "showbackground": true,
            "ticks": "",
            "zerolinecolor": "white"
           },
           "yaxis": {
            "backgroundcolor": "#E5ECF6",
            "gridcolor": "white",
            "gridwidth": 2,
            "linecolor": "white",
            "showbackground": true,
            "ticks": "",
            "zerolinecolor": "white"
           },
           "zaxis": {
            "backgroundcolor": "#E5ECF6",
            "gridcolor": "white",
            "gridwidth": 2,
            "linecolor": "white",
            "showbackground": true,
            "ticks": "",
            "zerolinecolor": "white"
           }
          },
          "shapedefaults": {
           "line": {
            "color": "#2a3f5f"
           }
          },
          "ternary": {
           "aaxis": {
            "gridcolor": "white",
            "linecolor": "white",
            "ticks": ""
           },
           "baxis": {
            "gridcolor": "white",
            "linecolor": "white",
            "ticks": ""
           },
           "bgcolor": "#E5ECF6",
           "caxis": {
            "gridcolor": "white",
            "linecolor": "white",
            "ticks": ""
           }
          },
          "title": {
           "x": 0.05
          },
          "xaxis": {
           "automargin": true,
           "gridcolor": "white",
           "linecolor": "white",
           "ticks": "",
           "title": {
            "standoff": 15
           },
           "zerolinecolor": "white",
           "zerolinewidth": 2
          },
          "yaxis": {
           "automargin": true,
           "gridcolor": "white",
           "linecolor": "white",
           "ticks": "",
           "title": {
            "standoff": 15
           },
           "zerolinecolor": "white",
           "zerolinewidth": 2
          }
         }
        },
        "title": {
         "text": "Expectativa de Vida ao longo dos anos"
        },
        "xaxis": {
         "anchor": "y",
         "domain": [
          0,
          1
         ],
         "tickangle": -45,
         "title": {
          "text": "Ano"
         }
        },
        "yaxis": {
         "anchor": "x",
         "domain": [
          0,
          1
         ],
         "title": {
          "text": "Expectativa de Vida Masculina"
         }
        }
       }
      }
     },
     "metadata": {},
     "output_type": "display_data"
    },
    {
     "data": {
      "application/vnd.plotly.v1+json": {
       "config": {
        "plotlyServerURL": "https://plot.ly"
       },
       "data": [
        {
         "hovertemplate": "Country=Angola<br>Páis=Life expectancy(women)<br>Year=%{x}<br>Expectativa de Vida=%{y}<extra></extra>",
         "legendgroup": "Angola",
         "line": {
          "color": "#636efa",
          "dash": "solid"
         },
         "marker": {
          "symbol": "circle"
         },
         "mode": "lines",
         "name": "Angola",
         "orientation": "v",
         "showlegend": true,
         "type": "scatter",
         "x": [
          2015,
          2014,
          2013,
          2012,
          2011,
          2010,
          2009,
          2008,
          2007,
          2006,
          2005,
          2004,
          2003,
          2002,
          2001,
          2000
         ],
         "xaxis": "x",
         "y": [
          71,
          55,
          68,
          63,
          75,
          72,
          81,
          71,
          52,
          57,
          66,
          73,
          55,
          69,
          66,
          79
         ],
         "yaxis": "y"
        },
        {
         "hovertemplate": "Country=Cabo Verde<br>Páis=Life expectancy(women)<br>Year=%{x}<br>Expectativa de Vida=%{y}<extra></extra>",
         "legendgroup": "Cabo Verde",
         "line": {
          "color": "#EF553B",
          "dash": "solid"
         },
         "marker": {
          "symbol": "circle"
         },
         "mode": "lines",
         "name": "Cabo Verde",
         "orientation": "v",
         "showlegend": true,
         "type": "scatter",
         "x": [
          2015,
          2014,
          2013,
          2012,
          2011,
          2010,
          2009,
          2008,
          2007,
          2006,
          2005,
          2004,
          2003,
          2002,
          2001,
          2000
         ],
         "xaxis": "x",
         "y": [
          79,
          68,
          60,
          60,
          75,
          62,
          54,
          70,
          77,
          58,
          51,
          79,
          73,
          71,
          69,
          68
         ],
         "yaxis": "y"
        },
        {
         "hovertemplate": "Country=Guinea-Bissau<br>Páis=Life expectancy(women)<br>Year=%{x}<br>Expectativa de Vida=%{y}<extra></extra>",
         "legendgroup": "Guinea-Bissau",
         "line": {
          "color": "#00cc96",
          "dash": "solid"
         },
         "marker": {
          "symbol": "circle"
         },
         "mode": "lines",
         "name": "Guinea-Bissau",
         "orientation": "v",
         "showlegend": true,
         "type": "scatter",
         "x": [
          2015,
          2014,
          2013,
          2012,
          2011,
          2010,
          2009,
          2008,
          2007,
          2006,
          2005,
          2004,
          2003,
          2002,
          2001,
          2000
         ],
         "xaxis": "x",
         "y": [
          73,
          78,
          70,
          69,
          59,
          85,
          56,
          64,
          81,
          56,
          83,
          84,
          79,
          55,
          58,
          73
         ],
         "yaxis": "y"
        },
        {
         "hovertemplate": "Country=Mozambique<br>Páis=Life expectancy(women)<br>Year=%{x}<br>Expectativa de Vida=%{y}<extra></extra>",
         "legendgroup": "Mozambique",
         "line": {
          "color": "#ab63fa",
          "dash": "solid"
         },
         "marker": {
          "symbol": "circle"
         },
         "mode": "lines",
         "name": "Mozambique",
         "orientation": "v",
         "showlegend": true,
         "type": "scatter",
         "x": [
          2015,
          2014,
          2013,
          2012,
          2011,
          2010,
          2009,
          2008,
          2007,
          2006,
          2005,
          2004,
          2003,
          2002,
          2001,
          2000
         ],
         "xaxis": "x",
         "y": [
          66,
          62,
          51,
          64,
          59,
          71,
          72,
          81,
          61,
          63,
          69,
          53,
          56,
          59,
          61,
          85
         ],
         "yaxis": "y"
        }
       ],
       "layout": {
        "legend": {
         "title": {
          "text": "Gênero"
         },
         "tracegroupgap": 0
        },
        "template": {
         "data": {
          "bar": [
           {
            "error_x": {
             "color": "#2a3f5f"
            },
            "error_y": {
             "color": "#2a3f5f"
            },
            "marker": {
             "line": {
              "color": "#E5ECF6",
              "width": 0.5
             },
             "pattern": {
              "fillmode": "overlay",
              "size": 10,
              "solidity": 0.2
             }
            },
            "type": "bar"
           }
          ],
          "barpolar": [
           {
            "marker": {
             "line": {
              "color": "#E5ECF6",
              "width": 0.5
             },
             "pattern": {
              "fillmode": "overlay",
              "size": 10,
              "solidity": 0.2
             }
            },
            "type": "barpolar"
           }
          ],
          "carpet": [
           {
            "aaxis": {
             "endlinecolor": "#2a3f5f",
             "gridcolor": "white",
             "linecolor": "white",
             "minorgridcolor": "white",
             "startlinecolor": "#2a3f5f"
            },
            "baxis": {
             "endlinecolor": "#2a3f5f",
             "gridcolor": "white",
             "linecolor": "white",
             "minorgridcolor": "white",
             "startlinecolor": "#2a3f5f"
            },
            "type": "carpet"
           }
          ],
          "choropleth": [
           {
            "colorbar": {
             "outlinewidth": 0,
             "ticks": ""
            },
            "type": "choropleth"
           }
          ],
          "contour": [
           {
            "colorbar": {
             "outlinewidth": 0,
             "ticks": ""
            },
            "colorscale": [
             [
              0,
              "#0d0887"
             ],
             [
              0.1111111111111111,
              "#46039f"
             ],
             [
              0.2222222222222222,
              "#7201a8"
             ],
             [
              0.3333333333333333,
              "#9c179e"
             ],
             [
              0.4444444444444444,
              "#bd3786"
             ],
             [
              0.5555555555555556,
              "#d8576b"
             ],
             [
              0.6666666666666666,
              "#ed7953"
             ],
             [
              0.7777777777777778,
              "#fb9f3a"
             ],
             [
              0.8888888888888888,
              "#fdca26"
             ],
             [
              1,
              "#f0f921"
             ]
            ],
            "type": "contour"
           }
          ],
          "contourcarpet": [
           {
            "colorbar": {
             "outlinewidth": 0,
             "ticks": ""
            },
            "type": "contourcarpet"
           }
          ],
          "heatmap": [
           {
            "colorbar": {
             "outlinewidth": 0,
             "ticks": ""
            },
            "colorscale": [
             [
              0,
              "#0d0887"
             ],
             [
              0.1111111111111111,
              "#46039f"
             ],
             [
              0.2222222222222222,
              "#7201a8"
             ],
             [
              0.3333333333333333,
              "#9c179e"
             ],
             [
              0.4444444444444444,
              "#bd3786"
             ],
             [
              0.5555555555555556,
              "#d8576b"
             ],
             [
              0.6666666666666666,
              "#ed7953"
             ],
             [
              0.7777777777777778,
              "#fb9f3a"
             ],
             [
              0.8888888888888888,
              "#fdca26"
             ],
             [
              1,
              "#f0f921"
             ]
            ],
            "type": "heatmap"
           }
          ],
          "heatmapgl": [
           {
            "colorbar": {
             "outlinewidth": 0,
             "ticks": ""
            },
            "colorscale": [
             [
              0,
              "#0d0887"
             ],
             [
              0.1111111111111111,
              "#46039f"
             ],
             [
              0.2222222222222222,
              "#7201a8"
             ],
             [
              0.3333333333333333,
              "#9c179e"
             ],
             [
              0.4444444444444444,
              "#bd3786"
             ],
             [
              0.5555555555555556,
              "#d8576b"
             ],
             [
              0.6666666666666666,
              "#ed7953"
             ],
             [
              0.7777777777777778,
              "#fb9f3a"
             ],
             [
              0.8888888888888888,
              "#fdca26"
             ],
             [
              1,
              "#f0f921"
             ]
            ],
            "type": "heatmapgl"
           }
          ],
          "histogram": [
           {
            "marker": {
             "pattern": {
              "fillmode": "overlay",
              "size": 10,
              "solidity": 0.2
             }
            },
            "type": "histogram"
           }
          ],
          "histogram2d": [
           {
            "colorbar": {
             "outlinewidth": 0,
             "ticks": ""
            },
            "colorscale": [
             [
              0,
              "#0d0887"
             ],
             [
              0.1111111111111111,
              "#46039f"
             ],
             [
              0.2222222222222222,
              "#7201a8"
             ],
             [
              0.3333333333333333,
              "#9c179e"
             ],
             [
              0.4444444444444444,
              "#bd3786"
             ],
             [
              0.5555555555555556,
              "#d8576b"
             ],
             [
              0.6666666666666666,
              "#ed7953"
             ],
             [
              0.7777777777777778,
              "#fb9f3a"
             ],
             [
              0.8888888888888888,
              "#fdca26"
             ],
             [
              1,
              "#f0f921"
             ]
            ],
            "type": "histogram2d"
           }
          ],
          "histogram2dcontour": [
           {
            "colorbar": {
             "outlinewidth": 0,
             "ticks": ""
            },
            "colorscale": [
             [
              0,
              "#0d0887"
             ],
             [
              0.1111111111111111,
              "#46039f"
             ],
             [
              0.2222222222222222,
              "#7201a8"
             ],
             [
              0.3333333333333333,
              "#9c179e"
             ],
             [
              0.4444444444444444,
              "#bd3786"
             ],
             [
              0.5555555555555556,
              "#d8576b"
             ],
             [
              0.6666666666666666,
              "#ed7953"
             ],
             [
              0.7777777777777778,
              "#fb9f3a"
             ],
             [
              0.8888888888888888,
              "#fdca26"
             ],
             [
              1,
              "#f0f921"
             ]
            ],
            "type": "histogram2dcontour"
           }
          ],
          "mesh3d": [
           {
            "colorbar": {
             "outlinewidth": 0,
             "ticks": ""
            },
            "type": "mesh3d"
           }
          ],
          "parcoords": [
           {
            "line": {
             "colorbar": {
              "outlinewidth": 0,
              "ticks": ""
             }
            },
            "type": "parcoords"
           }
          ],
          "pie": [
           {
            "automargin": true,
            "type": "pie"
           }
          ],
          "scatter": [
           {
            "fillpattern": {
             "fillmode": "overlay",
             "size": 10,
             "solidity": 0.2
            },
            "type": "scatter"
           }
          ],
          "scatter3d": [
           {
            "line": {
             "colorbar": {
              "outlinewidth": 0,
              "ticks": ""
             }
            },
            "marker": {
             "colorbar": {
              "outlinewidth": 0,
              "ticks": ""
             }
            },
            "type": "scatter3d"
           }
          ],
          "scattercarpet": [
           {
            "marker": {
             "colorbar": {
              "outlinewidth": 0,
              "ticks": ""
             }
            },
            "type": "scattercarpet"
           }
          ],
          "scattergeo": [
           {
            "marker": {
             "colorbar": {
              "outlinewidth": 0,
              "ticks": ""
             }
            },
            "type": "scattergeo"
           }
          ],
          "scattergl": [
           {
            "marker": {
             "colorbar": {
              "outlinewidth": 0,
              "ticks": ""
             }
            },
            "type": "scattergl"
           }
          ],
          "scattermapbox": [
           {
            "marker": {
             "colorbar": {
              "outlinewidth": 0,
              "ticks": ""
             }
            },
            "type": "scattermapbox"
           }
          ],
          "scatterpolar": [
           {
            "marker": {
             "colorbar": {
              "outlinewidth": 0,
              "ticks": ""
             }
            },
            "type": "scatterpolar"
           }
          ],
          "scatterpolargl": [
           {
            "marker": {
             "colorbar": {
              "outlinewidth": 0,
              "ticks": ""
             }
            },
            "type": "scatterpolargl"
           }
          ],
          "scatterternary": [
           {
            "marker": {
             "colorbar": {
              "outlinewidth": 0,
              "ticks": ""
             }
            },
            "type": "scatterternary"
           }
          ],
          "surface": [
           {
            "colorbar": {
             "outlinewidth": 0,
             "ticks": ""
            },
            "colorscale": [
             [
              0,
              "#0d0887"
             ],
             [
              0.1111111111111111,
              "#46039f"
             ],
             [
              0.2222222222222222,
              "#7201a8"
             ],
             [
              0.3333333333333333,
              "#9c179e"
             ],
             [
              0.4444444444444444,
              "#bd3786"
             ],
             [
              0.5555555555555556,
              "#d8576b"
             ],
             [
              0.6666666666666666,
              "#ed7953"
             ],
             [
              0.7777777777777778,
              "#fb9f3a"
             ],
             [
              0.8888888888888888,
              "#fdca26"
             ],
             [
              1,
              "#f0f921"
             ]
            ],
            "type": "surface"
           }
          ],
          "table": [
           {
            "cells": {
             "fill": {
              "color": "#EBF0F8"
             },
             "line": {
              "color": "white"
             }
            },
            "header": {
             "fill": {
              "color": "#C8D4E3"
             },
             "line": {
              "color": "white"
             }
            },
            "type": "table"
           }
          ]
         },
         "layout": {
          "annotationdefaults": {
           "arrowcolor": "#2a3f5f",
           "arrowhead": 0,
           "arrowwidth": 1
          },
          "autotypenumbers": "strict",
          "coloraxis": {
           "colorbar": {
            "outlinewidth": 0,
            "ticks": ""
           }
          },
          "colorscale": {
           "diverging": [
            [
             0,
             "#8e0152"
            ],
            [
             0.1,
             "#c51b7d"
            ],
            [
             0.2,
             "#de77ae"
            ],
            [
             0.3,
             "#f1b6da"
            ],
            [
             0.4,
             "#fde0ef"
            ],
            [
             0.5,
             "#f7f7f7"
            ],
            [
             0.6,
             "#e6f5d0"
            ],
            [
             0.7,
             "#b8e186"
            ],
            [
             0.8,
             "#7fbc41"
            ],
            [
             0.9,
             "#4d9221"
            ],
            [
             1,
             "#276419"
            ]
           ],
           "sequential": [
            [
             0,
             "#0d0887"
            ],
            [
             0.1111111111111111,
             "#46039f"
            ],
            [
             0.2222222222222222,
             "#7201a8"
            ],
            [
             0.3333333333333333,
             "#9c179e"
            ],
            [
             0.4444444444444444,
             "#bd3786"
            ],
            [
             0.5555555555555556,
             "#d8576b"
            ],
            [
             0.6666666666666666,
             "#ed7953"
            ],
            [
             0.7777777777777778,
             "#fb9f3a"
            ],
            [
             0.8888888888888888,
             "#fdca26"
            ],
            [
             1,
             "#f0f921"
            ]
           ],
           "sequentialminus": [
            [
             0,
             "#0d0887"
            ],
            [
             0.1111111111111111,
             "#46039f"
            ],
            [
             0.2222222222222222,
             "#7201a8"
            ],
            [
             0.3333333333333333,
             "#9c179e"
            ],
            [
             0.4444444444444444,
             "#bd3786"
            ],
            [
             0.5555555555555556,
             "#d8576b"
            ],
            [
             0.6666666666666666,
             "#ed7953"
            ],
            [
             0.7777777777777778,
             "#fb9f3a"
            ],
            [
             0.8888888888888888,
             "#fdca26"
            ],
            [
             1,
             "#f0f921"
            ]
           ]
          },
          "colorway": [
           "#636efa",
           "#EF553B",
           "#00cc96",
           "#ab63fa",
           "#FFA15A",
           "#19d3f3",
           "#FF6692",
           "#B6E880",
           "#FF97FF",
           "#FECB52"
          ],
          "font": {
           "color": "#2a3f5f"
          },
          "geo": {
           "bgcolor": "white",
           "lakecolor": "white",
           "landcolor": "#E5ECF6",
           "showlakes": true,
           "showland": true,
           "subunitcolor": "white"
          },
          "hoverlabel": {
           "align": "left"
          },
          "hovermode": "closest",
          "mapbox": {
           "style": "light"
          },
          "paper_bgcolor": "white",
          "plot_bgcolor": "#E5ECF6",
          "polar": {
           "angularaxis": {
            "gridcolor": "white",
            "linecolor": "white",
            "ticks": ""
           },
           "bgcolor": "#E5ECF6",
           "radialaxis": {
            "gridcolor": "white",
            "linecolor": "white",
            "ticks": ""
           }
          },
          "scene": {
           "xaxis": {
            "backgroundcolor": "#E5ECF6",
            "gridcolor": "white",
            "gridwidth": 2,
            "linecolor": "white",
            "showbackground": true,
            "ticks": "",
            "zerolinecolor": "white"
           },
           "yaxis": {
            "backgroundcolor": "#E5ECF6",
            "gridcolor": "white",
            "gridwidth": 2,
            "linecolor": "white",
            "showbackground": true,
            "ticks": "",
            "zerolinecolor": "white"
           },
           "zaxis": {
            "backgroundcolor": "#E5ECF6",
            "gridcolor": "white",
            "gridwidth": 2,
            "linecolor": "white",
            "showbackground": true,
            "ticks": "",
            "zerolinecolor": "white"
           }
          },
          "shapedefaults": {
           "line": {
            "color": "#2a3f5f"
           }
          },
          "ternary": {
           "aaxis": {
            "gridcolor": "white",
            "linecolor": "white",
            "ticks": ""
           },
           "baxis": {
            "gridcolor": "white",
            "linecolor": "white",
            "ticks": ""
           },
           "bgcolor": "#E5ECF6",
           "caxis": {
            "gridcolor": "white",
            "linecolor": "white",
            "ticks": ""
           }
          },
          "title": {
           "x": 0.05
          },
          "xaxis": {
           "automargin": true,
           "gridcolor": "white",
           "linecolor": "white",
           "ticks": "",
           "title": {
            "standoff": 15
           },
           "zerolinecolor": "white",
           "zerolinewidth": 2
          },
          "yaxis": {
           "automargin": true,
           "gridcolor": "white",
           "linecolor": "white",
           "ticks": "",
           "title": {
            "standoff": 15
           },
           "zerolinecolor": "white",
           "zerolinewidth": 2
          }
         }
        },
        "title": {
         "text": "Expectativa de Vida ao longo dos anos"
        },
        "xaxis": {
         "anchor": "y",
         "domain": [
          0,
          1
         ],
         "tickangle": -45,
         "title": {
          "text": "Ano"
         }
        },
        "yaxis": {
         "anchor": "x",
         "domain": [
          0,
          1
         ],
         "title": {
          "text": "Expectativa de Vida Femenina"
         }
        }
       }
      }
     },
     "metadata": {},
     "output_type": "display_data"
    }
   ],
   "source": [
    "# Identificar tendências e mudanças na expectativa de vida ao longo do tempo.\n",
    "plot_2 = px.line(\n",
    "    palop_df,\n",
    "    x='Year',\n",
    "    y=['Life expectancy (men)'],\n",
    "    title='Expectativa de Vida ao longo dos anos',\n",
    "    labels={'value': 'Expectativa de Vida', 'variable': 'Páis'}, color='Country'\n",
    ")\n",
    "\n",
    "# Ajustar o layout\n",
    "plot_2.update_layout(\n",
    "    xaxis_title='Ano',\n",
    "    yaxis_title='Expectativa de Vida Masculina',\n",
    "    legend_title='Gênero',\n",
    "    xaxis_tickangle=-45\n",
    ")\n",
    "\n",
    "plot_3 = px.line(\n",
    "    palop_df,\n",
    "    x='Year',\n",
    "    y=['Life expectancy(women)'],\n",
    "    title='Expectativa de Vida ao longo dos anos',\n",
    "    labels={'value': 'Expectativa de Vida', 'variable': 'Páis'}, color='Country'\n",
    ")\n",
    "\n",
    "# Ajustar o layout\n",
    "plot_3.update_layout(\n",
    "    xaxis_title='Ano',\n",
    "    yaxis_title='Expectativa de Vida Femenina',\n",
    "    legend_title='Gênero',\n",
    "    xaxis_tickangle=-45\n",
    ")\n",
    "\n",
    "\n",
    "# Exibir o gráfico\n",
    "plot_2.show()\n",
    "plot_3.show()"
   ]
  },
  {
   "cell_type": "markdown",
   "metadata": {},
   "source": [
    "### 3. Mortalidade Adulta e Infantil\n"
   ]
  },
  {
   "cell_type": "code",
   "execution_count": 35,
   "metadata": {},
   "outputs": [
    {
     "data": {
      "text/plain": [
       "Country                             object\n",
       "Year                                 int64\n",
       "Status                              object\n",
       "Life expectancy (men)                int64\n",
       "Life expectancy(women)               int64\n",
       "Adult Mortality (men)                int64\n",
       "Adult Mortality (women)              int64\n",
       "Infant deaths                        int64\n",
       "Alcohol                            float64\n",
       "Percentage expenditure             float64\n",
       "Hepatitis B(men)                     int64\n",
       "Hepatitis B(women)                   int64\n",
       "Measles                              int64\n",
       "BMI                                float64\n",
       "Under-five deaths                    int64\n",
       "Polio                              float64\n",
       "Total expenditure                  float64\n",
       "Diphtheria                         float64\n",
       "HIV/AIDS                           float64\n",
       "GDP                                float64\n",
       "Population                         float64\n",
       "thinness  1-19 years               float64\n",
       "thinness 5-9 years                 float64\n",
       "Income composition of resources    float64\n",
       "Schooling                          float64\n",
       "dtype: object"
      ]
     },
     "execution_count": 35,
     "metadata": {},
     "output_type": "execute_result"
    }
   ],
   "source": [
    "df.dtypes"
   ]
  },
  {
   "cell_type": "code",
   "execution_count": 36,
   "metadata": {},
   "outputs": [
    {
     "data": {
      "image/png": "[encoded data removed]",
      "text/plain": [
       "<Figure size 1200x800 with 1 Axes>"
      ]
     },
     "metadata": {},
     "output_type": "display_data"
    }
   ],
   "source": [
    "# Mortalidade infantil nos paises da Palop ao ao longo dos anos\n",
    "plt.figure(figsize=(12,8))\n",
    "\n",
    "sns.lineplot(data=palop_df, x='Year', y='Infant deaths', hue='Country')\n",
    "plt.title('Mortalidade Infantil ao longo dos anos')\n",
    "\n",
    "plt.show()"
   ]
  },
  {
   "cell_type": "markdown",
   "metadata": {},
   "source": [
    "### 4. Status Socioeconômico\n",
    "\n",
    "Aqui vamos analisar a correlação entre muitos dos elementos, mas devido a ausencia de muitos dados, e sendo que o conjunto de dados aparenta possuir muitos erros, a analise vai terminar aqui, dado que não tempos dados suficientes, ou confiaveis para suposições."
   ]
  },
  {
   "cell_type": "code",
   "execution_count": 39,
   "metadata": {},
   "outputs": [
    {
     "data": {
      "text/html": [
       "<div>\n",
       "<style scoped>\n",
       "    .dataframe tbody tr th:only-of-type {\n",
       "        vertical-align: middle;\n",
       "    }\n",
       "\n",
       "    .dataframe tbody tr th {\n",
       "        vertical-align: top;\n",
       "    }\n",
       "\n",
       "    .dataframe thead th {\n",
       "        text-align: right;\n",
       "    }\n",
       "</style>\n",
       "<table border=\"1\" class=\"dataframe\">\n",
       "  <thead>\n",
       "    <tr style=\"text-align: right;\">\n",
       "      <th></th>\n",
       "      <th>Year</th>\n",
       "      <th>Life expectancy (men)</th>\n",
       "      <th>Life expectancy(women)</th>\n",
       "      <th>Adult Mortality (men)</th>\n",
       "      <th>Adult Mortality (women)</th>\n",
       "      <th>Infant deaths</th>\n",
       "      <th>Alcohol</th>\n",
       "      <th>Percentage expenditure</th>\n",
       "      <th>Hepatitis B(men)</th>\n",
       "      <th>Hepatitis B(women)</th>\n",
       "      <th>Measles</th>\n",
       "      <th>BMI</th>\n",
       "      <th>Under-five deaths</th>\n",
       "      <th>Polio</th>\n",
       "      <th>Total expenditure</th>\n",
       "      <th>Diphtheria</th>\n",
       "      <th>HIV/AIDS</th>\n",
       "      <th>GDP</th>\n",
       "      <th>Population</th>\n",
       "      <th>thinness  1-19 years</th>\n",
       "      <th>thinness 5-9 years</th>\n",
       "      <th>Income composition of resources</th>\n",
       "      <th>Schooling</th>\n",
       "    </tr>\n",
       "  </thead>\n",
       "  <tbody>\n",
       "    <tr>\n",
       "      <th>Year</th>\n",
       "      <td>1.000000</td>\n",
       "      <td>0.029686</td>\n",
       "      <td>0.025007</td>\n",
       "      <td>0.028981</td>\n",
       "      <td>0.003108</td>\n",
       "      <td>-0.037415</td>\n",
       "      <td>-0.052990</td>\n",
       "      <td>0.031400</td>\n",
       "      <td>-0.001095</td>\n",
       "      <td>0.002985</td>\n",
       "      <td>-0.082493</td>\n",
       "      <td>0.108974</td>\n",
       "      <td>-0.042937</td>\n",
       "      <td>0.094158</td>\n",
       "      <td>0.090740</td>\n",
       "      <td>0.134337</td>\n",
       "      <td>-0.139741</td>\n",
       "      <td>0.101620</td>\n",
       "      <td>0.016969</td>\n",
       "      <td>-0.047876</td>\n",
       "      <td>-0.050929</td>\n",
       "      <td>0.243468</td>\n",
       "      <td>0.209400</td>\n",
       "    </tr>\n",
       "    <tr>\n",
       "      <th>Life expectancy (men)</th>\n",
       "      <td>0.029686</td>\n",
       "      <td>1.000000</td>\n",
       "      <td>0.014840</td>\n",
       "      <td>-0.026983</td>\n",
       "      <td>-0.020685</td>\n",
       "      <td>-0.039513</td>\n",
       "      <td>0.011793</td>\n",
       "      <td>0.034628</td>\n",
       "      <td>0.007468</td>\n",
       "      <td>0.018673</td>\n",
       "      <td>-0.025493</td>\n",
       "      <td>0.028350</td>\n",
       "      <td>-0.040790</td>\n",
       "      <td>-0.001028</td>\n",
       "      <td>0.016302</td>\n",
       "      <td>0.005495</td>\n",
       "      <td>-0.052166</td>\n",
       "      <td>0.032030</td>\n",
       "      <td>-0.008546</td>\n",
       "      <td>-0.035104</td>\n",
       "      <td>-0.033310</td>\n",
       "      <td>0.052485</td>\n",
       "      <td>0.047584</td>\n",
       "    </tr>\n",
       "    <tr>\n",
       "      <th>Life expectancy(women)</th>\n",
       "      <td>0.025007</td>\n",
       "      <td>0.014840</td>\n",
       "      <td>1.000000</td>\n",
       "      <td>-0.004554</td>\n",
       "      <td>0.005572</td>\n",
       "      <td>0.020720</td>\n",
       "      <td>0.010582</td>\n",
       "      <td>-0.000659</td>\n",
       "      <td>0.007855</td>\n",
       "      <td>-0.020615</td>\n",
       "      <td>0.007340</td>\n",
       "      <td>0.017339</td>\n",
       "      <td>0.017952</td>\n",
       "      <td>0.005476</td>\n",
       "      <td>-0.007633</td>\n",
       "      <td>-0.012478</td>\n",
       "      <td>0.000598</td>\n",
       "      <td>0.016627</td>\n",
       "      <td>0.021879</td>\n",
       "      <td>0.007464</td>\n",
       "      <td>0.011396</td>\n",
       "      <td>0.007768</td>\n",
       "      <td>0.005856</td>\n",
       "    </tr>\n",
       "    <tr>\n",
       "      <th>Adult Mortality (men)</th>\n",
       "      <td>0.028981</td>\n",
       "      <td>-0.026983</td>\n",
       "      <td>-0.004554</td>\n",
       "      <td>1.000000</td>\n",
       "      <td>-0.001477</td>\n",
       "      <td>0.005961</td>\n",
       "      <td>0.007776</td>\n",
       "      <td>0.003354</td>\n",
       "      <td>0.053917</td>\n",
       "      <td>0.003197</td>\n",
       "      <td>0.002874</td>\n",
       "      <td>-0.020746</td>\n",
       "      <td>0.005817</td>\n",
       "      <td>-0.006204</td>\n",
       "      <td>0.024745</td>\n",
       "      <td>-0.032503</td>\n",
       "      <td>0.004950</td>\n",
       "      <td>-0.006924</td>\n",
       "      <td>0.019109</td>\n",
       "      <td>0.029033</td>\n",
       "      <td>0.032541</td>\n",
       "      <td>-0.003630</td>\n",
       "      <td>0.005459</td>\n",
       "    </tr>\n",
       "    <tr>\n",
       "      <th>Adult Mortality (women)</th>\n",
       "      <td>0.003108</td>\n",
       "      <td>-0.020685</td>\n",
       "      <td>0.005572</td>\n",
       "      <td>-0.001477</td>\n",
       "      <td>1.000000</td>\n",
       "      <td>0.013952</td>\n",
       "      <td>0.039409</td>\n",
       "      <td>-0.010508</td>\n",
       "      <td>-0.000347</td>\n",
       "      <td>-0.008065</td>\n",
       "      <td>0.018205</td>\n",
       "      <td>-0.011517</td>\n",
       "      <td>0.016146</td>\n",
       "      <td>-0.003695</td>\n",
       "      <td>0.013670</td>\n",
       "      <td>-0.011517</td>\n",
       "      <td>0.012221</td>\n",
       "      <td>-0.003354</td>\n",
       "      <td>0.014957</td>\n",
       "      <td>-0.003881</td>\n",
       "      <td>-0.011738</td>\n",
       "      <td>-0.011726</td>\n",
       "      <td>-0.020180</td>\n",
       "    </tr>\n",
       "    <tr>\n",
       "      <th>Infant deaths</th>\n",
       "      <td>-0.037415</td>\n",
       "      <td>-0.039513</td>\n",
       "      <td>0.020720</td>\n",
       "      <td>0.005961</td>\n",
       "      <td>0.013952</td>\n",
       "      <td>1.000000</td>\n",
       "      <td>-0.115638</td>\n",
       "      <td>-0.085612</td>\n",
       "      <td>-0.027793</td>\n",
       "      <td>-0.041213</td>\n",
       "      <td>0.501128</td>\n",
       "      <td>-0.227279</td>\n",
       "      <td>0.996629</td>\n",
       "      <td>-0.170689</td>\n",
       "      <td>-0.128616</td>\n",
       "      <td>-0.175171</td>\n",
       "      <td>0.025231</td>\n",
       "      <td>-0.108427</td>\n",
       "      <td>0.556801</td>\n",
       "      <td>0.465711</td>\n",
       "      <td>0.471350</td>\n",
       "      <td>-0.145139</td>\n",
       "      <td>-0.193720</td>\n",
       "    </tr>\n",
       "    <tr>\n",
       "      <th>Alcohol</th>\n",
       "      <td>-0.052990</td>\n",
       "      <td>0.011793</td>\n",
       "      <td>0.010582</td>\n",
       "      <td>0.007776</td>\n",
       "      <td>0.039409</td>\n",
       "      <td>-0.115638</td>\n",
       "      <td>1.000000</td>\n",
       "      <td>0.341285</td>\n",
       "      <td>0.005651</td>\n",
       "      <td>-0.026750</td>\n",
       "      <td>-0.051827</td>\n",
       "      <td>0.330408</td>\n",
       "      <td>-0.112370</td>\n",
       "      <td>0.221734</td>\n",
       "      <td>0.296942</td>\n",
       "      <td>0.222020</td>\n",
       "      <td>-0.048845</td>\n",
       "      <td>0.354712</td>\n",
       "      <td>-0.035252</td>\n",
       "      <td>-0.428795</td>\n",
       "      <td>-0.417414</td>\n",
       "      <td>0.450040</td>\n",
       "      <td>0.547378</td>\n",
       "    </tr>\n",
       "    <tr>\n",
       "      <th>Percentage expenditure</th>\n",
       "      <td>0.031400</td>\n",
       "      <td>0.034628</td>\n",
       "      <td>-0.000659</td>\n",
       "      <td>0.003354</td>\n",
       "      <td>-0.010508</td>\n",
       "      <td>-0.085612</td>\n",
       "      <td>0.341285</td>\n",
       "      <td>1.000000</td>\n",
       "      <td>-0.012657</td>\n",
       "      <td>-0.008789</td>\n",
       "      <td>-0.056596</td>\n",
       "      <td>0.228700</td>\n",
       "      <td>-0.087852</td>\n",
       "      <td>0.147259</td>\n",
       "      <td>0.174420</td>\n",
       "      <td>0.143624</td>\n",
       "      <td>-0.097857</td>\n",
       "      <td>0.899373</td>\n",
       "      <td>-0.025662</td>\n",
       "      <td>-0.251369</td>\n",
       "      <td>-0.252905</td>\n",
       "      <td>0.381952</td>\n",
       "      <td>0.389687</td>\n",
       "    </tr>\n",
       "    <tr>\n",
       "      <th>Hepatitis B(men)</th>\n",
       "      <td>-0.001095</td>\n",
       "      <td>0.007468</td>\n",
       "      <td>0.007855</td>\n",
       "      <td>0.053917</td>\n",
       "      <td>-0.000347</td>\n",
       "      <td>-0.027793</td>\n",
       "      <td>0.005651</td>\n",
       "      <td>-0.012657</td>\n",
       "      <td>1.000000</td>\n",
       "      <td>0.011890</td>\n",
       "      <td>-0.004382</td>\n",
       "      <td>0.024011</td>\n",
       "      <td>-0.026964</td>\n",
       "      <td>0.001616</td>\n",
       "      <td>0.005009</td>\n",
       "      <td>0.002979</td>\n",
       "      <td>0.012980</td>\n",
       "      <td>-0.010158</td>\n",
       "      <td>0.003885</td>\n",
       "      <td>-0.019187</td>\n",
       "      <td>-0.016478</td>\n",
       "      <td>0.014783</td>\n",
       "      <td>0.013420</td>\n",
       "    </tr>\n",
       "    <tr>\n",
       "      <th>Hepatitis B(women)</th>\n",
       "      <td>0.002985</td>\n",
       "      <td>0.018673</td>\n",
       "      <td>-0.020615</td>\n",
       "      <td>0.003197</td>\n",
       "      <td>-0.008065</td>\n",
       "      <td>-0.041213</td>\n",
       "      <td>-0.026750</td>\n",
       "      <td>-0.008789</td>\n",
       "      <td>0.011890</td>\n",
       "      <td>1.000000</td>\n",
       "      <td>-0.018611</td>\n",
       "      <td>-0.017505</td>\n",
       "      <td>-0.039070</td>\n",
       "      <td>0.003407</td>\n",
       "      <td>0.022044</td>\n",
       "      <td>0.001149</td>\n",
       "      <td>-0.003331</td>\n",
       "      <td>-0.011603</td>\n",
       "      <td>-0.048819</td>\n",
       "      <td>-0.007610</td>\n",
       "      <td>-0.008288</td>\n",
       "      <td>-0.005867</td>\n",
       "      <td>-0.007986</td>\n",
       "    </tr>\n",
       "    <tr>\n",
       "      <th>Measles</th>\n",
       "      <td>-0.082493</td>\n",
       "      <td>-0.025493</td>\n",
       "      <td>0.007340</td>\n",
       "      <td>0.002874</td>\n",
       "      <td>0.018205</td>\n",
       "      <td>0.501128</td>\n",
       "      <td>-0.051827</td>\n",
       "      <td>-0.056596</td>\n",
       "      <td>-0.004382</td>\n",
       "      <td>-0.018611</td>\n",
       "      <td>1.000000</td>\n",
       "      <td>-0.175977</td>\n",
       "      <td>0.507809</td>\n",
       "      <td>-0.136166</td>\n",
       "      <td>-0.106241</td>\n",
       "      <td>-0.141882</td>\n",
       "      <td>0.030899</td>\n",
       "      <td>-0.076466</td>\n",
       "      <td>0.265966</td>\n",
       "      <td>0.224808</td>\n",
       "      <td>0.221072</td>\n",
       "      <td>-0.129568</td>\n",
       "      <td>-0.137225</td>\n",
       "    </tr>\n",
       "    <tr>\n",
       "      <th>BMI</th>\n",
       "      <td>0.108974</td>\n",
       "      <td>0.028350</td>\n",
       "      <td>0.017339</td>\n",
       "      <td>-0.020746</td>\n",
       "      <td>-0.011517</td>\n",
       "      <td>-0.227279</td>\n",
       "      <td>0.330408</td>\n",
       "      <td>0.228700</td>\n",
       "      <td>0.024011</td>\n",
       "      <td>-0.017505</td>\n",
       "      <td>-0.175977</td>\n",
       "      <td>1.000000</td>\n",
       "      <td>-0.237669</td>\n",
       "      <td>0.284569</td>\n",
       "      <td>0.242503</td>\n",
       "      <td>0.283147</td>\n",
       "      <td>-0.243717</td>\n",
       "      <td>0.301557</td>\n",
       "      <td>-0.072301</td>\n",
       "      <td>-0.532025</td>\n",
       "      <td>-0.538911</td>\n",
       "      <td>0.508774</td>\n",
       "      <td>0.546961</td>\n",
       "    </tr>\n",
       "    <tr>\n",
       "      <th>Under-five deaths</th>\n",
       "      <td>-0.042937</td>\n",
       "      <td>-0.040790</td>\n",
       "      <td>0.017952</td>\n",
       "      <td>0.005817</td>\n",
       "      <td>0.016146</td>\n",
       "      <td>0.996629</td>\n",
       "      <td>-0.112370</td>\n",
       "      <td>-0.087852</td>\n",
       "      <td>-0.026964</td>\n",
       "      <td>-0.039070</td>\n",
       "      <td>0.507809</td>\n",
       "      <td>-0.237669</td>\n",
       "      <td>1.000000</td>\n",
       "      <td>-0.188720</td>\n",
       "      <td>-0.130148</td>\n",
       "      <td>-0.195668</td>\n",
       "      <td>0.038062</td>\n",
       "      <td>-0.112081</td>\n",
       "      <td>0.544423</td>\n",
       "      <td>0.467789</td>\n",
       "      <td>0.472263</td>\n",
       "      <td>-0.163305</td>\n",
       "      <td>-0.209373</td>\n",
       "    </tr>\n",
       "    <tr>\n",
       "      <th>Polio</th>\n",
       "      <td>0.094158</td>\n",
       "      <td>-0.001028</td>\n",
       "      <td>0.005476</td>\n",
       "      <td>-0.006204</td>\n",
       "      <td>-0.003695</td>\n",
       "      <td>-0.170689</td>\n",
       "      <td>0.221734</td>\n",
       "      <td>0.147259</td>\n",
       "      <td>0.001616</td>\n",
       "      <td>0.003407</td>\n",
       "      <td>-0.136166</td>\n",
       "      <td>0.284569</td>\n",
       "      <td>-0.188720</td>\n",
       "      <td>1.000000</td>\n",
       "      <td>0.137330</td>\n",
       "      <td>0.673553</td>\n",
       "      <td>-0.159560</td>\n",
       "      <td>0.211976</td>\n",
       "      <td>-0.038540</td>\n",
       "      <td>-0.221823</td>\n",
       "      <td>-0.222592</td>\n",
       "      <td>0.381078</td>\n",
       "      <td>0.417866</td>\n",
       "    </tr>\n",
       "    <tr>\n",
       "      <th>Total expenditure</th>\n",
       "      <td>0.090740</td>\n",
       "      <td>0.016302</td>\n",
       "      <td>-0.007633</td>\n",
       "      <td>0.024745</td>\n",
       "      <td>0.013670</td>\n",
       "      <td>-0.128616</td>\n",
       "      <td>0.296942</td>\n",
       "      <td>0.174420</td>\n",
       "      <td>0.005009</td>\n",
       "      <td>0.022044</td>\n",
       "      <td>-0.106241</td>\n",
       "      <td>0.242503</td>\n",
       "      <td>-0.130148</td>\n",
       "      <td>0.137330</td>\n",
       "      <td>1.000000</td>\n",
       "      <td>0.152754</td>\n",
       "      <td>-0.001389</td>\n",
       "      <td>0.138364</td>\n",
       "      <td>-0.079662</td>\n",
       "      <td>-0.277101</td>\n",
       "      <td>-0.283774</td>\n",
       "      <td>0.166682</td>\n",
       "      <td>0.246384</td>\n",
       "    </tr>\n",
       "    <tr>\n",
       "      <th>Diphtheria</th>\n",
       "      <td>0.134337</td>\n",
       "      <td>0.005495</td>\n",
       "      <td>-0.012478</td>\n",
       "      <td>-0.032503</td>\n",
       "      <td>-0.011517</td>\n",
       "      <td>-0.175171</td>\n",
       "      <td>0.222020</td>\n",
       "      <td>0.143624</td>\n",
       "      <td>0.002979</td>\n",
       "      <td>0.001149</td>\n",
       "      <td>-0.141882</td>\n",
       "      <td>0.283147</td>\n",
       "      <td>-0.195668</td>\n",
       "      <td>0.673553</td>\n",
       "      <td>0.152754</td>\n",
       "      <td>1.000000</td>\n",
       "      <td>-0.164860</td>\n",
       "      <td>0.200666</td>\n",
       "      <td>-0.028444</td>\n",
       "      <td>-0.229518</td>\n",
       "      <td>-0.222743</td>\n",
       "      <td>0.401456</td>\n",
       "      <td>0.425332</td>\n",
       "    </tr>\n",
       "    <tr>\n",
       "      <th>HIV/AIDS</th>\n",
       "      <td>-0.139741</td>\n",
       "      <td>-0.052166</td>\n",
       "      <td>0.000598</td>\n",
       "      <td>0.004950</td>\n",
       "      <td>0.012221</td>\n",
       "      <td>0.025231</td>\n",
       "      <td>-0.048845</td>\n",
       "      <td>-0.097857</td>\n",
       "      <td>0.012980</td>\n",
       "      <td>-0.003331</td>\n",
       "      <td>0.030899</td>\n",
       "      <td>-0.243717</td>\n",
       "      <td>0.038062</td>\n",
       "      <td>-0.159560</td>\n",
       "      <td>-0.001389</td>\n",
       "      <td>-0.164860</td>\n",
       "      <td>1.000000</td>\n",
       "      <td>-0.136491</td>\n",
       "      <td>-0.027854</td>\n",
       "      <td>0.204064</td>\n",
       "      <td>0.207283</td>\n",
       "      <td>-0.249519</td>\n",
       "      <td>-0.220429</td>\n",
       "    </tr>\n",
       "    <tr>\n",
       "      <th>GDP</th>\n",
       "      <td>0.101620</td>\n",
       "      <td>0.032030</td>\n",
       "      <td>0.016627</td>\n",
       "      <td>-0.006924</td>\n",
       "      <td>-0.003354</td>\n",
       "      <td>-0.108427</td>\n",
       "      <td>0.354712</td>\n",
       "      <td>0.899373</td>\n",
       "      <td>-0.010158</td>\n",
       "      <td>-0.011603</td>\n",
       "      <td>-0.076466</td>\n",
       "      <td>0.301557</td>\n",
       "      <td>-0.112081</td>\n",
       "      <td>0.211976</td>\n",
       "      <td>0.138364</td>\n",
       "      <td>0.200666</td>\n",
       "      <td>-0.136491</td>\n",
       "      <td>1.000000</td>\n",
       "      <td>-0.028270</td>\n",
       "      <td>-0.285697</td>\n",
       "      <td>-0.290539</td>\n",
       "      <td>0.460341</td>\n",
       "      <td>0.448273</td>\n",
       "    </tr>\n",
       "    <tr>\n",
       "      <th>Population</th>\n",
       "      <td>0.016969</td>\n",
       "      <td>-0.008546</td>\n",
       "      <td>0.021879</td>\n",
       "      <td>0.019109</td>\n",
       "      <td>0.014957</td>\n",
       "      <td>0.556801</td>\n",
       "      <td>-0.035252</td>\n",
       "      <td>-0.025662</td>\n",
       "      <td>0.003885</td>\n",
       "      <td>-0.048819</td>\n",
       "      <td>0.265966</td>\n",
       "      <td>-0.072301</td>\n",
       "      <td>0.544423</td>\n",
       "      <td>-0.038540</td>\n",
       "      <td>-0.079662</td>\n",
       "      <td>-0.028444</td>\n",
       "      <td>-0.027854</td>\n",
       "      <td>-0.028270</td>\n",
       "      <td>1.000000</td>\n",
       "      <td>0.253944</td>\n",
       "      <td>0.251403</td>\n",
       "      <td>-0.008735</td>\n",
       "      <td>-0.031668</td>\n",
       "    </tr>\n",
       "    <tr>\n",
       "      <th>thinness  1-19 years</th>\n",
       "      <td>-0.047876</td>\n",
       "      <td>-0.035104</td>\n",
       "      <td>0.007464</td>\n",
       "      <td>0.029033</td>\n",
       "      <td>-0.003881</td>\n",
       "      <td>0.465711</td>\n",
       "      <td>-0.428795</td>\n",
       "      <td>-0.251369</td>\n",
       "      <td>-0.019187</td>\n",
       "      <td>-0.007610</td>\n",
       "      <td>0.224808</td>\n",
       "      <td>-0.532025</td>\n",
       "      <td>0.467789</td>\n",
       "      <td>-0.221823</td>\n",
       "      <td>-0.277101</td>\n",
       "      <td>-0.229518</td>\n",
       "      <td>0.204064</td>\n",
       "      <td>-0.285697</td>\n",
       "      <td>0.253944</td>\n",
       "      <td>1.000000</td>\n",
       "      <td>0.939102</td>\n",
       "      <td>-0.422429</td>\n",
       "      <td>-0.471652</td>\n",
       "    </tr>\n",
       "    <tr>\n",
       "      <th>thinness 5-9 years</th>\n",
       "      <td>-0.050929</td>\n",
       "      <td>-0.033310</td>\n",
       "      <td>0.011396</td>\n",
       "      <td>0.032541</td>\n",
       "      <td>-0.011738</td>\n",
       "      <td>0.471350</td>\n",
       "      <td>-0.417414</td>\n",
       "      <td>-0.252905</td>\n",
       "      <td>-0.016478</td>\n",
       "      <td>-0.008288</td>\n",
       "      <td>0.221072</td>\n",
       "      <td>-0.538911</td>\n",
       "      <td>0.472263</td>\n",
       "      <td>-0.222592</td>\n",
       "      <td>-0.283774</td>\n",
       "      <td>-0.222743</td>\n",
       "      <td>0.207283</td>\n",
       "      <td>-0.290539</td>\n",
       "      <td>0.251403</td>\n",
       "      <td>0.939102</td>\n",
       "      <td>1.000000</td>\n",
       "      <td>-0.411053</td>\n",
       "      <td>-0.460632</td>\n",
       "    </tr>\n",
       "    <tr>\n",
       "      <th>Income composition of resources</th>\n",
       "      <td>0.243468</td>\n",
       "      <td>0.052485</td>\n",
       "      <td>0.007768</td>\n",
       "      <td>-0.003630</td>\n",
       "      <td>-0.011726</td>\n",
       "      <td>-0.145139</td>\n",
       "      <td>0.450040</td>\n",
       "      <td>0.381952</td>\n",
       "      <td>0.014783</td>\n",
       "      <td>-0.005867</td>\n",
       "      <td>-0.129568</td>\n",
       "      <td>0.508774</td>\n",
       "      <td>-0.163305</td>\n",
       "      <td>0.381078</td>\n",
       "      <td>0.166682</td>\n",
       "      <td>0.401456</td>\n",
       "      <td>-0.249519</td>\n",
       "      <td>0.460341</td>\n",
       "      <td>-0.008735</td>\n",
       "      <td>-0.422429</td>\n",
       "      <td>-0.411053</td>\n",
       "      <td>1.000000</td>\n",
       "      <td>0.800092</td>\n",
       "    </tr>\n",
       "    <tr>\n",
       "      <th>Schooling</th>\n",
       "      <td>0.209400</td>\n",
       "      <td>0.047584</td>\n",
       "      <td>0.005856</td>\n",
       "      <td>0.005459</td>\n",
       "      <td>-0.020180</td>\n",
       "      <td>-0.193720</td>\n",
       "      <td>0.547378</td>\n",
       "      <td>0.389687</td>\n",
       "      <td>0.013420</td>\n",
       "      <td>-0.007986</td>\n",
       "      <td>-0.137225</td>\n",
       "      <td>0.546961</td>\n",
       "      <td>-0.209373</td>\n",
       "      <td>0.417866</td>\n",
       "      <td>0.246384</td>\n",
       "      <td>0.425332</td>\n",
       "      <td>-0.220429</td>\n",
       "      <td>0.448273</td>\n",
       "      <td>-0.031668</td>\n",
       "      <td>-0.471652</td>\n",
       "      <td>-0.460632</td>\n",
       "      <td>0.800092</td>\n",
       "      <td>1.000000</td>\n",
       "    </tr>\n",
       "  </tbody>\n",
       "</table>\n",
       "</div>"
      ],
      "text/plain": [
       "                                     Year  Life expectancy (men)  \\\n",
       "Year                             1.000000               0.029686   \n",
       "Life expectancy (men)            0.029686               1.000000   \n",
       "Life expectancy(women)           0.025007               0.014840   \n",
       "Adult Mortality (men)            0.028981              -0.026983   \n",
       "Adult Mortality (women)          0.003108              -0.020685   \n",
       "Infant deaths                   -0.037415              -0.039513   \n",
       "Alcohol                         -0.052990               0.011793   \n",
       "Percentage expenditure           0.031400               0.034628   \n",
       "Hepatitis B(men)                -0.001095               0.007468   \n",
       "Hepatitis B(women)               0.002985               0.018673   \n",
       "Measles                         -0.082493              -0.025493   \n",
       "BMI                              0.108974               0.028350   \n",
       "Under-five deaths               -0.042937              -0.040790   \n",
       "Polio                            0.094158              -0.001028   \n",
       "Total expenditure                0.090740               0.016302   \n",
       "Diphtheria                       0.134337               0.005495   \n",
       "HIV/AIDS                        -0.139741              -0.052166   \n",
       "GDP                              0.101620               0.032030   \n",
       "Population                       0.016969              -0.008546   \n",
       "thinness  1-19 years            -0.047876              -0.035104   \n",
       "thinness 5-9 years              -0.050929              -0.033310   \n",
       "Income composition of resources  0.243468               0.052485   \n",
       "Schooling                        0.209400               0.047584   \n",
       "\n",
       "                                 Life expectancy(women)  \\\n",
       "Year                                           0.025007   \n",
       "Life expectancy (men)                          0.014840   \n",
       "Life expectancy(women)                         1.000000   \n",
       "Adult Mortality (men)                         -0.004554   \n",
       "Adult Mortality (women)                        0.005572   \n",
       "Infant deaths                                  0.020720   \n",
       "Alcohol                                        0.010582   \n",
       "Percentage expenditure                        -0.000659   \n",
       "Hepatitis B(men)                               0.007855   \n",
       "Hepatitis B(women)                            -0.020615   \n",
       "Measles                                        0.007340   \n",
       "BMI                                            0.017339   \n",
       "Under-five deaths                              0.017952   \n",
       "Polio                                          0.005476   \n",
       "Total expenditure                             -0.007633   \n",
       "Diphtheria                                    -0.012478   \n",
       "HIV/AIDS                                       0.000598   \n",
       "GDP                                            0.016627   \n",
       "Population                                     0.021879   \n",
       "thinness  1-19 years                           0.007464   \n",
       "thinness 5-9 years                             0.011396   \n",
       "Income composition of resources                0.007768   \n",
       "Schooling                                      0.005856   \n",
       "\n",
       "                                 Adult Mortality (men)  \\\n",
       "Year                                          0.028981   \n",
       "Life expectancy (men)                        -0.026983   \n",
       "Life expectancy(women)                       -0.004554   \n",
       "Adult Mortality (men)                         1.000000   \n",
       "Adult Mortality (women)                      -0.001477   \n",
       "Infant deaths                                 0.005961   \n",
       "Alcohol                                       0.007776   \n",
       "Percentage expenditure                        0.003354   \n",
       "Hepatitis B(men)                              0.053917   \n",
       "Hepatitis B(women)                            0.003197   \n",
       "Measles                                       0.002874   \n",
       "BMI                                          -0.020746   \n",
       "Under-five deaths                             0.005817   \n",
       "Polio                                        -0.006204   \n",
       "Total expenditure                             0.024745   \n",
       "Diphtheria                                   -0.032503   \n",
       "HIV/AIDS                                      0.004950   \n",
       "GDP                                          -0.006924   \n",
       "Population                                    0.019109   \n",
       "thinness  1-19 years                          0.029033   \n",
       "thinness 5-9 years                            0.032541   \n",
       "Income composition of resources              -0.003630   \n",
       "Schooling                                     0.005459   \n",
       "\n",
       "                                 Adult Mortality (women)  Infant deaths  \\\n",
       "Year                                            0.003108      -0.037415   \n",
       "Life expectancy (men)                          -0.020685      -0.039513   \n",
       "Life expectancy(women)                          0.005572       0.020720   \n",
       "Adult Mortality (men)                          -0.001477       0.005961   \n",
       "Adult Mortality (women)                         1.000000       0.013952   \n",
       "Infant deaths                                   0.013952       1.000000   \n",
       "Alcohol                                         0.039409      -0.115638   \n",
       "Percentage expenditure                         -0.010508      -0.085612   \n",
       "Hepatitis B(men)                               -0.000347      -0.027793   \n",
       "Hepatitis B(women)                             -0.008065      -0.041213   \n",
       "Measles                                         0.018205       0.501128   \n",
       "BMI                                            -0.011517      -0.227279   \n",
       "Under-five deaths                               0.016146       0.996629   \n",
       "Polio                                          -0.003695      -0.170689   \n",
       "Total expenditure                               0.013670      -0.128616   \n",
       "Diphtheria                                     -0.011517      -0.175171   \n",
       "HIV/AIDS                                        0.012221       0.025231   \n",
       "GDP                                            -0.003354      -0.108427   \n",
       "Population                                      0.014957       0.556801   \n",
       "thinness  1-19 years                           -0.003881       0.465711   \n",
       "thinness 5-9 years                             -0.011738       0.471350   \n",
       "Income composition of resources                -0.011726      -0.145139   \n",
       "Schooling                                      -0.020180      -0.193720   \n",
       "\n",
       "                                  Alcohol  Percentage expenditure  \\\n",
       "Year                            -0.052990                0.031400   \n",
       "Life expectancy (men)            0.011793                0.034628   \n",
       "Life expectancy(women)           0.010582               -0.000659   \n",
       "Adult Mortality (men)            0.007776                0.003354   \n",
       "Adult Mortality (women)          0.039409               -0.010508   \n",
       "Infant deaths                   -0.115638               -0.085612   \n",
       "Alcohol                          1.000000                0.341285   \n",
       "Percentage expenditure           0.341285                1.000000   \n",
       "Hepatitis B(men)                 0.005651               -0.012657   \n",
       "Hepatitis B(women)              -0.026750               -0.008789   \n",
       "Measles                         -0.051827               -0.056596   \n",
       "BMI                              0.330408                0.228700   \n",
       "Under-five deaths               -0.112370               -0.087852   \n",
       "Polio                            0.221734                0.147259   \n",
       "Total expenditure                0.296942                0.174420   \n",
       "Diphtheria                       0.222020                0.143624   \n",
       "HIV/AIDS                        -0.048845               -0.097857   \n",
       "GDP                              0.354712                0.899373   \n",
       "Population                      -0.035252               -0.025662   \n",
       "thinness  1-19 years            -0.428795               -0.251369   \n",
       "thinness 5-9 years              -0.417414               -0.252905   \n",
       "Income composition of resources  0.450040                0.381952   \n",
       "Schooling                        0.547378                0.389687   \n",
       "\n",
       "                                 Hepatitis B(men)  Hepatitis B(women)  \\\n",
       "Year                                    -0.001095            0.002985   \n",
       "Life expectancy (men)                    0.007468            0.018673   \n",
       "Life expectancy(women)                   0.007855           -0.020615   \n",
       "Adult Mortality (men)                    0.053917            0.003197   \n",
       "Adult Mortality (women)                 -0.000347           -0.008065   \n",
       "Infant deaths                           -0.027793           -0.041213   \n",
       "Alcohol                                  0.005651           -0.026750   \n",
       "Percentage expenditure                  -0.012657           -0.008789   \n",
       "Hepatitis B(men)                         1.000000            0.011890   \n",
       "Hepatitis B(women)                       0.011890            1.000000   \n",
       "Measles                                 -0.004382           -0.018611   \n",
       "BMI                                      0.024011           -0.017505   \n",
       "Under-five deaths                       -0.026964           -0.039070   \n",
       "Polio                                    0.001616            0.003407   \n",
       "Total expenditure                        0.005009            0.022044   \n",
       "Diphtheria                               0.002979            0.001149   \n",
       "HIV/AIDS                                 0.012980           -0.003331   \n",
       "GDP                                     -0.010158           -0.011603   \n",
       "Population                               0.003885           -0.048819   \n",
       "thinness  1-19 years                    -0.019187           -0.007610   \n",
       "thinness 5-9 years                      -0.016478           -0.008288   \n",
       "Income composition of resources          0.014783           -0.005867   \n",
       "Schooling                                0.013420           -0.007986   \n",
       "\n",
       "                                  Measles       BMI  Under-five deaths  \\\n",
       "Year                            -0.082493  0.108974          -0.042937   \n",
       "Life expectancy (men)           -0.025493  0.028350          -0.040790   \n",
       "Life expectancy(women)           0.007340  0.017339           0.017952   \n",
       "Adult Mortality (men)            0.002874 -0.020746           0.005817   \n",
       "Adult Mortality (women)          0.018205 -0.011517           0.016146   \n",
       "Infant deaths                    0.501128 -0.227279           0.996629   \n",
       "Alcohol                         -0.051827  0.330408          -0.112370   \n",
       "Percentage expenditure          -0.056596  0.228700          -0.087852   \n",
       "Hepatitis B(men)                -0.004382  0.024011          -0.026964   \n",
       "Hepatitis B(women)              -0.018611 -0.017505          -0.039070   \n",
       "Measles                          1.000000 -0.175977           0.507809   \n",
       "BMI                             -0.175977  1.000000          -0.237669   \n",
       "Under-five deaths                0.507809 -0.237669           1.000000   \n",
       "Polio                           -0.136166  0.284569          -0.188720   \n",
       "Total expenditure               -0.106241  0.242503          -0.130148   \n",
       "Diphtheria                      -0.141882  0.283147          -0.195668   \n",
       "HIV/AIDS                         0.030899 -0.243717           0.038062   \n",
       "GDP                             -0.076466  0.301557          -0.112081   \n",
       "Population                       0.265966 -0.072301           0.544423   \n",
       "thinness  1-19 years             0.224808 -0.532025           0.467789   \n",
       "thinness 5-9 years               0.221072 -0.538911           0.472263   \n",
       "Income composition of resources -0.129568  0.508774          -0.163305   \n",
       "Schooling                       -0.137225  0.546961          -0.209373   \n",
       "\n",
       "                                    Polio  Total expenditure  Diphtheria   \\\n",
       "Year                             0.094158           0.090740     0.134337   \n",
       "Life expectancy (men)           -0.001028           0.016302     0.005495   \n",
       "Life expectancy(women)           0.005476          -0.007633    -0.012478   \n",
       "Adult Mortality (men)           -0.006204           0.024745    -0.032503   \n",
       "Adult Mortality (women)         -0.003695           0.013670    -0.011517   \n",
       "Infant deaths                   -0.170689          -0.128616    -0.175171   \n",
       "Alcohol                          0.221734           0.296942     0.222020   \n",
       "Percentage expenditure           0.147259           0.174420     0.143624   \n",
       "Hepatitis B(men)                 0.001616           0.005009     0.002979   \n",
       "Hepatitis B(women)               0.003407           0.022044     0.001149   \n",
       "Measles                         -0.136166          -0.106241    -0.141882   \n",
       "BMI                              0.284569           0.242503     0.283147   \n",
       "Under-five deaths               -0.188720          -0.130148    -0.195668   \n",
       "Polio                            1.000000           0.137330     0.673553   \n",
       "Total expenditure                0.137330           1.000000     0.152754   \n",
       "Diphtheria                       0.673553           0.152754     1.000000   \n",
       "HIV/AIDS                        -0.159560          -0.001389    -0.164860   \n",
       "GDP                              0.211976           0.138364     0.200666   \n",
       "Population                      -0.038540          -0.079662    -0.028444   \n",
       "thinness  1-19 years            -0.221823          -0.277101    -0.229518   \n",
       "thinness 5-9 years              -0.222592          -0.283774    -0.222743   \n",
       "Income composition of resources  0.381078           0.166682     0.401456   \n",
       "Schooling                        0.417866           0.246384     0.425332   \n",
       "\n",
       "                                 HIV/AIDS       GDP  Population  \\\n",
       "Year                            -0.139741  0.101620    0.016969   \n",
       "Life expectancy (men)           -0.052166  0.032030   -0.008546   \n",
       "Life expectancy(women)           0.000598  0.016627    0.021879   \n",
       "Adult Mortality (men)            0.004950 -0.006924    0.019109   \n",
       "Adult Mortality (women)          0.012221 -0.003354    0.014957   \n",
       "Infant deaths                    0.025231 -0.108427    0.556801   \n",
       "Alcohol                         -0.048845  0.354712   -0.035252   \n",
       "Percentage expenditure          -0.097857  0.899373   -0.025662   \n",
       "Hepatitis B(men)                 0.012980 -0.010158    0.003885   \n",
       "Hepatitis B(women)              -0.003331 -0.011603   -0.048819   \n",
       "Measles                          0.030899 -0.076466    0.265966   \n",
       "BMI                             -0.243717  0.301557   -0.072301   \n",
       "Under-five deaths                0.038062 -0.112081    0.544423   \n",
       "Polio                           -0.159560  0.211976   -0.038540   \n",
       "Total expenditure               -0.001389  0.138364   -0.079662   \n",
       "Diphtheria                      -0.164860  0.200666   -0.028444   \n",
       "HIV/AIDS                         1.000000 -0.136491   -0.027854   \n",
       "GDP                             -0.136491  1.000000   -0.028270   \n",
       "Population                      -0.027854 -0.028270    1.000000   \n",
       "thinness  1-19 years             0.204064 -0.285697    0.253944   \n",
       "thinness 5-9 years               0.207283 -0.290539    0.251403   \n",
       "Income composition of resources -0.249519  0.460341   -0.008735   \n",
       "Schooling                       -0.220429  0.448273   -0.031668   \n",
       "\n",
       "                                 thinness  1-19 years  thinness 5-9 years  \\\n",
       "Year                                        -0.047876           -0.050929   \n",
       "Life expectancy (men)                       -0.035104           -0.033310   \n",
       "Life expectancy(women)                       0.007464            0.011396   \n",
       "Adult Mortality (men)                        0.029033            0.032541   \n",
       "Adult Mortality (women)                     -0.003881           -0.011738   \n",
       "Infant deaths                                0.465711            0.471350   \n",
       "Alcohol                                     -0.428795           -0.417414   \n",
       "Percentage expenditure                      -0.251369           -0.252905   \n",
       "Hepatitis B(men)                            -0.019187           -0.016478   \n",
       "Hepatitis B(women)                          -0.007610           -0.008288   \n",
       "Measles                                      0.224808            0.221072   \n",
       "BMI                                         -0.532025           -0.538911   \n",
       "Under-five deaths                            0.467789            0.472263   \n",
       "Polio                                       -0.221823           -0.222592   \n",
       "Total expenditure                           -0.277101           -0.283774   \n",
       "Diphtheria                                  -0.229518           -0.222743   \n",
       "HIV/AIDS                                     0.204064            0.207283   \n",
       "GDP                                         -0.285697           -0.290539   \n",
       "Population                                   0.253944            0.251403   \n",
       "thinness  1-19 years                         1.000000            0.939102   \n",
       "thinness 5-9 years                           0.939102            1.000000   \n",
       "Income composition of resources             -0.422429           -0.411053   \n",
       "Schooling                                   -0.471652           -0.460632   \n",
       "\n",
       "                                 Income composition of resources  Schooling  \n",
       "Year                                                    0.243468   0.209400  \n",
       "Life expectancy (men)                                   0.052485   0.047584  \n",
       "Life expectancy(women)                                  0.007768   0.005856  \n",
       "Adult Mortality (men)                                  -0.003630   0.005459  \n",
       "Adult Mortality (women)                                -0.011726  -0.020180  \n",
       "Infant deaths                                          -0.145139  -0.193720  \n",
       "Alcohol                                                 0.450040   0.547378  \n",
       "Percentage expenditure                                  0.381952   0.389687  \n",
       "Hepatitis B(men)                                        0.014783   0.013420  \n",
       "Hepatitis B(women)                                     -0.005867  -0.007986  \n",
       "Measles                                                -0.129568  -0.137225  \n",
       "BMI                                                     0.508774   0.546961  \n",
       "Under-five deaths                                      -0.163305  -0.209373  \n",
       "Polio                                                   0.381078   0.417866  \n",
       "Total expenditure                                       0.166682   0.246384  \n",
       "Diphtheria                                              0.401456   0.425332  \n",
       "HIV/AIDS                                               -0.249519  -0.220429  \n",
       "GDP                                                     0.460341   0.448273  \n",
       "Population                                             -0.008735  -0.031668  \n",
       "thinness  1-19 years                                   -0.422429  -0.471652  \n",
       "thinness 5-9 years                                     -0.411053  -0.460632  \n",
       "Income composition of resources                         1.000000   0.800092  \n",
       "Schooling                                               0.800092   1.000000  "
      ]
     },
     "execution_count": 39,
     "metadata": {},
     "output_type": "execute_result"
    }
   ],
   "source": [
    "corr = df.drop(columns=df[df.select_dtypes('object').columns]).corr()\n",
    "corr"
   ]
  },
  {
   "cell_type": "code",
   "execution_count": 43,
   "metadata": {},
   "outputs": [
    {
     "data": {
      "image/png": "[encoded data removed]",
      "text/plain": [
       "<Figure size 1200x800 with 2 Axes>"
      ]
     },
     "metadata": {},
     "output_type": "display_data"
    }
   ],
   "source": [
    "mask = np.triu(np.ones_like(corr))\n",
    "\n",
    "plt.figure(figsize=(12, 8))\n",
    "\n",
    "sns.heatmap(corr, mask=mask, \n",
    "            annot=True,  # Adicionar os valores internos\n",
    "            fmt='.1f',)\n",
    "\n",
    "plt.show()"
   ]
  }
 ],
 "metadata": {
  "kernelspec": {
   "display_name": "Meu Kernel",
   "language": "python",
   "name": "meu_kernel"
  },
  "language_info": {
   "codemirror_mode": {
    "name": "ipython",
    "version": 3
   },
   "file_extension": ".py",
   "mimetype": "text/x-python",
   "name": "python",
   "nbconvert_exporter": "python",
   "pygments_lexer": "ipython3",
   "version": "3.12.4"
  }
 },
 "nbformat": 4,
 "nbformat_minor": 2
}
