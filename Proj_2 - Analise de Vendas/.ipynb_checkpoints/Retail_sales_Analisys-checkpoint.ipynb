{
 "cells": [
  {
   "cell_type": "markdown",
   "id": "0fd2e2fc-c601-4a53-917c-3df69763deb0",
   "metadata": {},
   "source": [
    "# Retail Sales Data Analysis\n",
    "\n",
    "![Imagem 1](https://storage.googleapis.com/kaggle-datasets-images/3655505/6347913/78fec3d6d2c81294346fa618ba0caf00/dataset-cover.jpg?t=2023-08-22-18-40-05)\n",
    "\n",
    "Esse  Notebook, contém a analise de dados feito em Vendas de retalho, com objectivo de saber mais sobre as vendas, e sobre os tipos de clientes que mais compram esses produtos.\n",
    "\n",
    "O Dataset pertence ao tipo de licença de dominio publico `CC0: Public Domain`, que está disponível para Download na plataforma [Keagle - Retail Sales Dataset](https://www.kaggle.com/datasets/mohammadtalib786/retail-sales-dataset/data?select=retail_sales_dataset.csv), criado por __*MOHAMMAD TALIB*__. O Dataset contém os seguintes atributos:\n",
    "\n",
    "- Transaction ID: Um identificador exclusivo para cada transação, permitindo rastreamento e referência.\n",
    "- Date: A data em que a transação ocorreu, fornecendo insights sobre as tendências de vendas ao longo do tempo.\n",
    "- Customer ID: um identificador exclusivo para cada cliente, permitindo uma análise centrada no cliente.\n",
    "- Gender: O gênero do cliente (masculino/feminino), oferecendo insights sobre padrões de compra baseados em gênero.\n",
    "- Age: A idade do cliente, facilitando a segmentação e exploração de influências relacionadas à idade.\n",
    "- Product Category: a categoria do produto adquirido (por exemplo, eletrônicos, roupas, beleza), ajudando a entender as preferências do produto.\n",
    "- Quantity: Quantidade de unidades do produto adquiridas, contribuindo para insights sobre volumes de compras.\n",
    "- Price per Unit: O preço de uma unidade do produto, auxiliando nos cálculos relativos ao gasto total.\n",
    "- Total Amount: O valor monetário total da transação, mostrando o impacto financeiro de cada compra.\n",
    "\n",
    "O Autor deste dataset, dispõem algumas perguntas que podemos fazer ao Conjunto de dados, e que iremos responder, que são:\n",
    "\n",
    "1. Como a idade e o sexo do cliente influenciam seu comportamento de compra?\n",
    "2. Existem padrões discerníveis nas vendas em diferentes períodos de tempo?\n",
    "3. Quais categorias de produtos têm maior apelo entre os clientes?\n",
    "4. Quais são as relações entre idade, gastos e preferências de produto?\n",
    "5. Como os clientes adaptam seus hábitos de compra durante as tendências sazonais?\n",
    "6. Existem comportamentos de compra distintos com base no número de itens adquiridos por transação?\n",
    "7. Que insights podem ser obtidos a partir da distribuição dos preços dos produtos dentro de cada categoria?\n",
    "\n",
    "Muitas outras perguntas poderam aparecer no decorrer da Analise do conjunto de dados, tais como:\n",
    "1. Avalie a frequência de compra dos clientes ao longo do tempo.\n",
    "2. Analise se existe uma relação entre a idade e a fidelidade do cliente.\n",
    "3. Identifique oportunidades para programas de fidelidade com base nos padrões de compra.\n",
    "\n",
    "---\n",
    "## Carregando os Dados\n",
    "\n",
    "Nesta etapa vamos carregar os dados que no nosso  projecto, é proveniente de um arquivo CSV (poderia ser em um outro formato), carregar as bibliotecas principais para a nossa analise, e as demais vão ser adicionadas a medida que se fizerem necessarias ao longo do projecto."
   ]
  },
  {
   "cell_type": "code",
   "execution_count": 4,
   "id": "173e5490-8a35-47ef-89c7-46e69d88c2ad",
   "metadata": {},
   "outputs": [],
   "source": [
    "# importando os modulos principais\n",
    "import numpy as np\n",
    "import pandas as pd\n",
    "import matplotlib.pyplot as plt\n",
    "import seaborn as sns\n",
    "import os\n",
    "\n",
    "%matplotlib inline"
   ]
  },
  {
   "cell_type": "code",
   "execution_count": 8,
   "id": "2dd3358c-70f1-4a5d-a24d-933273b37e25",
   "metadata": {},
   "outputs": [],
   "source": [
    "# Carregando o ficheiro do sistema\n",
    "try:\n",
    "    itens = os.listdir('dataset')\n",
    "\n",
    "    for item in itens:\n",
    "        fullpath = os.path.join('dataset',item) # esse bloco funciona apenas se tiver um ficheiro de dados dentro da pasta, se tiver mais, modifique o código\n",
    "except FileNotFoundError:\n",
    "        print(f\"A pasta '{caminho_da_pasta}' não foi encontrada.\")\n",
    "except Exception as e:\n",
    "        print(f\"Ocorreu um erro: {e}\")"
   ]
  },
  {
   "cell_type": "code",
   "execution_count": 9,
   "id": "f4df92bf-45fe-46c9-9e87-620f9a6de028",
   "metadata": {},
   "outputs": [
    {
     "data": {
      "text/html": [
       "<div>\n",
       "<style scoped>\n",
       "    .dataframe tbody tr th:only-of-type {\n",
       "        vertical-align: middle;\n",
       "    }\n",
       "\n",
       "    .dataframe tbody tr th {\n",
       "        vertical-align: top;\n",
       "    }\n",
       "\n",
       "    .dataframe thead th {\n",
       "        text-align: right;\n",
       "    }\n",
       "</style>\n",
       "<table border=\"1\" class=\"dataframe\">\n",
       "  <thead>\n",
       "    <tr style=\"text-align: right;\">\n",
       "      <th></th>\n",
       "      <th>Transaction ID</th>\n",
       "      <th>Date</th>\n",
       "      <th>Customer ID</th>\n",
       "      <th>Gender</th>\n",
       "      <th>Age</th>\n",
       "      <th>Product Category</th>\n",
       "      <th>Quantity</th>\n",
       "      <th>Price per Unit</th>\n",
       "      <th>Total Amount</th>\n",
       "    </tr>\n",
       "  </thead>\n",
       "  <tbody>\n",
       "    <tr>\n",
       "      <th>0</th>\n",
       "      <td>1</td>\n",
       "      <td>2023-11-24</td>\n",
       "      <td>CUST001</td>\n",
       "      <td>Male</td>\n",
       "      <td>34</td>\n",
       "      <td>Beauty</td>\n",
       "      <td>3</td>\n",
       "      <td>50</td>\n",
       "      <td>150</td>\n",
       "    </tr>\n",
       "    <tr>\n",
       "      <th>1</th>\n",
       "      <td>2</td>\n",
       "      <td>2023-02-27</td>\n",
       "      <td>CUST002</td>\n",
       "      <td>Female</td>\n",
       "      <td>26</td>\n",
       "      <td>Clothing</td>\n",
       "      <td>2</td>\n",
       "      <td>500</td>\n",
       "      <td>1000</td>\n",
       "    </tr>\n",
       "    <tr>\n",
       "      <th>2</th>\n",
       "      <td>3</td>\n",
       "      <td>2023-01-13</td>\n",
       "      <td>CUST003</td>\n",
       "      <td>Male</td>\n",
       "      <td>50</td>\n",
       "      <td>Electronics</td>\n",
       "      <td>1</td>\n",
       "      <td>30</td>\n",
       "      <td>30</td>\n",
       "    </tr>\n",
       "    <tr>\n",
       "      <th>3</th>\n",
       "      <td>4</td>\n",
       "      <td>2023-05-21</td>\n",
       "      <td>CUST004</td>\n",
       "      <td>Male</td>\n",
       "      <td>37</td>\n",
       "      <td>Clothing</td>\n",
       "      <td>1</td>\n",
       "      <td>500</td>\n",
       "      <td>500</td>\n",
       "    </tr>\n",
       "    <tr>\n",
       "      <th>4</th>\n",
       "      <td>5</td>\n",
       "      <td>2023-05-06</td>\n",
       "      <td>CUST005</td>\n",
       "      <td>Male</td>\n",
       "      <td>30</td>\n",
       "      <td>Beauty</td>\n",
       "      <td>2</td>\n",
       "      <td>50</td>\n",
       "      <td>100</td>\n",
       "    </tr>\n",
       "  </tbody>\n",
       "</table>\n",
       "</div>"
      ],
      "text/plain": [
       "   Transaction ID        Date Customer ID  Gender  Age Product Category  \\\n",
       "0               1  2023-11-24     CUST001    Male   34           Beauty   \n",
       "1               2  2023-02-27     CUST002  Female   26         Clothing   \n",
       "2               3  2023-01-13     CUST003    Male   50      Electronics   \n",
       "3               4  2023-05-21     CUST004    Male   37         Clothing   \n",
       "4               5  2023-05-06     CUST005    Male   30           Beauty   \n",
       "\n",
       "   Quantity  Price per Unit  Total Amount  \n",
       "0         3              50           150  \n",
       "1         2             500          1000  \n",
       "2         1              30            30  \n",
       "3         1             500           500  \n",
       "4         2              50           100  "
      ]
     },
     "execution_count": 9,
     "metadata": {},
     "output_type": "execute_result"
    }
   ],
   "source": [
    "# importando o conjunto de dados\n",
    "retail_sales = pd.read_csv(fullpath)\n",
    "# Mostrando os 5 top elementos dos conjunto de dados\n",
    "retail_sales.head()"
   ]
  },
  {
   "cell_type": "markdown",
   "id": "77717192-6445-42b4-b93d-38b69ee2f571",
   "metadata": {},
   "source": [
    "## Explorando os dados\n",
    "\n",
    "Nesta etapa vamos explorar o conjunto de dados, buscando ver o tipo de dados, se temos valores nulos, ou duplicados, e como estão distribuido alguns tipos de dados."
   ]
  },
  {
   "cell_type": "code",
   "execution_count": 11,
   "id": "f460fb85-8a46-4b17-9d2b-2848be08a092",
   "metadata": {},
   "outputs": [
    {
     "name": "stdout",
     "output_type": "stream",
     "text": [
      "O Dataset tem 1000 linhas e 9 colunas\n"
     ]
    }
   ],
   "source": [
    "# Verificando a dimensão do conjunto de dados\n",
    "print(f\"O Dataset tem {retail_sales.shape[0]} linhas e {retail_sales.shape[1]} colunas\") "
   ]
  },
  {
   "cell_type": "markdown",
   "id": "7d323db2-ba21-40a1-9429-bd953fb877b1",
   "metadata": {},
   "source": [
    "Como podemos ver acima, o nosso conjunto de dados, possui 1000 linhas de dados, e 9 atributos, que estão descrito acima neste **notebook**."
   ]
  },
  {
   "cell_type": "code",
   "execution_count": 12,
   "id": "9ee6f521-140a-489f-827e-41ba590c4b3d",
   "metadata": {},
   "outputs": [
    {
     "data": {
      "text/plain": [
       "Index(['Transaction ID', 'Date', 'Customer ID', 'Gender', 'Age',\n",
       "       'Product Category', 'Quantity', 'Price per Unit', 'Total Amount'],\n",
       "      dtype='object')"
      ]
     },
     "execution_count": 12,
     "metadata": {},
     "output_type": "execute_result"
    }
   ],
   "source": [
    "# Verificando os nomes das colunas\n",
    "retail_sales.columns"
   ]
  },
  {
   "cell_type": "code",
   "execution_count": 13,
   "id": "362ab9ea-a67f-420c-97f3-d94d07425ff1",
   "metadata": {},
   "outputs": [
    {
     "name": "stdout",
     "output_type": "stream",
     "text": [
      "<class 'pandas.core.frame.DataFrame'>\n",
      "RangeIndex: 1000 entries, 0 to 999\n",
      "Data columns (total 9 columns):\n",
      " #   Column            Non-Null Count  Dtype \n",
      "---  ------            --------------  ----- \n",
      " 0   Transaction ID    1000 non-null   int64 \n",
      " 1   Date              1000 non-null   object\n",
      " 2   Customer ID       1000 non-null   object\n",
      " 3   Gender            1000 non-null   object\n",
      " 4   Age               1000 non-null   int64 \n",
      " 5   Product Category  1000 non-null   object\n",
      " 6   Quantity          1000 non-null   int64 \n",
      " 7   Price per Unit    1000 non-null   int64 \n",
      " 8   Total Amount      1000 non-null   int64 \n",
      "dtypes: int64(5), object(4)\n",
      "memory usage: 70.4+ KB\n"
     ]
    }
   ],
   "source": [
    "# Verificando informações basica sobre os dados\n",
    "retail_sales.info()"
   ]
  },
  {
   "cell_type": "markdown",
   "id": "e8660c59-c16c-4534-832e-f47a8dde2043",
   "metadata": {},
   "source": [
    "Como podemos notar acima, temos 9 colunas, e cada coluna possui 1000 informações, na qual podemos ver que não temos valores nulos para cada coluna no nosso conjunto de dados. Podemos aferir também que temos 2 tipos de dados principais, Valores inteiros e valores de texto (object), e se prestarmos atenção a data da venda do produto não deveria ser de tipo object, o que quer dizer que devemos fazer a mudança desse tipo de dados."
   ]
  },
  {
   "cell_type": "code",
   "execution_count": null,
   "id": "19d9c475-cb6d-4214-ae11-4744833b47b9",
   "metadata": {},
   "outputs": [],
   "source": []
  }
 ],
 "metadata": {
  "kernelspec": {
   "display_name": "Python 3 (ipykernel)",
   "language": "python",
   "name": "python3"
  },
  "language_info": {
   "codemirror_mode": {
    "name": "ipython",
    "version": 3
   },
   "file_extension": ".py",
   "mimetype": "text/x-python",
   "name": "python",
   "nbconvert_exporter": "python",
   "pygments_lexer": "ipython3",
   "version": "3.10.9"
  }
 },
 "nbformat": 4,
 "nbformat_minor": 5
}
